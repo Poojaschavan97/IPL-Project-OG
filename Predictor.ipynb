{
 "cells": [
  {
   "cell_type": "code",
   "execution_count": 3,
   "id": "31a81cb4-9810-413a-9956-8e1baa512dc0",
   "metadata": {},
   "outputs": [],
   "source": [
    "# Importing essential libraries\n",
    "\n",
    "# Data Gathering \n",
    "import pandas as pd\n",
    "import numpy as np\n",
    "\n",
    "# Data Visualization\n",
    "import seaborn as sns\n",
    "\n"
   ]
  },
  {
   "cell_type": "markdown",
   "id": "ee960362-c923-4ce3-b2a8-ca88a8aafd76",
   "metadata": {},
   "source": [
    "#### Data Gathering "
   ]
  },
  {
   "cell_type": "code",
   "execution_count": 174,
   "id": "49c786d1-3129-4d4d-9c9a-d5ec9033f93a",
   "metadata": {},
   "outputs": [
    {
     "data": {
      "text/html": [
       "<div>\n",
       "<style scoped>\n",
       "    .dataframe tbody tr th:only-of-type {\n",
       "        vertical-align: middle;\n",
       "    }\n",
       "\n",
       "    .dataframe tbody tr th {\n",
       "        vertical-align: top;\n",
       "    }\n",
       "\n",
       "    .dataframe thead th {\n",
       "        text-align: right;\n",
       "    }\n",
       "</style>\n",
       "<table border=\"1\" class=\"dataframe\">\n",
       "  <thead>\n",
       "    <tr style=\"text-align: right;\">\n",
       "      <th></th>\n",
       "      <th>match_id</th>\n",
       "      <th>inning</th>\n",
       "      <th>batting_team</th>\n",
       "      <th>bowling_team</th>\n",
       "      <th>over</th>\n",
       "      <th>ball</th>\n",
       "      <th>batter</th>\n",
       "      <th>bowler</th>\n",
       "      <th>non_striker</th>\n",
       "      <th>batsman_runs</th>\n",
       "      <th>extra_runs</th>\n",
       "      <th>total_runs</th>\n",
       "      <th>extras_type</th>\n",
       "      <th>is_wicket</th>\n",
       "      <th>player_dismissed</th>\n",
       "      <th>dismissal_kind</th>\n",
       "      <th>fielder</th>\n",
       "    </tr>\n",
       "  </thead>\n",
       "  <tbody>\n",
       "    <tr>\n",
       "      <th>41911</th>\n",
       "      <td>501199</td>\n",
       "      <td>1</td>\n",
       "      <td>Deccan Chargers</td>\n",
       "      <td>Rajasthan Royals</td>\n",
       "      <td>12</td>\n",
       "      <td>2</td>\n",
       "      <td>JP Duminy</td>\n",
       "      <td>SK Warne</td>\n",
       "      <td>DT Christian</td>\n",
       "      <td>0</td>\n",
       "      <td>0</td>\n",
       "      <td>0</td>\n",
       "      <td>NaN</td>\n",
       "      <td>0</td>\n",
       "      <td>NaN</td>\n",
       "      <td>NaN</td>\n",
       "      <td>NaN</td>\n",
       "    </tr>\n",
       "    <tr>\n",
       "      <th>2809</th>\n",
       "      <td>335993</td>\n",
       "      <td>2</td>\n",
       "      <td>Chennai Super Kings</td>\n",
       "      <td>Kolkata Knight Riders</td>\n",
       "      <td>12</td>\n",
       "      <td>2</td>\n",
       "      <td>MS Dhoni</td>\n",
       "      <td>LR Shukla</td>\n",
       "      <td>ML Hayden</td>\n",
       "      <td>0</td>\n",
       "      <td>0</td>\n",
       "      <td>0</td>\n",
       "      <td>NaN</td>\n",
       "      <td>0</td>\n",
       "      <td>NaN</td>\n",
       "      <td>NaN</td>\n",
       "      <td>NaN</td>\n",
       "    </tr>\n",
       "    <tr>\n",
       "      <th>164904</th>\n",
       "      <td>1175356</td>\n",
       "      <td>2</td>\n",
       "      <td>Chennai Super Kings</td>\n",
       "      <td>Royal Challengers Bangalore</td>\n",
       "      <td>8</td>\n",
       "      <td>6</td>\n",
       "      <td>AT Rayudu</td>\n",
       "      <td>UT Yadav</td>\n",
       "      <td>SK Raina</td>\n",
       "      <td>0</td>\n",
       "      <td>0</td>\n",
       "      <td>0</td>\n",
       "      <td>NaN</td>\n",
       "      <td>0</td>\n",
       "      <td>NaN</td>\n",
       "      <td>NaN</td>\n",
       "      <td>NaN</td>\n",
       "    </tr>\n",
       "    <tr>\n",
       "      <th>112676</th>\n",
       "      <td>829735</td>\n",
       "      <td>2</td>\n",
       "      <td>Rajasthan Royals</td>\n",
       "      <td>Chennai Super Kings</td>\n",
       "      <td>6</td>\n",
       "      <td>2</td>\n",
       "      <td>SR Watson</td>\n",
       "      <td>RA Jadeja</td>\n",
       "      <td>AM Rahane</td>\n",
       "      <td>0</td>\n",
       "      <td>0</td>\n",
       "      <td>0</td>\n",
       "      <td>NaN</td>\n",
       "      <td>0</td>\n",
       "      <td>NaN</td>\n",
       "      <td>NaN</td>\n",
       "      <td>NaN</td>\n",
       "    </tr>\n",
       "    <tr>\n",
       "      <th>144978</th>\n",
       "      <td>1082627</td>\n",
       "      <td>1</td>\n",
       "      <td>Sunrisers Hyderabad</td>\n",
       "      <td>Kolkata Knight Riders</td>\n",
       "      <td>18</td>\n",
       "      <td>7</td>\n",
       "      <td>KS Williamson</td>\n",
       "      <td>CR Woakes</td>\n",
       "      <td>Yuvraj Singh</td>\n",
       "      <td>4</td>\n",
       "      <td>0</td>\n",
       "      <td>4</td>\n",
       "      <td>NaN</td>\n",
       "      <td>0</td>\n",
       "      <td>NaN</td>\n",
       "      <td>NaN</td>\n",
       "      <td>NaN</td>\n",
       "    </tr>\n",
       "    <tr>\n",
       "      <th>77644</th>\n",
       "      <td>598003</td>\n",
       "      <td>1</td>\n",
       "      <td>Pune Warriors</td>\n",
       "      <td>Kings XI Punjab</td>\n",
       "      <td>8</td>\n",
       "      <td>1</td>\n",
       "      <td>LRPL Taylor</td>\n",
       "      <td>PP Chawla</td>\n",
       "      <td>RV Uthappa</td>\n",
       "      <td>0</td>\n",
       "      <td>0</td>\n",
       "      <td>0</td>\n",
       "      <td>NaN</td>\n",
       "      <td>0</td>\n",
       "      <td>NaN</td>\n",
       "      <td>NaN</td>\n",
       "      <td>NaN</td>\n",
       "    </tr>\n",
       "    <tr>\n",
       "      <th>101385</th>\n",
       "      <td>733987</td>\n",
       "      <td>2</td>\n",
       "      <td>Chennai Super Kings</td>\n",
       "      <td>Kings XI Punjab</td>\n",
       "      <td>5</td>\n",
       "      <td>5</td>\n",
       "      <td>BB McCullum</td>\n",
       "      <td>Sandeep Sharma</td>\n",
       "      <td>SK Raina</td>\n",
       "      <td>1</td>\n",
       "      <td>0</td>\n",
       "      <td>1</td>\n",
       "      <td>NaN</td>\n",
       "      <td>0</td>\n",
       "      <td>NaN</td>\n",
       "      <td>NaN</td>\n",
       "      <td>NaN</td>\n",
       "    </tr>\n",
       "  </tbody>\n",
       "</table>\n",
       "</div>"
      ],
      "text/plain": [
       "        match_id  inning         batting_team                 bowling_team  \\\n",
       "41911     501199       1      Deccan Chargers             Rajasthan Royals   \n",
       "2809      335993       2  Chennai Super Kings        Kolkata Knight Riders   \n",
       "164904   1175356       2  Chennai Super Kings  Royal Challengers Bangalore   \n",
       "112676    829735       2     Rajasthan Royals          Chennai Super Kings   \n",
       "144978   1082627       1  Sunrisers Hyderabad        Kolkata Knight Riders   \n",
       "77644     598003       1        Pune Warriors              Kings XI Punjab   \n",
       "101385    733987       2  Chennai Super Kings              Kings XI Punjab   \n",
       "\n",
       "        over  ball         batter          bowler   non_striker  batsman_runs  \\\n",
       "41911     12     2      JP Duminy        SK Warne  DT Christian             0   \n",
       "2809      12     2       MS Dhoni       LR Shukla     ML Hayden             0   \n",
       "164904     8     6      AT Rayudu        UT Yadav      SK Raina             0   \n",
       "112676     6     2      SR Watson       RA Jadeja     AM Rahane             0   \n",
       "144978    18     7  KS Williamson       CR Woakes  Yuvraj Singh             4   \n",
       "77644      8     1    LRPL Taylor       PP Chawla    RV Uthappa             0   \n",
       "101385     5     5    BB McCullum  Sandeep Sharma      SK Raina             1   \n",
       "\n",
       "        extra_runs  total_runs extras_type  is_wicket player_dismissed  \\\n",
       "41911            0           0         NaN          0              NaN   \n",
       "2809             0           0         NaN          0              NaN   \n",
       "164904           0           0         NaN          0              NaN   \n",
       "112676           0           0         NaN          0              NaN   \n",
       "144978           0           4         NaN          0              NaN   \n",
       "77644            0           0         NaN          0              NaN   \n",
       "101385           0           1         NaN          0              NaN   \n",
       "\n",
       "       dismissal_kind fielder  \n",
       "41911             NaN     NaN  \n",
       "2809              NaN     NaN  \n",
       "164904            NaN     NaN  \n",
       "112676            NaN     NaN  \n",
       "144978            NaN     NaN  \n",
       "77644             NaN     NaN  \n",
       "101385            NaN     NaN  "
      ]
     },
     "execution_count": 174,
     "metadata": {},
     "output_type": "execute_result"
    }
   ],
   "source": [
    "deliveries = pd.read_csv('deliveries.csv')\n",
    "deliveries.sample(7)"
   ]
  },
  {
   "cell_type": "markdown",
   "id": "d895269c-de04-4934-a294-dff30dc1b4b0",
   "metadata": {},
   "source": [
    "`Column` | Description\n",
    ":-|:-\n",
    "`match_id` |\tUnique identifier for each match, used to link with match details.\n",
    "`inning`|\tIndicates the innings (1 or 2) in the match.\n",
    "`batting_team`|Name of the team batting in the given inning.\n",
    "`bowling_team`|\tName of the team bowling in the given inning.\n",
    "`over`|\tThe over number in the current inning (e.g., 1, 2, ..., 20).\n",
    "`ball`|\tThe ball number within the over (1 to 6).\n",
    "`batter`|\tName of the player currently batting.\n",
    "`bowler`\t|Name of the player currently bowling.\n",
    "`non_striker`|\tName of the non-striker at the other end of the pitch.\n",
    "`batsman_runs`|\tNumber of runs scored by the batsman on the current delivery (can include 0 for dot balls or 4/6 for boundaries).\n",
    "`extra_runs`\t|Number of extra runs (such as no-balls, wides) on this delivery.\n",
    "`total_runs`\t|Total runs scored on this ball (sum of batsman runs and extra runs).\n",
    "`extras_type`\t|Type of extra run, if applicable (e.g., wide, no-ball, bye, legbye).\n",
    "`is_wicket`\t|Indicates if the delivery resulted in a wicket (1 for wicket, 0 for no wicket).\n",
    "`player_dismissed`|\tName of the player dismissed on the ball (if applicable, otherwise null).\n",
    "`dismissal_kind`\t|Type of dismissal (e.g., bowled, caught, run out, LBW).\n",
    "`fielder`\t|Name of the fielder involved in the dismissal (for dismissals like catch, run out, etc.; null for dismissals not involving a fielder)."
   ]
  },
  {
   "cell_type": "code",
   "execution_count": 21,
   "id": "5df413c2-94ae-44ba-8aa3-259f30e26fdb",
   "metadata": {},
   "outputs": [
    {
     "data": {
      "text/html": [
       "<div>\n",
       "<style scoped>\n",
       "    .dataframe tbody tr th:only-of-type {\n",
       "        vertical-align: middle;\n",
       "    }\n",
       "\n",
       "    .dataframe tbody tr th {\n",
       "        vertical-align: top;\n",
       "    }\n",
       "\n",
       "    .dataframe thead th {\n",
       "        text-align: right;\n",
       "    }\n",
       "</style>\n",
       "<table border=\"1\" class=\"dataframe\">\n",
       "  <thead>\n",
       "    <tr style=\"text-align: right;\">\n",
       "      <th></th>\n",
       "      <th>id</th>\n",
       "      <th>season</th>\n",
       "      <th>city</th>\n",
       "      <th>date</th>\n",
       "      <th>match_type</th>\n",
       "      <th>player_of_match</th>\n",
       "      <th>venue</th>\n",
       "      <th>team1</th>\n",
       "      <th>team2</th>\n",
       "      <th>toss_winner</th>\n",
       "      <th>toss_decision</th>\n",
       "      <th>winner</th>\n",
       "      <th>result</th>\n",
       "      <th>result_margin</th>\n",
       "      <th>target_runs</th>\n",
       "      <th>target_overs</th>\n",
       "      <th>super_over</th>\n",
       "      <th>method</th>\n",
       "      <th>umpire1</th>\n",
       "      <th>umpire2</th>\n",
       "    </tr>\n",
       "  </thead>\n",
       "  <tbody>\n",
       "    <tr>\n",
       "      <th>210</th>\n",
       "      <td>501234</td>\n",
       "      <td>2011</td>\n",
       "      <td>Kolkata</td>\n",
       "      <td>2011-04-30</td>\n",
       "      <td>League</td>\n",
       "      <td>Iqbal Abdulla</td>\n",
       "      <td>Eden Gardens</td>\n",
       "      <td>Kolkata Knight Riders</td>\n",
       "      <td>Kings XI Punjab</td>\n",
       "      <td>Kolkata Knight Riders</td>\n",
       "      <td>field</td>\n",
       "      <td>Kolkata Knight Riders</td>\n",
       "      <td>wickets</td>\n",
       "      <td>8.0</td>\n",
       "      <td>120.0</td>\n",
       "      <td>20.0</td>\n",
       "      <td>N</td>\n",
       "      <td>NaN</td>\n",
       "      <td>AM Saheba</td>\n",
       "      <td>SL Shastri</td>\n",
       "    </tr>\n",
       "    <tr>\n",
       "      <th>827</th>\n",
       "      <td>1254069</td>\n",
       "      <td>2021</td>\n",
       "      <td>Mumbai</td>\n",
       "      <td>2021-04-19</td>\n",
       "      <td>League</td>\n",
       "      <td>MM Ali</td>\n",
       "      <td>Wankhede Stadium, Mumbai</td>\n",
       "      <td>Chennai Super Kings</td>\n",
       "      <td>Rajasthan Royals</td>\n",
       "      <td>Rajasthan Royals</td>\n",
       "      <td>field</td>\n",
       "      <td>Chennai Super Kings</td>\n",
       "      <td>runs</td>\n",
       "      <td>45.0</td>\n",
       "      <td>189.0</td>\n",
       "      <td>20.0</td>\n",
       "      <td>N</td>\n",
       "      <td>NaN</td>\n",
       "      <td>PR Reiffel</td>\n",
       "      <td>VK Sharma</td>\n",
       "    </tr>\n",
       "    <tr>\n",
       "      <th>54</th>\n",
       "      <td>336019</td>\n",
       "      <td>2007/08</td>\n",
       "      <td>Chandigarh</td>\n",
       "      <td>2008-05-28</td>\n",
       "      <td>League</td>\n",
       "      <td>SE Marsh</td>\n",
       "      <td>Punjab Cricket Association Stadium, Mohali</td>\n",
       "      <td>Kings XI Punjab</td>\n",
       "      <td>Rajasthan Royals</td>\n",
       "      <td>Rajasthan Royals</td>\n",
       "      <td>field</td>\n",
       "      <td>Kings XI Punjab</td>\n",
       "      <td>runs</td>\n",
       "      <td>41.0</td>\n",
       "      <td>222.0</td>\n",
       "      <td>20.0</td>\n",
       "      <td>N</td>\n",
       "      <td>NaN</td>\n",
       "      <td>SJ Davis</td>\n",
       "      <td>K Hariharan</td>\n",
       "    </tr>\n",
       "    <tr>\n",
       "      <th>282</th>\n",
       "      <td>548343</td>\n",
       "      <td>2012</td>\n",
       "      <td>Chennai</td>\n",
       "      <td>2012-04-28</td>\n",
       "      <td>League</td>\n",
       "      <td>Mandeep Singh</td>\n",
       "      <td>MA Chidambaram Stadium, Chepauk</td>\n",
       "      <td>Chennai Super Kings</td>\n",
       "      <td>Kings XI Punjab</td>\n",
       "      <td>Kings XI Punjab</td>\n",
       "      <td>bat</td>\n",
       "      <td>Kings XI Punjab</td>\n",
       "      <td>runs</td>\n",
       "      <td>7.0</td>\n",
       "      <td>157.0</td>\n",
       "      <td>20.0</td>\n",
       "      <td>N</td>\n",
       "      <td>NaN</td>\n",
       "      <td>BF Bowden</td>\n",
       "      <td>SK Tarapore</td>\n",
       "    </tr>\n",
       "    <tr>\n",
       "      <th>692</th>\n",
       "      <td>1136617</td>\n",
       "      <td>2018</td>\n",
       "      <td>Mumbai</td>\n",
       "      <td>2018-05-22</td>\n",
       "      <td>Qualifier 1</td>\n",
       "      <td>F du Plessis</td>\n",
       "      <td>Wankhede Stadium</td>\n",
       "      <td>Sunrisers Hyderabad</td>\n",
       "      <td>Chennai Super Kings</td>\n",
       "      <td>Chennai Super Kings</td>\n",
       "      <td>field</td>\n",
       "      <td>Chennai Super Kings</td>\n",
       "      <td>wickets</td>\n",
       "      <td>2.0</td>\n",
       "      <td>140.0</td>\n",
       "      <td>20.0</td>\n",
       "      <td>N</td>\n",
       "      <td>NaN</td>\n",
       "      <td>C Shamshuddin</td>\n",
       "      <td>M Erasmus</td>\n",
       "    </tr>\n",
       "    <tr>\n",
       "      <th>1033</th>\n",
       "      <td>1422128</td>\n",
       "      <td>2024</td>\n",
       "      <td>Bengaluru</td>\n",
       "      <td>2024-03-29</td>\n",
       "      <td>League</td>\n",
       "      <td>SP Narine</td>\n",
       "      <td>M Chinnaswamy Stadium, Bengaluru</td>\n",
       "      <td>Royal Challengers Bengaluru</td>\n",
       "      <td>Kolkata Knight Riders</td>\n",
       "      <td>Kolkata Knight Riders</td>\n",
       "      <td>field</td>\n",
       "      <td>Kolkata Knight Riders</td>\n",
       "      <td>wickets</td>\n",
       "      <td>7.0</td>\n",
       "      <td>183.0</td>\n",
       "      <td>20.0</td>\n",
       "      <td>N</td>\n",
       "      <td>NaN</td>\n",
       "      <td>AK Chaudhary</td>\n",
       "      <td>R Pandit</td>\n",
       "    </tr>\n",
       "    <tr>\n",
       "      <th>159</th>\n",
       "      <td>419150</td>\n",
       "      <td>2009/10</td>\n",
       "      <td>Jaipur</td>\n",
       "      <td>2010-04-11</td>\n",
       "      <td>League</td>\n",
       "      <td>SR Tendulkar</td>\n",
       "      <td>Sawai Mansingh Stadium</td>\n",
       "      <td>Rajasthan Royals</td>\n",
       "      <td>Mumbai Indians</td>\n",
       "      <td>Rajasthan Royals</td>\n",
       "      <td>field</td>\n",
       "      <td>Mumbai Indians</td>\n",
       "      <td>runs</td>\n",
       "      <td>37.0</td>\n",
       "      <td>175.0</td>\n",
       "      <td>20.0</td>\n",
       "      <td>N</td>\n",
       "      <td>NaN</td>\n",
       "      <td>BR Doctrove</td>\n",
       "      <td>SK Tarapore</td>\n",
       "    </tr>\n",
       "  </tbody>\n",
       "</table>\n",
       "</div>"
      ],
      "text/plain": [
       "           id   season        city        date   match_type player_of_match  \\\n",
       "210    501234     2011     Kolkata  2011-04-30       League   Iqbal Abdulla   \n",
       "827   1254069     2021      Mumbai  2021-04-19       League          MM Ali   \n",
       "54     336019  2007/08  Chandigarh  2008-05-28       League        SE Marsh   \n",
       "282    548343     2012     Chennai  2012-04-28       League   Mandeep Singh   \n",
       "692   1136617     2018      Mumbai  2018-05-22  Qualifier 1    F du Plessis   \n",
       "1033  1422128     2024   Bengaluru  2024-03-29       League       SP Narine   \n",
       "159    419150  2009/10      Jaipur  2010-04-11       League    SR Tendulkar   \n",
       "\n",
       "                                           venue                        team1  \\\n",
       "210                                 Eden Gardens        Kolkata Knight Riders   \n",
       "827                     Wankhede Stadium, Mumbai          Chennai Super Kings   \n",
       "54    Punjab Cricket Association Stadium, Mohali              Kings XI Punjab   \n",
       "282              MA Chidambaram Stadium, Chepauk          Chennai Super Kings   \n",
       "692                             Wankhede Stadium          Sunrisers Hyderabad   \n",
       "1033            M Chinnaswamy Stadium, Bengaluru  Royal Challengers Bengaluru   \n",
       "159                       Sawai Mansingh Stadium             Rajasthan Royals   \n",
       "\n",
       "                      team2            toss_winner toss_decision  \\\n",
       "210         Kings XI Punjab  Kolkata Knight Riders         field   \n",
       "827        Rajasthan Royals       Rajasthan Royals         field   \n",
       "54         Rajasthan Royals       Rajasthan Royals         field   \n",
       "282         Kings XI Punjab        Kings XI Punjab           bat   \n",
       "692     Chennai Super Kings    Chennai Super Kings         field   \n",
       "1033  Kolkata Knight Riders  Kolkata Knight Riders         field   \n",
       "159          Mumbai Indians       Rajasthan Royals         field   \n",
       "\n",
       "                     winner   result  result_margin  target_runs  \\\n",
       "210   Kolkata Knight Riders  wickets            8.0        120.0   \n",
       "827     Chennai Super Kings     runs           45.0        189.0   \n",
       "54          Kings XI Punjab     runs           41.0        222.0   \n",
       "282         Kings XI Punjab     runs            7.0        157.0   \n",
       "692     Chennai Super Kings  wickets            2.0        140.0   \n",
       "1033  Kolkata Knight Riders  wickets            7.0        183.0   \n",
       "159          Mumbai Indians     runs           37.0        175.0   \n",
       "\n",
       "      target_overs super_over method        umpire1      umpire2  \n",
       "210           20.0          N    NaN      AM Saheba   SL Shastri  \n",
       "827           20.0          N    NaN     PR Reiffel    VK Sharma  \n",
       "54            20.0          N    NaN       SJ Davis  K Hariharan  \n",
       "282           20.0          N    NaN      BF Bowden  SK Tarapore  \n",
       "692           20.0          N    NaN  C Shamshuddin    M Erasmus  \n",
       "1033          20.0          N    NaN   AK Chaudhary     R Pandit  \n",
       "159           20.0          N    NaN    BR Doctrove  SK Tarapore  "
      ]
     },
     "execution_count": 21,
     "metadata": {},
     "output_type": "execute_result"
    }
   ],
   "source": [
    "matches = pd.read_csv('matches.csv')\n",
    "matches.sample(7)"
   ]
  },
  {
   "cell_type": "markdown",
   "id": "0c781134-4105-4cac-bfb7-a8e5945df9cf",
   "metadata": {},
   "source": [
    "`Column`\t|Description\n",
    ":-|:-\n",
    "`id`\t|Unique identifier for each match, similar to match_id in the ball-by-ball dataset, useful for linking datasets.\n",
    "`season`|\tYear in which the IPL season took place.\n",
    "`city`\t|City where the match was played.\n",
    "`date`\t|Date of the match.\n",
    "`match_type`|\tType of match (could indicate regular season, playoff, or final).\n",
    "`player_of_match`|\tName of the player awarded \"Player of the Match.\"\n",
    "`venue`|\tStadium where the match was played.\n",
    "`team1`\t|Name of the first team (order doesn’t imply batting or bowling first).\n",
    "`team2`\t|Name of the second team.\n",
    "`toss_winner`|\tTeam that won the toss.\n",
    "`toss_decision`|\tDecision taken by the toss-winning team (bat or field).\n",
    "`winner`|Name of the team that won the match.\n",
    "`result`|\tOutcome type of the match (e.g., normal, tie, no result).\n",
    "`result_margin`|\tMargin by which the team won (e.g., runs or wickets).\n",
    "`target_runs`\t|Target runs set for the chasing team (null if not applicable).\n",
    "`target_overs`\t|Target overs if the match is shortened (e.g., in rain-affected matches; null if not applicable).\n",
    "`super_over`\t|Indicates if the match had a super over (1 for yes, 0 for no).\n",
    "`method`\t|Method used to determine the result in rain-affected games (e.g., Duckworth-Lewis-Stern, or null if not applicable).\n",
    "`umpire1`\t|Name of the first on-field umpire.\n",
    "`umpire2`\t|Name of the second on-field umpire."
   ]
  },
  {
   "cell_type": "markdown",
   "id": "b4db6066-fe6d-4976-b907-8c1e0511a4b8",
   "metadata": {},
   "source": [
    "- here we have two datasets one containing ball by ball details and other containing match wise details.\n",
    "- we are going to analyse each data set for insights.\n"
   ]
  },
  {
   "cell_type": "markdown",
   "id": "8a24fc61-75e8-4913-b15e-1af3ef50ebb4",
   "metadata": {},
   "source": [
    "#### Data Cleaning"
   ]
  },
  {
   "cell_type": "code",
   "execution_count": 28,
   "id": "9d175544-3af8-49b9-9737-e2174db31ab4",
   "metadata": {},
   "outputs": [
    {
     "name": "stdout",
     "output_type": "stream",
     "text": [
      "<class 'pandas.core.frame.DataFrame'>\n",
      "RangeIndex: 260920 entries, 0 to 260919\n",
      "Data columns (total 17 columns):\n",
      " #   Column            Non-Null Count   Dtype \n",
      "---  ------            --------------   ----- \n",
      " 0   match_id          260920 non-null  int64 \n",
      " 1   inning            260920 non-null  int64 \n",
      " 2   batting_team      260920 non-null  object\n",
      " 3   bowling_team      260920 non-null  object\n",
      " 4   over              260920 non-null  int64 \n",
      " 5   ball              260920 non-null  int64 \n",
      " 6   batter            260920 non-null  object\n",
      " 7   bowler            260920 non-null  object\n",
      " 8   non_striker       260920 non-null  object\n",
      " 9   batsman_runs      260920 non-null  int64 \n",
      " 10  extra_runs        260920 non-null  int64 \n",
      " 11  total_runs        260920 non-null  int64 \n",
      " 12  extras_type       14125 non-null   object\n",
      " 13  is_wicket         260920 non-null  int64 \n",
      " 14  player_dismissed  12950 non-null   object\n",
      " 15  dismissal_kind    12950 non-null   object\n",
      " 16  fielder           9354 non-null    object\n",
      "dtypes: int64(8), object(9)\n",
      "memory usage: 33.8+ MB\n"
     ]
    }
   ],
   "source": [
    "deliveries.info()"
   ]
  },
  {
   "cell_type": "markdown",
   "id": "35c20eb7-fe26-4318-9fb7-0719c4a4d5f4",
   "metadata": {},
   "source": [
    "- here we get data information where we know basics about our data\n",
    "    - There are 260920 rows and 17 columns in deliveries dataset.\n",
    "    - some columns have missing values.\n"
   ]
  },
  {
   "cell_type": "code",
   "execution_count": 30,
   "id": "3bdc3836-f557-4d8b-98fc-7436a67906bd",
   "metadata": {},
   "outputs": [
    {
     "name": "stdout",
     "output_type": "stream",
     "text": [
      "<class 'pandas.core.frame.DataFrame'>\n",
      "RangeIndex: 1095 entries, 0 to 1094\n",
      "Data columns (total 20 columns):\n",
      " #   Column           Non-Null Count  Dtype  \n",
      "---  ------           --------------  -----  \n",
      " 0   id               1095 non-null   int64  \n",
      " 1   season           1095 non-null   object \n",
      " 2   city             1044 non-null   object \n",
      " 3   date             1095 non-null   object \n",
      " 4   match_type       1095 non-null   object \n",
      " 5   player_of_match  1090 non-null   object \n",
      " 6   venue            1095 non-null   object \n",
      " 7   team1            1095 non-null   object \n",
      " 8   team2            1095 non-null   object \n",
      " 9   toss_winner      1095 non-null   object \n",
      " 10  toss_decision    1095 non-null   object \n",
      " 11  winner           1090 non-null   object \n",
      " 12  result           1095 non-null   object \n",
      " 13  result_margin    1076 non-null   float64\n",
      " 14  target_runs      1092 non-null   float64\n",
      " 15  target_overs     1092 non-null   float64\n",
      " 16  super_over       1095 non-null   object \n",
      " 17  method           21 non-null     object \n",
      " 18  umpire1          1095 non-null   object \n",
      " 19  umpire2          1095 non-null   object \n",
      "dtypes: float64(3), int64(1), object(16)\n",
      "memory usage: 171.2+ KB\n"
     ]
    }
   ],
   "source": [
    "matches.info()"
   ]
  },
  {
   "cell_type": "markdown",
   "id": "aa154096-6d48-4705-be26-21fb6df05f66",
   "metadata": {},
   "source": [
    "- Here  we have 1095 rows and 20 columns .\n",
    "- there are some missing values in this data.\n",
    "- Date column is in form of object which can be converted into date time for better analysis."
   ]
  },
  {
   "cell_type": "markdown",
   "id": "ecdfcc7c-eb2c-48e0-8032-4662397cc5ec",
   "metadata": {},
   "source": [
    "##### Further I cleaned both datas column wise "
   ]
  },
  {
   "cell_type": "markdown",
   "id": "6295eac3-57f7-471e-a8a4-00ce0dac8202",
   "metadata": {},
   "source": [
    "#### Deliveries cleaning "
   ]
  },
  {
   "cell_type": "code",
   "execution_count": 70,
   "id": "44d0a964-653b-4eb5-a623-b9ae2cd0d0e7",
   "metadata": {},
   "outputs": [
    {
     "data": {
      "text/html": [
       "<div>\n",
       "<style scoped>\n",
       "    .dataframe tbody tr th:only-of-type {\n",
       "        vertical-align: middle;\n",
       "    }\n",
       "\n",
       "    .dataframe tbody tr th {\n",
       "        vertical-align: top;\n",
       "    }\n",
       "\n",
       "    .dataframe thead th {\n",
       "        text-align: right;\n",
       "    }\n",
       "</style>\n",
       "<table border=\"1\" class=\"dataframe\">\n",
       "  <thead>\n",
       "    <tr style=\"text-align: right;\">\n",
       "      <th></th>\n",
       "      <th>match_id</th>\n",
       "      <th>inning</th>\n",
       "      <th>batting_team</th>\n",
       "      <th>bowling_team</th>\n",
       "      <th>over</th>\n",
       "      <th>ball</th>\n",
       "      <th>batter</th>\n",
       "      <th>bowler</th>\n",
       "      <th>non_striker</th>\n",
       "      <th>batsman_runs</th>\n",
       "      <th>extra_runs</th>\n",
       "      <th>total_runs</th>\n",
       "      <th>extras_type</th>\n",
       "      <th>is_wicket</th>\n",
       "      <th>player_dismissed</th>\n",
       "      <th>dismissal_kind</th>\n",
       "      <th>fielder</th>\n",
       "    </tr>\n",
       "  </thead>\n",
       "  <tbody>\n",
       "    <tr>\n",
       "      <th>219490</th>\n",
       "      <td>1304094</td>\n",
       "      <td>1</td>\n",
       "      <td>Gujarat Titans</td>\n",
       "      <td>Punjab Kings</td>\n",
       "      <td>3</td>\n",
       "      <td>6</td>\n",
       "      <td>HH Pandya</td>\n",
       "      <td>K Rabada</td>\n",
       "      <td>B Sai Sudharsan</td>\n",
       "      <td>0</td>\n",
       "      <td>0</td>\n",
       "      <td>0</td>\n",
       "      <td>NaN</td>\n",
       "      <td>0</td>\n",
       "      <td>NaN</td>\n",
       "      <td>NaN</td>\n",
       "      <td>NaN</td>\n",
       "    </tr>\n",
       "    <tr>\n",
       "      <th>228394</th>\n",
       "      <td>1359485</td>\n",
       "      <td>1</td>\n",
       "      <td>Rajasthan Royals</td>\n",
       "      <td>Delhi Capitals</td>\n",
       "      <td>5</td>\n",
       "      <td>2</td>\n",
       "      <td>YBK Jaiswal</td>\n",
       "      <td>A Nortje</td>\n",
       "      <td>JC Buttler</td>\n",
       "      <td>0</td>\n",
       "      <td>0</td>\n",
       "      <td>0</td>\n",
       "      <td>NaN</td>\n",
       "      <td>0</td>\n",
       "      <td>NaN</td>\n",
       "      <td>NaN</td>\n",
       "      <td>NaN</td>\n",
       "    </tr>\n",
       "    <tr>\n",
       "      <th>259976</th>\n",
       "      <td>1426307</td>\n",
       "      <td>2</td>\n",
       "      <td>Sunrisers Hyderabad</td>\n",
       "      <td>Punjab Kings</td>\n",
       "      <td>9</td>\n",
       "      <td>6</td>\n",
       "      <td>Abhishek Sharma</td>\n",
       "      <td>Harpreet Brar</td>\n",
       "      <td>Nithish Kumar Reddy</td>\n",
       "      <td>6</td>\n",
       "      <td>0</td>\n",
       "      <td>6</td>\n",
       "      <td>NaN</td>\n",
       "      <td>0</td>\n",
       "      <td>NaN</td>\n",
       "      <td>NaN</td>\n",
       "      <td>NaN</td>\n",
       "    </tr>\n",
       "    <tr>\n",
       "      <th>249845</th>\n",
       "      <td>1426263</td>\n",
       "      <td>2</td>\n",
       "      <td>Mumbai Indians</td>\n",
       "      <td>Royal Challengers Bengaluru</td>\n",
       "      <td>0</td>\n",
       "      <td>6</td>\n",
       "      <td>Ishan Kishan</td>\n",
       "      <td>RJW Topley</td>\n",
       "      <td>RG Sharma</td>\n",
       "      <td>1</td>\n",
       "      <td>0</td>\n",
       "      <td>1</td>\n",
       "      <td>NaN</td>\n",
       "      <td>0</td>\n",
       "      <td>NaN</td>\n",
       "      <td>NaN</td>\n",
       "      <td>NaN</td>\n",
       "    </tr>\n",
       "    <tr>\n",
       "      <th>230911</th>\n",
       "      <td>1359495</td>\n",
       "      <td>1</td>\n",
       "      <td>Lucknow Super Giants</td>\n",
       "      <td>Punjab Kings</td>\n",
       "      <td>12</td>\n",
       "      <td>5</td>\n",
       "      <td>KL Rahul</td>\n",
       "      <td>Arshdeep Singh</td>\n",
       "      <td>KH Pandya</td>\n",
       "      <td>0</td>\n",
       "      <td>0</td>\n",
       "      <td>0</td>\n",
       "      <td>NaN</td>\n",
       "      <td>0</td>\n",
       "      <td>NaN</td>\n",
       "      <td>NaN</td>\n",
       "      <td>NaN</td>\n",
       "    </tr>\n",
       "    <tr>\n",
       "      <th>68149</th>\n",
       "      <td>548347</td>\n",
       "      <td>2</td>\n",
       "      <td>Kolkata Knight Riders</td>\n",
       "      <td>Chennai Super Kings</td>\n",
       "      <td>19</td>\n",
       "      <td>1</td>\n",
       "      <td>YK Pathan</td>\n",
       "      <td>R Ashwin</td>\n",
       "      <td>DB Das</td>\n",
       "      <td>2</td>\n",
       "      <td>0</td>\n",
       "      <td>2</td>\n",
       "      <td>NaN</td>\n",
       "      <td>0</td>\n",
       "      <td>NaN</td>\n",
       "      <td>NaN</td>\n",
       "      <td>NaN</td>\n",
       "    </tr>\n",
       "    <tr>\n",
       "      <th>42345</th>\n",
       "      <td>501201</td>\n",
       "      <td>1</td>\n",
       "      <td>Delhi Daredevils</td>\n",
       "      <td>Mumbai Indians</td>\n",
       "      <td>4</td>\n",
       "      <td>2</td>\n",
       "      <td>AJ Finch</td>\n",
       "      <td>AG Murtaza</td>\n",
       "      <td>V Sehwag</td>\n",
       "      <td>4</td>\n",
       "      <td>0</td>\n",
       "      <td>4</td>\n",
       "      <td>NaN</td>\n",
       "      <td>0</td>\n",
       "      <td>NaN</td>\n",
       "      <td>NaN</td>\n",
       "      <td>NaN</td>\n",
       "    </tr>\n",
       "    <tr>\n",
       "      <th>180576</th>\n",
       "      <td>1216498</td>\n",
       "      <td>1</td>\n",
       "      <td>Kings XI Punjab</td>\n",
       "      <td>Sunrisers Hyderabad</td>\n",
       "      <td>13</td>\n",
       "      <td>6</td>\n",
       "      <td>DJ Hooda</td>\n",
       "      <td>Sandeep Sharma</td>\n",
       "      <td>N Pooran</td>\n",
       "      <td>0</td>\n",
       "      <td>1</td>\n",
       "      <td>1</td>\n",
       "      <td>wides</td>\n",
       "      <td>0</td>\n",
       "      <td>NaN</td>\n",
       "      <td>NaN</td>\n",
       "      <td>NaN</td>\n",
       "    </tr>\n",
       "    <tr>\n",
       "      <th>192648</th>\n",
       "      <td>1237177</td>\n",
       "      <td>1</td>\n",
       "      <td>Mumbai Indians</td>\n",
       "      <td>Delhi Capitals</td>\n",
       "      <td>1</td>\n",
       "      <td>5</td>\n",
       "      <td>Q de Kock</td>\n",
       "      <td>R Ashwin</td>\n",
       "      <td>SA Yadav</td>\n",
       "      <td>4</td>\n",
       "      <td>0</td>\n",
       "      <td>4</td>\n",
       "      <td>NaN</td>\n",
       "      <td>0</td>\n",
       "      <td>NaN</td>\n",
       "      <td>NaN</td>\n",
       "      <td>NaN</td>\n",
       "    </tr>\n",
       "    <tr>\n",
       "      <th>8097</th>\n",
       "      <td>336016</td>\n",
       "      <td>1</td>\n",
       "      <td>Royal Challengers Bangalore</td>\n",
       "      <td>Kings XI Punjab</td>\n",
       "      <td>15</td>\n",
       "      <td>4</td>\n",
       "      <td>MV Boucher</td>\n",
       "      <td>JR Hopes</td>\n",
       "      <td>P Kumar</td>\n",
       "      <td>6</td>\n",
       "      <td>0</td>\n",
       "      <td>6</td>\n",
       "      <td>NaN</td>\n",
       "      <td>0</td>\n",
       "      <td>NaN</td>\n",
       "      <td>NaN</td>\n",
       "      <td>NaN</td>\n",
       "    </tr>\n",
       "    <tr>\n",
       "      <th>183165</th>\n",
       "      <td>1216508</td>\n",
       "      <td>2</td>\n",
       "      <td>Kolkata Knight Riders</td>\n",
       "      <td>Mumbai Indians</td>\n",
       "      <td>18</td>\n",
       "      <td>6</td>\n",
       "      <td>Shivam Mavi</td>\n",
       "      <td>JL Pattinson</td>\n",
       "      <td>Kuldeep Yadav</td>\n",
       "      <td>0</td>\n",
       "      <td>0</td>\n",
       "      <td>0</td>\n",
       "      <td>NaN</td>\n",
       "      <td>0</td>\n",
       "      <td>NaN</td>\n",
       "      <td>NaN</td>\n",
       "      <td>NaN</td>\n",
       "    </tr>\n",
       "    <tr>\n",
       "      <th>102105</th>\n",
       "      <td>733993</td>\n",
       "      <td>2</td>\n",
       "      <td>Sunrisers Hyderabad</td>\n",
       "      <td>Delhi Daredevils</td>\n",
       "      <td>1</td>\n",
       "      <td>4</td>\n",
       "      <td>S Dhawan</td>\n",
       "      <td>S Kaul</td>\n",
       "      <td>AJ Finch</td>\n",
       "      <td>0</td>\n",
       "      <td>0</td>\n",
       "      <td>0</td>\n",
       "      <td>NaN</td>\n",
       "      <td>1</td>\n",
       "      <td>S Dhawan</td>\n",
       "      <td>caught</td>\n",
       "      <td>JP Duminy</td>\n",
       "    </tr>\n",
       "    <tr>\n",
       "      <th>231620</th>\n",
       "      <td>1359498</td>\n",
       "      <td>1</td>\n",
       "      <td>Chennai Super Kings</td>\n",
       "      <td>Royal Challengers Bangalore</td>\n",
       "      <td>9</td>\n",
       "      <td>5</td>\n",
       "      <td>DP Conway</td>\n",
       "      <td>PWH de Silva</td>\n",
       "      <td>S Dube</td>\n",
       "      <td>2</td>\n",
       "      <td>0</td>\n",
       "      <td>2</td>\n",
       "      <td>NaN</td>\n",
       "      <td>0</td>\n",
       "      <td>NaN</td>\n",
       "      <td>NaN</td>\n",
       "      <td>NaN</td>\n",
       "    </tr>\n",
       "    <tr>\n",
       "      <th>103899</th>\n",
       "      <td>734009</td>\n",
       "      <td>1</td>\n",
       "      <td>Mumbai Indians</td>\n",
       "      <td>Kolkata Knight Riders</td>\n",
       "      <td>12</td>\n",
       "      <td>1</td>\n",
       "      <td>RG Sharma</td>\n",
       "      <td>M Morkel</td>\n",
       "      <td>CJ Anderson</td>\n",
       "      <td>0</td>\n",
       "      <td>0</td>\n",
       "      <td>0</td>\n",
       "      <td>NaN</td>\n",
       "      <td>0</td>\n",
       "      <td>NaN</td>\n",
       "      <td>NaN</td>\n",
       "      <td>NaN</td>\n",
       "    </tr>\n",
       "    <tr>\n",
       "      <th>179274</th>\n",
       "      <td>1216492</td>\n",
       "      <td>2</td>\n",
       "      <td>Chennai Super Kings</td>\n",
       "      <td>Mumbai Indians</td>\n",
       "      <td>14</td>\n",
       "      <td>6</td>\n",
       "      <td>AT Rayudu</td>\n",
       "      <td>JJ Bumrah</td>\n",
       "      <td>F du Plessis</td>\n",
       "      <td>0</td>\n",
       "      <td>1</td>\n",
       "      <td>1</td>\n",
       "      <td>wides</td>\n",
       "      <td>0</td>\n",
       "      <td>NaN</td>\n",
       "      <td>NaN</td>\n",
       "      <td>NaN</td>\n",
       "    </tr>\n",
       "    <tr>\n",
       "      <th>41969</th>\n",
       "      <td>501199</td>\n",
       "      <td>2</td>\n",
       "      <td>Rajasthan Royals</td>\n",
       "      <td>Deccan Chargers</td>\n",
       "      <td>1</td>\n",
       "      <td>6</td>\n",
       "      <td>AG Paunikar</td>\n",
       "      <td>DW Steyn</td>\n",
       "      <td>R Dravid</td>\n",
       "      <td>4</td>\n",
       "      <td>0</td>\n",
       "      <td>4</td>\n",
       "      <td>NaN</td>\n",
       "      <td>0</td>\n",
       "      <td>NaN</td>\n",
       "      <td>NaN</td>\n",
       "      <td>NaN</td>\n",
       "    </tr>\n",
       "    <tr>\n",
       "      <th>204999</th>\n",
       "      <td>1254105</td>\n",
       "      <td>1</td>\n",
       "      <td>Sunrisers Hyderabad</td>\n",
       "      <td>Delhi Capitals</td>\n",
       "      <td>19</td>\n",
       "      <td>7</td>\n",
       "      <td>Sandeep Sharma</td>\n",
       "      <td>Avesh Khan</td>\n",
       "      <td>B Kumar</td>\n",
       "      <td>0</td>\n",
       "      <td>1</td>\n",
       "      <td>1</td>\n",
       "      <td>byes</td>\n",
       "      <td>0</td>\n",
       "      <td>NaN</td>\n",
       "      <td>NaN</td>\n",
       "      <td>NaN</td>\n",
       "    </tr>\n",
       "    <tr>\n",
       "      <th>115897</th>\n",
       "      <td>829765</td>\n",
       "      <td>2</td>\n",
       "      <td>Kolkata Knight Riders</td>\n",
       "      <td>Chennai Super Kings</td>\n",
       "      <td>7</td>\n",
       "      <td>1</td>\n",
       "      <td>MK Pandey</td>\n",
       "      <td>R Ashwin</td>\n",
       "      <td>SA Yadav</td>\n",
       "      <td>0</td>\n",
       "      <td>0</td>\n",
       "      <td>0</td>\n",
       "      <td>NaN</td>\n",
       "      <td>1</td>\n",
       "      <td>MK Pandey</td>\n",
       "      <td>caught</td>\n",
       "      <td>DJ Bravo</td>\n",
       "    </tr>\n",
       "    <tr>\n",
       "      <th>3215</th>\n",
       "      <td>335995</td>\n",
       "      <td>2</td>\n",
       "      <td>Kings XI Punjab</td>\n",
       "      <td>Delhi Daredevils</td>\n",
       "      <td>7</td>\n",
       "      <td>8</td>\n",
       "      <td>Yuvraj Singh</td>\n",
       "      <td>Shoaib Malik</td>\n",
       "      <td>SM Katich</td>\n",
       "      <td>1</td>\n",
       "      <td>0</td>\n",
       "      <td>1</td>\n",
       "      <td>NaN</td>\n",
       "      <td>0</td>\n",
       "      <td>NaN</td>\n",
       "      <td>NaN</td>\n",
       "      <td>NaN</td>\n",
       "    </tr>\n",
       "    <tr>\n",
       "      <th>234918</th>\n",
       "      <td>1359511</td>\n",
       "      <td>2</td>\n",
       "      <td>Chennai Super Kings</td>\n",
       "      <td>Rajasthan Royals</td>\n",
       "      <td>5</td>\n",
       "      <td>6</td>\n",
       "      <td>DP Conway</td>\n",
       "      <td>A Zampa</td>\n",
       "      <td>RD Gaikwad</td>\n",
       "      <td>0</td>\n",
       "      <td>0</td>\n",
       "      <td>0</td>\n",
       "      <td>NaN</td>\n",
       "      <td>1</td>\n",
       "      <td>DP Conway</td>\n",
       "      <td>caught</td>\n",
       "      <td>Sandeep Sharma</td>\n",
       "    </tr>\n",
       "    <tr>\n",
       "      <th>12532</th>\n",
       "      <td>336036</td>\n",
       "      <td>2</td>\n",
       "      <td>Rajasthan Royals</td>\n",
       "      <td>Mumbai Indians</td>\n",
       "      <td>17</td>\n",
       "      <td>2</td>\n",
       "      <td>NK Patel</td>\n",
       "      <td>A Nehra</td>\n",
       "      <td>RA Jadeja</td>\n",
       "      <td>4</td>\n",
       "      <td>0</td>\n",
       "      <td>4</td>\n",
       "      <td>NaN</td>\n",
       "      <td>0</td>\n",
       "      <td>NaN</td>\n",
       "      <td>NaN</td>\n",
       "      <td>NaN</td>\n",
       "    </tr>\n",
       "    <tr>\n",
       "      <th>36784</th>\n",
       "      <td>419145</td>\n",
       "      <td>2</td>\n",
       "      <td>Deccan Chargers</td>\n",
       "      <td>Royal Challengers Bangalore</td>\n",
       "      <td>11</td>\n",
       "      <td>2</td>\n",
       "      <td>RG Sharma</td>\n",
       "      <td>R Vinay Kumar</td>\n",
       "      <td>TL Suman</td>\n",
       "      <td>1</td>\n",
       "      <td>0</td>\n",
       "      <td>1</td>\n",
       "      <td>NaN</td>\n",
       "      <td>0</td>\n",
       "      <td>NaN</td>\n",
       "      <td>NaN</td>\n",
       "      <td>NaN</td>\n",
       "    </tr>\n",
       "    <tr>\n",
       "      <th>152905</th>\n",
       "      <td>1136571</td>\n",
       "      <td>2</td>\n",
       "      <td>Royal Challengers Bangalore</td>\n",
       "      <td>Rajasthan Royals</td>\n",
       "      <td>0</td>\n",
       "      <td>3</td>\n",
       "      <td>BB McCullum</td>\n",
       "      <td>K Gowtham</td>\n",
       "      <td>Q de Kock</td>\n",
       "      <td>0</td>\n",
       "      <td>0</td>\n",
       "      <td>0</td>\n",
       "      <td>NaN</td>\n",
       "      <td>0</td>\n",
       "      <td>NaN</td>\n",
       "      <td>NaN</td>\n",
       "      <td>NaN</td>\n",
       "    </tr>\n",
       "    <tr>\n",
       "      <th>215891</th>\n",
       "      <td>1304079</td>\n",
       "      <td>1</td>\n",
       "      <td>Mumbai Indians</td>\n",
       "      <td>Chennai Super Kings</td>\n",
       "      <td>13</td>\n",
       "      <td>1</td>\n",
       "      <td>Tilak Varma</td>\n",
       "      <td>DJ Bravo</td>\n",
       "      <td>HR Shokeen</td>\n",
       "      <td>0</td>\n",
       "      <td>1</td>\n",
       "      <td>1</td>\n",
       "      <td>legbyes</td>\n",
       "      <td>0</td>\n",
       "      <td>NaN</td>\n",
       "      <td>NaN</td>\n",
       "      <td>NaN</td>\n",
       "    </tr>\n",
       "    <tr>\n",
       "      <th>175011</th>\n",
       "      <td>1178418</td>\n",
       "      <td>1</td>\n",
       "      <td>Kolkata Knight Riders</td>\n",
       "      <td>Rajasthan Royals</td>\n",
       "      <td>14</td>\n",
       "      <td>1</td>\n",
       "      <td>AD Russell</td>\n",
       "      <td>JC Archer</td>\n",
       "      <td>KD Karthik</td>\n",
       "      <td>0</td>\n",
       "      <td>0</td>\n",
       "      <td>0</td>\n",
       "      <td>NaN</td>\n",
       "      <td>0</td>\n",
       "      <td>NaN</td>\n",
       "      <td>NaN</td>\n",
       "      <td>NaN</td>\n",
       "    </tr>\n",
       "  </tbody>\n",
       "</table>\n",
       "</div>"
      ],
      "text/plain": [
       "        match_id  inning                 batting_team  \\\n",
       "219490   1304094       1               Gujarat Titans   \n",
       "228394   1359485       1             Rajasthan Royals   \n",
       "259976   1426307       2          Sunrisers Hyderabad   \n",
       "249845   1426263       2               Mumbai Indians   \n",
       "230911   1359495       1         Lucknow Super Giants   \n",
       "68149     548347       2        Kolkata Knight Riders   \n",
       "42345     501201       1             Delhi Daredevils   \n",
       "180576   1216498       1              Kings XI Punjab   \n",
       "192648   1237177       1               Mumbai Indians   \n",
       "8097      336016       1  Royal Challengers Bangalore   \n",
       "183165   1216508       2        Kolkata Knight Riders   \n",
       "102105    733993       2          Sunrisers Hyderabad   \n",
       "231620   1359498       1          Chennai Super Kings   \n",
       "103899    734009       1               Mumbai Indians   \n",
       "179274   1216492       2          Chennai Super Kings   \n",
       "41969     501199       2             Rajasthan Royals   \n",
       "204999   1254105       1          Sunrisers Hyderabad   \n",
       "115897    829765       2        Kolkata Knight Riders   \n",
       "3215      335995       2              Kings XI Punjab   \n",
       "234918   1359511       2          Chennai Super Kings   \n",
       "12532     336036       2             Rajasthan Royals   \n",
       "36784     419145       2              Deccan Chargers   \n",
       "152905   1136571       2  Royal Challengers Bangalore   \n",
       "215891   1304079       1               Mumbai Indians   \n",
       "175011   1178418       1        Kolkata Knight Riders   \n",
       "\n",
       "                       bowling_team  over  ball           batter  \\\n",
       "219490                 Punjab Kings     3     6        HH Pandya   \n",
       "228394               Delhi Capitals     5     2      YBK Jaiswal   \n",
       "259976                 Punjab Kings     9     6  Abhishek Sharma   \n",
       "249845  Royal Challengers Bengaluru     0     6     Ishan Kishan   \n",
       "230911                 Punjab Kings    12     5         KL Rahul   \n",
       "68149           Chennai Super Kings    19     1        YK Pathan   \n",
       "42345                Mumbai Indians     4     2         AJ Finch   \n",
       "180576          Sunrisers Hyderabad    13     6         DJ Hooda   \n",
       "192648               Delhi Capitals     1     5        Q de Kock   \n",
       "8097                Kings XI Punjab    15     4       MV Boucher   \n",
       "183165               Mumbai Indians    18     6      Shivam Mavi   \n",
       "102105             Delhi Daredevils     1     4         S Dhawan   \n",
       "231620  Royal Challengers Bangalore     9     5        DP Conway   \n",
       "103899        Kolkata Knight Riders    12     1        RG Sharma   \n",
       "179274               Mumbai Indians    14     6        AT Rayudu   \n",
       "41969               Deccan Chargers     1     6      AG Paunikar   \n",
       "204999               Delhi Capitals    19     7   Sandeep Sharma   \n",
       "115897          Chennai Super Kings     7     1        MK Pandey   \n",
       "3215               Delhi Daredevils     7     8     Yuvraj Singh   \n",
       "234918             Rajasthan Royals     5     6        DP Conway   \n",
       "12532                Mumbai Indians    17     2         NK Patel   \n",
       "36784   Royal Challengers Bangalore    11     2        RG Sharma   \n",
       "152905             Rajasthan Royals     0     3      BB McCullum   \n",
       "215891          Chennai Super Kings    13     1      Tilak Varma   \n",
       "175011             Rajasthan Royals    14     1       AD Russell   \n",
       "\n",
       "                bowler          non_striker  batsman_runs  extra_runs  \\\n",
       "219490        K Rabada      B Sai Sudharsan             0           0   \n",
       "228394        A Nortje           JC Buttler             0           0   \n",
       "259976   Harpreet Brar  Nithish Kumar Reddy             6           0   \n",
       "249845      RJW Topley            RG Sharma             1           0   \n",
       "230911  Arshdeep Singh            KH Pandya             0           0   \n",
       "68149         R Ashwin               DB Das             2           0   \n",
       "42345       AG Murtaza             V Sehwag             4           0   \n",
       "180576  Sandeep Sharma             N Pooran             0           1   \n",
       "192648        R Ashwin             SA Yadav             4           0   \n",
       "8097          JR Hopes              P Kumar             6           0   \n",
       "183165    JL Pattinson        Kuldeep Yadav             0           0   \n",
       "102105          S Kaul             AJ Finch             0           0   \n",
       "231620    PWH de Silva               S Dube             2           0   \n",
       "103899        M Morkel          CJ Anderson             0           0   \n",
       "179274       JJ Bumrah         F du Plessis             0           1   \n",
       "41969         DW Steyn             R Dravid             4           0   \n",
       "204999      Avesh Khan              B Kumar             0           1   \n",
       "115897        R Ashwin             SA Yadav             0           0   \n",
       "3215      Shoaib Malik            SM Katich             1           0   \n",
       "234918         A Zampa           RD Gaikwad             0           0   \n",
       "12532          A Nehra            RA Jadeja             4           0   \n",
       "36784    R Vinay Kumar             TL Suman             1           0   \n",
       "152905       K Gowtham            Q de Kock             0           0   \n",
       "215891        DJ Bravo           HR Shokeen             0           1   \n",
       "175011       JC Archer           KD Karthik             0           0   \n",
       "\n",
       "        total_runs extras_type  is_wicket player_dismissed dismissal_kind  \\\n",
       "219490           0         NaN          0              NaN            NaN   \n",
       "228394           0         NaN          0              NaN            NaN   \n",
       "259976           6         NaN          0              NaN            NaN   \n",
       "249845           1         NaN          0              NaN            NaN   \n",
       "230911           0         NaN          0              NaN            NaN   \n",
       "68149            2         NaN          0              NaN            NaN   \n",
       "42345            4         NaN          0              NaN            NaN   \n",
       "180576           1       wides          0              NaN            NaN   \n",
       "192648           4         NaN          0              NaN            NaN   \n",
       "8097             6         NaN          0              NaN            NaN   \n",
       "183165           0         NaN          0              NaN            NaN   \n",
       "102105           0         NaN          1         S Dhawan         caught   \n",
       "231620           2         NaN          0              NaN            NaN   \n",
       "103899           0         NaN          0              NaN            NaN   \n",
       "179274           1       wides          0              NaN            NaN   \n",
       "41969            4         NaN          0              NaN            NaN   \n",
       "204999           1        byes          0              NaN            NaN   \n",
       "115897           0         NaN          1        MK Pandey         caught   \n",
       "3215             1         NaN          0              NaN            NaN   \n",
       "234918           0         NaN          1        DP Conway         caught   \n",
       "12532            4         NaN          0              NaN            NaN   \n",
       "36784            1         NaN          0              NaN            NaN   \n",
       "152905           0         NaN          0              NaN            NaN   \n",
       "215891           1     legbyes          0              NaN            NaN   \n",
       "175011           0         NaN          0              NaN            NaN   \n",
       "\n",
       "               fielder  \n",
       "219490             NaN  \n",
       "228394             NaN  \n",
       "259976             NaN  \n",
       "249845             NaN  \n",
       "230911             NaN  \n",
       "68149              NaN  \n",
       "42345              NaN  \n",
       "180576             NaN  \n",
       "192648             NaN  \n",
       "8097               NaN  \n",
       "183165             NaN  \n",
       "102105       JP Duminy  \n",
       "231620             NaN  \n",
       "103899             NaN  \n",
       "179274             NaN  \n",
       "41969              NaN  \n",
       "204999             NaN  \n",
       "115897        DJ Bravo  \n",
       "3215               NaN  \n",
       "234918  Sandeep Sharma  \n",
       "12532              NaN  \n",
       "36784              NaN  \n",
       "152905             NaN  \n",
       "215891             NaN  \n",
       "175011             NaN  "
      ]
     },
     "execution_count": 70,
     "metadata": {},
     "output_type": "execute_result"
    }
   ],
   "source": [
    "deliveries.sample(25)"
   ]
  },
  {
   "cell_type": "markdown",
   "id": "2fbceccf-69df-44f5-80db-a4ed973dd3bb",
   "metadata": {},
   "source": [
    "#### match_id"
   ]
  },
  {
   "cell_type": "code",
   "execution_count": 43,
   "id": "7f04b0f3-4367-49db-95c0-16476a9ca940",
   "metadata": {},
   "outputs": [
    {
     "data": {
      "text/plain": [
       "0"
      ]
     },
     "execution_count": 43,
     "metadata": {},
     "output_type": "execute_result"
    }
   ],
   "source": [
    "deliveries['match_id'].isnull().sum()"
   ]
  },
  {
   "cell_type": "code",
   "execution_count": 53,
   "id": "537dc9df-3dd8-4e74-a4e5-ae2b0fb85d7c",
   "metadata": {},
   "outputs": [
    {
     "data": {
      "text/plain": [
       "1095"
      ]
     },
     "execution_count": 53,
     "metadata": {},
     "output_type": "execute_result"
    }
   ],
   "source": [
    "deliveries['match_id'].nunique()"
   ]
  },
  {
   "cell_type": "markdown",
   "id": "8e86c24a-3594-42ab-8593-d3305bf8ea63",
   "metadata": {},
   "source": [
    "- In match_id column there isn't any null value .\n",
    "- Their are 1095 unique match id's which matches #rows in matches dataset.\n",
    "   i.e. We have information of all matches."
   ]
  },
  {
   "cell_type": "markdown",
   "id": "efe7d228-a067-405d-9a18-603129b30b5a",
   "metadata": {},
   "source": [
    "#### inning"
   ]
  },
  {
   "cell_type": "code",
   "execution_count": 56,
   "id": "a9d38bce-1d82-4410-afe7-6c72eb5409b1",
   "metadata": {},
   "outputs": [
    {
     "data": {
      "text/plain": [
       "0"
      ]
     },
     "execution_count": 56,
     "metadata": {},
     "output_type": "execute_result"
    }
   ],
   "source": [
    "deliveries['inning'].isnull().sum()"
   ]
  },
  {
   "cell_type": "code",
   "execution_count": 137,
   "id": "d322467d-74c2-4bda-b378-8757f033502b",
   "metadata": {},
   "outputs": [
    {
     "data": {
      "text/plain": [
       "array([1, 2, 3, 4, 5, 6], dtype=int64)"
      ]
     },
     "execution_count": 137,
     "metadata": {},
     "output_type": "execute_result"
    }
   ],
   "source": [
    "deliveries['inning'].unique()"
   ]
  },
  {
   "cell_type": "markdown",
   "id": "ebf6ee50-c894-453e-9a04-450960674ae2",
   "metadata": {},
   "source": [
    "- here data does not have null values.\n",
    "- but innings values are little disturbed, as we know their should be only 2 innings but have till 6.\n",
    "    - 3rd and 4th inning is their due to a super over but 5th and 6th inning is a entry error."
   ]
  },
  {
   "cell_type": "code",
   "execution_count": 176,
   "id": "dbefbe6c-e798-45c7-9c5b-1dc07381ae17",
   "metadata": {},
   "outputs": [],
   "source": [
    "# If inning are 5 changing to 3 and if 6 changed to 4\n",
    "def inning_replacing(inning):\n",
    "    if inning == 5:\n",
    "        return 3\n",
    "    elif inning == 6:\n",
    "        return 4\n",
    "    else:\n",
    "        return inning"
   ]
  },
  {
   "cell_type": "code",
   "execution_count": 178,
   "id": "512516df-d06b-477e-9b02-efd492c2dd28",
   "metadata": {},
   "outputs": [],
   "source": [
    "deliveries['inning']=deliveries['inning'].apply(inning_replacing)"
   ]
  },
  {
   "cell_type": "code",
   "execution_count": 180,
   "id": "d008f475-42b8-4517-b026-4ea6cc4bfabe",
   "metadata": {},
   "outputs": [
    {
     "data": {
      "text/plain": [
       "array([1, 2, 3, 4], dtype=int64)"
      ]
     },
     "execution_count": 180,
     "metadata": {},
     "output_type": "execute_result"
    }
   ],
   "source": [
    "deliveries['inning'].unique()"
   ]
  },
  {
   "cell_type": "markdown",
   "id": "c1283a1f-136a-4b8a-b08d-e982f259f191",
   "metadata": {},
   "source": [
    "#### batting team"
   ]
  },
  {
   "cell_type": "code",
   "execution_count": 149,
   "id": "433f399c-f398-47cf-8040-926197ce2aee",
   "metadata": {},
   "outputs": [
    {
     "data": {
      "text/plain": [
       "0"
      ]
     },
     "execution_count": 149,
     "metadata": {},
     "output_type": "execute_result"
    }
   ],
   "source": [
    "deliveries['batting_team'].isnull().sum()"
   ]
  },
  {
   "cell_type": "code",
   "execution_count": 182,
   "id": "55cfa094-e869-424f-8ce9-c3c39f765055",
   "metadata": {},
   "outputs": [
    {
     "data": {
      "text/plain": [
       "19"
      ]
     },
     "execution_count": 182,
     "metadata": {},
     "output_type": "execute_result"
    }
   ],
   "source": [
    "deliveries['batting_team'].nunique()"
   ]
  },
  {
   "cell_type": "code",
   "execution_count": 154,
   "id": "d4a43421-ee03-415d-b005-5c83d56c2bf8",
   "metadata": {},
   "outputs": [
    {
     "data": {
      "text/plain": [
       "array(['Kolkata Knight Riders', 'Royal Challengers Bangalore',\n",
       "       'Chennai Super Kings', 'Kings XI Punjab', 'Rajasthan Royals',\n",
       "       'Delhi Daredevils', 'Mumbai Indians', 'Deccan Chargers',\n",
       "       'Kochi Tuskers Kerala', 'Pune Warriors', 'Sunrisers Hyderabad',\n",
       "       'Rising Pune Supergiants', 'Gujarat Lions',\n",
       "       'Rising Pune Supergiant', 'Delhi Capitals', 'Punjab Kings',\n",
       "       'Lucknow Super Giants', 'Gujarat Titans',\n",
       "       'Royal Challengers Bengaluru'], dtype=object)"
      ]
     },
     "execution_count": 154,
     "metadata": {},
     "output_type": "execute_result"
    }
   ],
   "source": [
    "deliveries['batting_team'].unique()"
   ]
  },
  {
   "cell_type": "markdown",
   "id": "7360f4b8-3c37-47dd-a9f8-ecbccf1b4d5a",
   "metadata": {},
   "source": [
    "- their is no null value in batting team\n",
    "- over the years names of teams are changed so same team is present with several names or their are some speeling difference"
   ]
  },
  {
   "cell_type": "code",
   "execution_count": 184,
   "id": "c6936163-9d81-48a7-9206-2fb32925d521",
   "metadata": {},
   "outputs": [],
   "source": [
    "# correcting teams name if differs\n",
    "def change_team_name(team_name):\n",
    "    if team_name in ['Rising Pune Supergiants','Pune Warriors']:\n",
    "        return 'Rising Pune Supergiant'\n",
    "    elif team_name == 'Royal Challengers Bengaluru':\n",
    "        return 'Royal Challengers Bangalore'\n",
    "    elif team_name == 'Deccan Chargers':\n",
    "        return 'Sunrisers Hyderabad'\n",
    "    elif team_name == 'Delhi Daredevils':\n",
    "        return 'Delhi Capitals'\n",
    "    elif team_name == 'Gujarat Lions':\n",
    "        return 'Gujarat Titans'\n",
    "    elif team_name == 'Kings XI Punjab':\n",
    "        return 'Punjab Kings'\n",
    "    else:\n",
    "        return team_name"
   ]
  },
  {
   "cell_type": "code",
   "execution_count": 186,
   "id": "ea089162-6fc4-4c60-b7ad-4155eb08cbca",
   "metadata": {},
   "outputs": [],
   "source": [
    "deliveries['batting_team'] = deliveries['batting_team'].apply(change_team_name)"
   ]
  },
  {
   "cell_type": "code",
   "execution_count": 188,
   "id": "a6a495db-bd58-43c6-8650-5548b3f2208a",
   "metadata": {},
   "outputs": [
    {
     "data": {
      "text/plain": [
       "12"
      ]
     },
     "execution_count": 188,
     "metadata": {},
     "output_type": "execute_result"
    }
   ],
   "source": [
    "deliveries['batting_team'].nunique()"
   ]
  },
  {
   "cell_type": "markdown",
   "id": "06448e3e-31c0-4ef0-8c6f-1fe2107722b1",
   "metadata": {},
   "source": [
    "- there were 19 teams in batting team column which reduced to 12 as we know till today 12 teams were played in IPL"
   ]
  },
  {
   "cell_type": "markdown",
   "id": "16abe18c-9653-4329-8353-0ac4e92cd6a8",
   "metadata": {},
   "source": [
    "#### bowling team"
   ]
  },
  {
   "cell_type": "code",
   "execution_count": 194,
   "id": "84cf52e5-17b2-459c-910e-9584937585f2",
   "metadata": {},
   "outputs": [
    {
     "data": {
      "text/plain": [
       "0"
      ]
     },
     "execution_count": 194,
     "metadata": {},
     "output_type": "execute_result"
    }
   ],
   "source": [
    "deliveries['bowling_team'].isnull().sum()"
   ]
  },
  {
   "cell_type": "code",
   "execution_count": 198,
   "id": "16311242-e2a8-413f-ade9-379a6455b6ea",
   "metadata": {},
   "outputs": [
    {
     "data": {
      "text/plain": [
       "19"
      ]
     },
     "execution_count": 198,
     "metadata": {},
     "output_type": "execute_result"
    }
   ],
   "source": [
    "deliveries['bowling_team'].nunique()"
   ]
  },
  {
   "cell_type": "code",
   "execution_count": 200,
   "id": "b55cdf41-7e8e-444f-be87-a3723594a8d7",
   "metadata": {},
   "outputs": [],
   "source": [
    "deliveries['bowling_team'] = deliveries['bowling_team'].apply(change_team_name)"
   ]
  },
  {
   "cell_type": "code",
   "execution_count": 204,
   "id": "a3ae32f6-7ae1-4ac3-af28-859f3b4000d4",
   "metadata": {},
   "outputs": [
    {
     "data": {
      "text/plain": [
       "12"
      ]
     },
     "execution_count": 204,
     "metadata": {},
     "output_type": "execute_result"
    }
   ],
   "source": [
    "deliveries['bowling_team'].nunique()"
   ]
  },
  {
   "cell_type": "markdown",
   "id": "b3f9a57d-ed4e-4651-bbd0-50e8ee8ea38f",
   "metadata": {},
   "source": [
    "- their were 19 teams reduced to 12 with same problem as batting team"
   ]
  },
  {
   "cell_type": "markdown",
   "id": "edfdcf5a-986f-486a-ba2a-7f469cc57803",
   "metadata": {},
   "source": [
    "#### Over"
   ]
  },
  {
   "cell_type": "code",
   "execution_count": 207,
   "id": "282812fe-22d9-49a0-b7e7-e7c5734e569d",
   "metadata": {},
   "outputs": [
    {
     "data": {
      "text/plain": [
       "0"
      ]
     },
     "execution_count": 207,
     "metadata": {},
     "output_type": "execute_result"
    }
   ],
   "source": [
    "deliveries['over'].isnull().sum()"
   ]
  },
  {
   "cell_type": "code",
   "execution_count": 212,
   "id": "d82cd4bd-2999-47f6-8368-4161e0c7dc78",
   "metadata": {},
   "outputs": [
    {
     "data": {
      "text/plain": [
       "array([ 0,  1,  2,  3,  4,  5,  6,  7,  8,  9, 10, 11, 12, 13, 14, 15, 16,\n",
       "       17, 18, 19], dtype=int64)"
      ]
     },
     "execution_count": 212,
     "metadata": {},
     "output_type": "execute_result"
    }
   ],
   "source": [
    "deliveries['over'].unique()"
   ]
  },
  {
   "cell_type": "markdown",
   "id": "9a472c27-5215-47dd-9e23-fa360972c78a",
   "metadata": {},
   "source": [
    "- 20 overs are present 1 over is calculated after completing."
   ]
  },
  {
   "cell_type": "markdown",
   "id": "0dae66b7-6fdc-498b-b189-7d80d505a61b",
   "metadata": {},
   "source": [
    "#### ball"
   ]
  },
  {
   "cell_type": "code",
   "execution_count": 218,
   "id": "6739c4bc-c1ae-491b-9ab4-80f834805497",
   "metadata": {},
   "outputs": [
    {
     "data": {
      "text/plain": [
       "0"
      ]
     },
     "execution_count": 218,
     "metadata": {},
     "output_type": "execute_result"
    }
   ],
   "source": [
    "deliveries['ball'].isnull().sum()"
   ]
  },
  {
   "cell_type": "code",
   "execution_count": 220,
   "id": "0a905219-35d5-47ba-bbed-5c724619c35a",
   "metadata": {},
   "outputs": [
    {
     "data": {
      "text/plain": [
       "array([ 1,  2,  3,  4,  5,  6,  7,  8,  9, 10, 11], dtype=int64)"
      ]
     },
     "execution_count": 220,
     "metadata": {},
     "output_type": "execute_result"
    }
   ],
   "source": [
    "deliveries['ball'].unique()"
   ]
  },
  {
   "cell_type": "markdown",
   "id": "cb63b0d2-106f-4491-bd6b-f5f3da8de128",
   "metadata": {},
   "source": [
    "- as we know each over has 6 balls their can be wides and no balls in some overs."
   ]
  },
  {
   "cell_type": "markdown",
   "id": "87d40834-4077-4cc5-8a5d-cffa92b723e4",
   "metadata": {},
   "source": [
    "#### batter"
   ]
  },
  {
   "cell_type": "code",
   "execution_count": 226,
   "id": "8525d82e-ca49-45f6-80cd-7d1e0b3ef6a9",
   "metadata": {},
   "outputs": [
    {
     "data": {
      "text/plain": [
       "0"
      ]
     },
     "execution_count": 226,
     "metadata": {},
     "output_type": "execute_result"
    }
   ],
   "source": [
    "deliveries['batter'].isnull().sum()"
   ]
  },
  {
   "cell_type": "code",
   "execution_count": 230,
   "id": "e5309b67-6a7d-4745-b6ec-e8b991783c58",
   "metadata": {},
   "outputs": [
    {
     "data": {
      "text/plain": [
       "673"
      ]
     },
     "execution_count": 230,
     "metadata": {},
     "output_type": "execute_result"
    }
   ],
   "source": [
    "deliveries['batter'].nunique()"
   ]
  },
  {
   "cell_type": "code",
   "execution_count": 236,
   "id": "18eb46ae-2e2d-4bc7-9d99-cd2e70d39ab2",
   "metadata": {},
   "outputs": [
    {
     "data": {
      "text/plain": [
       "array(['SC Ganguly', 'BB McCullum', 'RT Ponting', 'DJ Hussey',\n",
       "       'Mohammad Hafeez', 'R Dravid', 'W Jaffer', 'V Kohli', 'JH Kallis',\n",
       "       'CL White', 'MV Boucher', 'B Akhil', 'AA Noffke', 'P Kumar',\n",
       "       'Z Khan', 'SB Joshi', 'PA Patel', 'ML Hayden', 'MEK Hussey',\n",
       "       'MS Dhoni', 'SK Raina', 'JDP Oram', 'S Badrinath', 'K Goel',\n",
       "       'JR Hopes', 'KC Sangakkara', 'Yuvraj Singh', 'SM Katich',\n",
       "       'IK Pathan', 'T Kohli', 'YK Pathan', 'SR Watson', 'M Kaif',\n",
       "       'DS Lehmann', 'RA Jadeja', 'M Rawat', 'D Salunkhe', 'SK Warne',\n",
       "       'SK Trivedi', 'G Gambhir', 'V Sehwag', 'S Dhawan', 'L Ronchi',\n",
       "       'ST Jayasuriya', 'DJ Thornely', 'RV Uthappa', 'PR Shah',\n",
       "       'AM Nayar', 'SM Pollock', 'Harbhajan Singh', 'S Chanderpaul',\n",
       "       'LRPL Taylor', 'AC Gilchrist', 'Y Venugopal Rao', 'VVS Laxman',\n",
       "       'A Symonds', 'RG Sharma', 'SB Styris', 'AS Yadav', 'SB Bangar',\n",
       "       'WPUJC Vaas', 'RP Singh', 'WP Saha', 'LR Shukla',\n",
       "       'DPMD Jayawardene', 'S Sohal', 'B Lee', 'PP Chawla', 'WA Mota',\n",
       "       'Kamran Akmal', 'Shahid Afridi', 'DJ Bravo', 'MA Khote', 'A Nehra',\n",
       "       'GC Smith', 'Pankaj Singh', 'RR Sarwan', 'S Sreesanth',\n",
       "       'VRV Singh', 'SS Tiwary', 'DS Kulkarni', 'R Vinay Kumar',\n",
       "       'AB Agarkar', 'M Kartik', 'I Sharma', 'AM Rahane', 'Shoaib Malik',\n",
       "       'MK Tiwary', 'KD Karthik', 'R Bhatia', 'MF Maharoof', 'VY Mahesh',\n",
       "       'TM Srivastava', 'B Chipli', 'DW Steyn', 'DB Das', 'MK Pandey',\n",
       "       'HH Gibbs', 'DNT Zoysa', 'D Kalyankrishna', 'SE Marsh',\n",
       "       'SA Asnodkar', 'Sohail Tanvir', 'Salman Butt', 'BJ Hodge',\n",
       "       'Umar Gul', 'AB Dinda', 'SP Fleming', 'S Vidyut', 'JA Morkel',\n",
       "       'AB de Villiers', 'LPC Silva', 'DB Ravi Teja', 'Misbah-ul-Haq',\n",
       "       'YV Takawale', 'RR Raje', 'PJ Sangwan', 'Mohammad Asif',\n",
       "       'GD McGrath', 'Joginder Sharma', 'MS Gony', 'M Muralitharan',\n",
       "       'M Ntini', 'DT Patil', 'A Kumble', 'S Anirudha', 'MM Patel',\n",
       "       'CK Kapugedera', 'A Chopra', 'T Taibu', 'J Arunkumar', 'PP Ojha',\n",
       "       'SP Goswami', 'SR Tendulkar', 'U Kaul', 'TM Dilshan', 'A Mishra',\n",
       "       'AD Mascarenhas', 'NK Patel', 'LA Pomersbach', 'Iqbal Abdulla',\n",
       "       'Younis Khan', 'PM Sarvesh Kumar', 'DP Vijaykumar',\n",
       "       'Shoaib Akhtar', 'Abdur Razzak', 'H Das', 'DR Smith', 'SD Chitnis',\n",
       "       'CRD Fernando', 'VS Yeligati', 'L Balaji', 'A Mukund', 'RR Powar',\n",
       "       'JP Duminy', 'A Flintoff', 'T Thushara', 'JD Ryder',\n",
       "       'KP Pietersen', 'T Henderson', 'Kamran Khan', 'RS Bopara',\n",
       "       'CH Gayle', 'MC Henriques', 'R Bishnoi', 'FH Edwards', 'KV Sharma',\n",
       "       'PC Valthaty', 'RJ Quiney', 'AS Raut', 'Yashpal Singh', 'M Manhas',\n",
       "       'AA Bilakhia', 'AN Ghosh', 'BAW Mendis', 'DL Vettori',\n",
       "       'MN van Wyk', 'RE van der Merwe', 'TL Suman', 'Shoaib Ahmed',\n",
       "       'GR Napier', 'KP Appanna', 'LA Carseldine', 'NV Ojha',\n",
       "       'SM Harwood', 'M Vijay', 'SB Jakati', 'DA Warner', 'RJ Harris',\n",
       "       'D du Preez', 'M Morkel', 'AD Mathews', 'J Botha', 'C Nanda',\n",
       "       'SL Malinga', 'Mashrafe Mortaza', 'A Singh', 'GJ Bailey',\n",
       "       'AB McDonald', 'Y Nagar', 'SS Shaikh', 'R Ashwin',\n",
       "       'Mohammad Ashraful', 'CA Pujara', 'OA Shah', 'Anirudh Singh',\n",
       "       'Jaskaran Singh', 'AP Tare', 'AT Rayudu', 'R Sathish', 'R McLaren',\n",
       "       'AA Jhunjhunwala', 'P Dogra', 'A Uniyal', 'MS Bisla', 'YA Abdulla',\n",
       "       'EJG Morgan', 'JM Kemp', 'S Tyagi', 'RS Gavaskar', 'SE Bond',\n",
       "       'KA Pollard', 'S Ladda', 'DP Nannes', 'MJ Lumb', 'DR Martyn',\n",
       "       'S Narwal', 'AB Barath', 'Bipul Sharma', 'FY Fazal', 'AC Voges',\n",
       "       'MD Mishra', 'UT Yadav', 'J Theron', 'SJ Srivastava', 'R Sharma',\n",
       "       'Mandeep Singh', 'KM Jadhav', 'SW Tait', 'KB Arun Karthik',\n",
       "       'KAJ Roach', 'PD Collingwood', 'CK Langeveldt', 'VS Malik',\n",
       "       'A Mithun', 'AP Dole', 'AN Ahmed', 'RS Sodhi', 'DE Bollinger',\n",
       "       'S Sriram', 'B Sumanth', 'C Madan', 'AG Paunikar', 'MR Marsh',\n",
       "       'AJ Finch', 'STR Binny', 'Harmeet Singh', 'IR Jaggi',\n",
       "       'DT Christian', 'RV Gomez', 'MA Agarwal', 'AUK Pathan',\n",
       "       'UBT Chand', 'DJ Jacobs', 'Sunny Singh', 'NJ Rimmington',\n",
       "       'AL Menaria', 'WD Parnell', 'JJ van der Wath', 'R Ninan',\n",
       "       'S Aravind', 'MS Wade', 'TD Paine', 'SB Wagh', 'AC Thomas',\n",
       "       'JEC Franklin', 'Shakib Al Hasan', 'DH Yagnik', 'S Randiv',\n",
       "       'BJ Haddin', 'NLTC Perera', 'NL McCullum', 'JE Taylor',\n",
       "       'J Syed Mohammad', 'RN ten Doeschate', 'TR Birt', 'AG Murtaza',\n",
       "       'Harpreet Singh', 'M Klinger', 'AC Blizzard', 'I Malhotra',\n",
       "       'L Ablish', 'CA Ingram', 'S Nadeem', 'P Parameswaran',\n",
       "       'CJ Ferguson', 'VR Aaron', 'AA Chavan', 'ND Doshi', 'B Kumar',\n",
       "       'Y Gnaneswara Rao', 'S Rana', 'BA Bhatt', 'F du Plessis',\n",
       "       'RE Levi', 'GJ Maxwell', 'SPD Smith', 'MN Samuels', 'SA Yadav',\n",
       "       'KK Cooper', 'JP Faulkner', 'HV Patel', 'DAJ Bracewell',\n",
       "       'DJ Harris', 'Ankit Sharma', 'SP Narine', 'GB Hogg', 'RR Bhatkal',\n",
       "       'CJ McKay', 'N Saini', 'DA Miller', 'Azhar Mahmood', 'P Negi',\n",
       "       'RJ Peterson', 'KMDN Kulasekara', 'A Ashish Reddy',\n",
       "       'V Pratap Singh', 'BB Samantray', 'MJ Clarke', 'Gurkeerat Singh',\n",
       "       'AP Majumdar', 'PA Reddy', 'K Upadhyay', 'P Awana', 'AD Russell',\n",
       "       'A Chandila', 'CA Lynn', 'Sunny Gupta', 'MC Juneja', 'KK Nair',\n",
       "       'GH Vihari', 'MDKJ Perera', 'R Shukla', 'B Laughlin', 'AS Rajpoot',\n",
       "       'M Vohra', 'JD Unadkat', 'Mohammed Shami', 'BMAJ Mendis',\n",
       "       'R Rampaul', 'CH Morris', 'SV Samson', 'SMSM Senanayake',\n",
       "       'BJ Rohrer', 'KL Rahul', 'Q de Kock', 'R Dhawan', 'MG Johnson',\n",
       "       'LJ Wright', 'IC Pandey', 'CM Gautam', 'X Thalaivan Sargunam',\n",
       "       'DJG Sammy', 'KW Richardson', 'MM Sharma', 'UA Birla',\n",
       "       'Parvez Rasool', 'Sandeep Sharma', 'S Kaul', 'Sachin Baby',\n",
       "       'PV Tambe', 'NM Coulter-Nile', 'CJ Anderson', 'NJ Maddinson',\n",
       "       'AR Patel', 'JJ Bumrah', 'JDS Neesham', 'TG Southee', 'MA Starc',\n",
       "       'BR Dunk', 'RR Rossouw', 'Shivam Sharma', 'YS Chahal',\n",
       "       'LMP Simmons', 'VH Zol', 'BCJ Cutting', 'Imran Tahir',\n",
       "       'BE Hendricks', 'S Gopal', 'M de Lange', 'R Tewatia', 'JO Holder',\n",
       "       'Karanveer Singh', 'SS Iyer', 'DJ Hooda', 'Anureet Singh',\n",
       "       'KS Williamson', 'SA Abbott', 'J Suchith', 'RG More', 'HH Pandya',\n",
       "       'D Wiese', 'SN Khan', 'MJ McClenaghan', 'DJ Muthuswami',\n",
       "       'PJ Cummins', 'SN Thakur', 'JC Buttler', 'CR Brathwaite',\n",
       "       'MP Stoinis', 'Ishan Kishan', 'C Munro', 'P Sahu', 'KH Pandya',\n",
       "       'AD Nath', 'MJ Guptill', 'KJ Abbott', 'TM Head', 'M Ashwin',\n",
       "       'NS Naik', 'RR Pant', 'SW Billings', 'KC Cariappa',\n",
       "       'PSP Handscomb', 'Swapnil Singh', 'J Yadav', 'UT Khawaja',\n",
       "       'HM Amla', 'F Behardien', 'BB Sran', 'A Zampa', 'N Rana',\n",
       "       'S Kaushik', 'ER Dwivedi', 'CJ Jordan', 'TS Mills', 'A Choudhary',\n",
       "       'BA Stokes', 'JJ Roy', 'Vishnu Vinod', 'Basil Thampi', 'CR Woakes',\n",
       "       'RA Tripathi', 'DL Chahar', 'V Shankar', 'Rashid Khan',\n",
       "       'RD Chahar', 'LH Ferguson', 'C de Grandhomme', 'AF Milne',\n",
       "       'S Badree', 'Mohammad Nabi', 'AJ Tye', 'K Rabada', 'Kuldeep Yadav',\n",
       "       'Washington Sundar', 'DM Bravo', 'AR Bawne', 'SP Jackson',\n",
       "       'Ankit Soni', 'TA Boult', 'E Lewis', 'MA Wood', 'RK Singh',\n",
       "       'DJM Short', 'K Gowtham', 'TK Curran', 'M Markande', 'B Stanlake',\n",
       "       'Mujeeb Ur Rahman', 'A Dananjaya', 'Shubman Gill', 'Shivam Mavi',\n",
       "       'Mohammed Siraj', 'H Klaasen', 'RK Bhui', 'JC Archer', 'PP Shaw',\n",
       "       'LE Plunkett', 'Mustafizur Rahman', 'AD Hales', 'MK Lomror',\n",
       "       'DR Shorey', 'MM Ali', 'M Prasidh Krishna', 'P Chopra',\n",
       "       'JPR Scantlebury-Searles', 'Abhishek Sharma', 'IS Sodhi',\n",
       "       'SO Hetmyer', 'S Dube', 'Navdeep Saini', 'JM Bairstow', 'KMA Paul',\n",
       "       'Rasikh Salam', 'N Pooran', 'P Ray Barman', 'SM Curran',\n",
       "       'GC Viljoen', 'Avesh Khan', 'S Lamichhane', 'HF Gurney', 'SD Lad',\n",
       "       'AS Joseph', 'R Parag', 'MJ Santner', 'JL Denly', 'LS Livingstone',\n",
       "       'KK Ahmed', 'AJ Turner', 'Harpreet Brar', 'SE Rutherford',\n",
       "       'Y Prithvi Raj', 'P Simran Singh', 'JL Pattinson', 'A Nortje',\n",
       "       'T Banton', 'D Padikkal', 'YBK Jaiswal', 'RD Gaikwad',\n",
       "       'TU Deshpande', 'Abdul Samad', 'PK Garg', 'JR Philippe',\n",
       "       'Kartik Tyagi', 'KL Nagarkoti', 'CV Varun', 'I Udana',\n",
       "       'Ravi Bishnoi', 'Shahbaz Ahmed', 'AT Carey', 'N Jagadeesan',\n",
       "       'T Natarajan', 'P Dubey', 'SS Cottrell', 'Arshdeep Singh',\n",
       "       'DR Sams', 'M Jansen', 'RM Patidar', 'KA Jamieson',\n",
       "       'M Shahrukh Khan', 'JA Richardson', 'Lalit Yadav', 'Virat Singh',\n",
       "       'FA Allen', 'C Sakariya', 'DJ Malan', 'KS Bharat', 'PWH de Silva',\n",
       "       'VR Iyer', 'GD Phillips', 'GHS Garton', 'AK Markram', 'K Yadav',\n",
       "       'T Shamsi', 'NT Ellis', 'RV Patel', 'TL Seifert',\n",
       "       'Anmolpreet Singh', 'Anuj Rawat', 'TH David', 'DP Conway',\n",
       "       'Tilak Varma', 'R Powell', 'PBB Rajapaksa', 'RA Bawa', 'OF Smith',\n",
       "       'A Badoni', 'PVD Chameera', 'A Manohar', 'R Shepherd', 'DJ Willey',\n",
       "       'D Pretorius', 'JM Sharma', 'VG Arora', 'Mukesh Choudhary',\n",
       "       'Umran Malik', 'D Brevis', 'B Sai Sudharsan', 'Ramandeep Singh',\n",
       "       'HE van der Dussen', 'SS Prabhudessai', 'Akash Deep',\n",
       "       'JR Hazlewood', 'KR Sen', 'Aman Hakim Khan', 'HR Shokeen',\n",
       "       'Yash Dayal', 'DJ Mitchell', 'Shashank Singh', 'B Indrajith',\n",
       "       'Harshit Rana', 'Mohsin Khan', 'Simarjeet Singh', 'M Theekshana',\n",
       "       'AS Roy', 'Fazalhaq Farooqi', 'K Kartikeya', 'RP Meredith',\n",
       "       'KS Sharma', 'T Stubbs', 'R Sanjay Yadav', 'A Tomar', 'PN Mankad',\n",
       "       'OC McCoy', 'Sikandar Raza', 'Rahmanullah Gurbaz', 'KR Mayers',\n",
       "       'Mukesh Kumar', 'HC Brook', 'AU Rashid', 'C Green', 'N Wadhera',\n",
       "       'Arshad Khan', 'Abishek Porel', 'Dhruv Jurel', 'MG Bracewell',\n",
       "       'MW Short', 'Mohit Rathee', 'YV Dhull', 'Yudhvir Singh',\n",
       "       'Atharva Taide', 'Liton Das', 'PD Salt', 'Vijaykumar Vyshak',\n",
       "       'Abdul Basith', 'Arjun Tendulkar', 'JP Behrendorff', 'AJ Hosein',\n",
       "       'Naveen-ul-Haq', 'Noor Ahmad', 'JE Root', 'KM Asif', 'MD Shanaka',\n",
       "       'Sanvir Singh', 'Vivrant Sharma', 'DG Nalkande', 'R Ravindra',\n",
       "       'SD Hope', 'Sumit Kumar', 'Azmatullah Omarzai', 'Naman Dhir',\n",
       "       'G Coetzee', 'SZ Mulani', 'Sameer Rizvi', 'SH Johnson',\n",
       "       'Akash Madhwal', 'SB Dubey', 'Mayank Dagar', 'RJW Topley',\n",
       "       'A Raghuvanshi', 'Ashutosh Sharma', 'Nithish Kumar Reddy',\n",
       "       'Saurav Chauhan', 'Kumar Kushagra', 'BR Sharath', 'WG Jacks',\n",
       "       'J Fraser-McGurk', 'Tanush Kotian', 'KA Maharaj',\n",
       "       'Arshad Khan (2)', 'R Sai Kishore', 'L Wood', 'LB Williams',\n",
       "       'AA Kulkarni', 'MJ Suthar', 'RJ Gleeson', 'Gulbadin Naib',\n",
       "       'D Ferreira', 'A Kamboj', 'T Kohler-Cadmore', 'Shivam Singh',\n",
       "       'V Viyaskanth'], dtype=object)"
      ]
     },
     "execution_count": 236,
     "metadata": {},
     "output_type": "execute_result"
    }
   ],
   "source": [
    "deliveries['batter'].unique()"
   ]
  },
  {
   "cell_type": "markdown",
   "id": "dc10861a-6166-45b0-a21e-12d9a5df71ac",
   "metadata": {},
   "source": [
    "- there are total 673 batter played in IPL till now"
   ]
  },
  {
   "cell_type": "markdown",
   "id": "42d530fb-03e4-4170-8649-3169994f842d",
   "metadata": {},
   "source": [
    "#### bowler"
   ]
  },
  {
   "cell_type": "code",
   "execution_count": 242,
   "id": "71d54908-2ae4-411f-a06b-657ea4eac833",
   "metadata": {},
   "outputs": [
    {
     "data": {
      "text/plain": [
       "0"
      ]
     },
     "execution_count": 242,
     "metadata": {},
     "output_type": "execute_result"
    }
   ],
   "source": [
    "deliveries['bowler'].isnull().sum()"
   ]
  },
  {
   "cell_type": "code",
   "execution_count": 244,
   "id": "84b75775-6d1f-4cba-88e4-1fba641021a7",
   "metadata": {},
   "outputs": [
    {
     "data": {
      "text/plain": [
       "530"
      ]
     },
     "execution_count": 244,
     "metadata": {},
     "output_type": "execute_result"
    }
   ],
   "source": [
    "deliveries['bowler'].nunique()"
   ]
  },
  {
   "cell_type": "code",
   "execution_count": 246,
   "id": "191fde29-d4b0-4dde-91b2-08790bebe3f2",
   "metadata": {
    "scrolled": true
   },
   "outputs": [
    {
     "data": {
      "text/plain": [
       "array(['P Kumar', 'Z Khan', 'AA Noffke', 'JH Kallis', 'SB Joshi',\n",
       "       'CL White', 'AB Dinda', 'I Sharma', 'AB Agarkar', 'SC Ganguly',\n",
       "       'LR Shukla', 'B Lee', 'S Sreesanth', 'JR Hopes', 'IK Pathan',\n",
       "       'K Goel', 'PP Chawla', 'WA Mota', 'JDP Oram', 'MS Gony',\n",
       "       'M Muralitharan', 'P Amarnath', 'Joginder Sharma', 'GD McGrath',\n",
       "       'B Geeves', 'MF Maharoof', 'R Bhatia', 'DL Vettori', 'MM Patel',\n",
       "       'SR Watson', 'SK Trivedi', 'SK Warne', 'YK Pathan', 'D Salunkhe',\n",
       "       'R Vinay Kumar', 'B Akhil', 'A Nehra', 'SM Pollock', 'DS Kulkarni',\n",
       "       'ST Jayasuriya', 'Harbhajan Singh', 'AM Nayar', 'M Kartik',\n",
       "       'Mohammad Hafeez', 'DJ Hussey', 'WPUJC Vaas', 'RP Singh',\n",
       "       'SB Styris', 'SB Bangar', 'A Symonds', 'PP Ojha', 'Pankaj Singh',\n",
       "       'Mohammad Asif', 'VY Mahesh', 'Shahid Afridi', 'DJ Bravo',\n",
       "       'VS Yeligati', 'MA Khote', 'D Kalyankrishna', 'VRV Singh',\n",
       "       'Sohail Tanvir', 'A Kumble', 'DNT Zoysa', 'SD Chitnis',\n",
       "       'Yuvraj Singh', 'Shoaib Malik', 'DW Steyn', 'JA Morkel',\n",
       "       'CRD Fernando', 'V Kohli', 'V Sehwag', 'Gagandeep Singh',\n",
       "       'Y Venugopal Rao', 'Umar Gul', 'PJ Sangwan', 'M Ntini',\n",
       "       'DP Vijaykumar', 'DB Ravi Teja', 'LPC Silva', 'DJ Thornely',\n",
       "       'RR Raje', 'SK Raina', 'S Vidyut', 'L Balaji', 'CK Kapugedera',\n",
       "       'DR Smith', 'AD Mascarenhas', 'A Mishra', 'Shoaib Akhtar',\n",
       "       'Iqbal Abdulla', 'RR Powar', 'PM Sarvesh Kumar', 'Abdur Razzak',\n",
       "       'RA Jadeja', 'TM Dilshan', 'RG Sharma', 'A Nel', 'BAW Mendis',\n",
       "       'T Thushara', 'A Flintoff', 'SL Malinga', 'Kamran Khan',\n",
       "       'T Henderson', 'JD Ryder', 'DP Nannes', 'AM Salvi', 'YA Abdulla',\n",
       "       'VS Malik', 'FH Edwards', 'Harmeet Singh', 'CH Gayle',\n",
       "       'MC Henriques', 'KP Pietersen', 'LRPL Taylor', 'RS Bopara',\n",
       "       'MK Tiwary', 'Anureet Singh', 'RR Bose', 'KP Appanna',\n",
       "       'Shoaib Ahmed', 'BJ Hodge', 'SR Tendulkar', 'RE van der Merwe',\n",
       "       'JP Duminy', 'S Tyagi', 'GR Napier', 'SM Harwood', 'AS Raut',\n",
       "       'SB Jakati', 'D du Preez', 'RJ Harris', 'TL Suman', 'A Singh',\n",
       "       'M Morkel', 'LA Carseldine', 'A Mithun', 'C Nanda', 'SS Sarkar',\n",
       "       'AD Mathews', 'AM Rahane', 'J Botha', 'Mashrafe Mortaza',\n",
       "       'AB McDonald', 'Y Nagar', 'CK Langeveldt', 'R Ashwin', 'RA Shaikh',\n",
       "       'Jaskaran Singh', 'SW Tait', 'A Uniyal', 'AA Jhunjhunwala',\n",
       "       'R McLaren', 'AG Murtaza', 'R Sathish', 'RS Gavaskar', 'JM Kemp',\n",
       "       'S Ladda', 'Bipul Sharma', 'SE Bond', 'KA Pollard', 'S Narwal',\n",
       "       'UT Yadav', 'SJ Srivastava', 'AC Voges', 'R Sharma', 'J Theron',\n",
       "       'NLTC Perera', 'KAJ Roach', 'PD Collingwood', 'C Ganapathy',\n",
       "       'MB Parmar', 'SB Wagh', 'DE Bollinger', 'JD Unadkat', 'AP Dole',\n",
       "       'AN Ahmed', 'FY Fazal', 'MR Marsh', 'L Ablish', 'S Sriram',\n",
       "       'AJ Finch', 'STR Binny', 'ND Doshi', 'TG Southee', 'S Randiv',\n",
       "       'AL Menaria', 'DT Christian', 'AUK Pathan', 'RV Gomez',\n",
       "       'JEC Franklin', 'AC Thomas', 'WD Parnell', 'M Manhas',\n",
       "       'NJ Rimmington', 'RN ten Doeschate', 'S Nadeem', 'BA Bhatt',\n",
       "       'JJ van der Wath', 'S Aravind', 'R Ninan', 'Shakib Al Hasan',\n",
       "       'PC Valthaty', 'S Dhawan', 'J Syed Mohammad', 'VR Aaron',\n",
       "       'NL McCullum', 'JE Taylor', 'KMDN Kulasekara', 'P Parameswaran',\n",
       "       'I Malhotra', 'B Chipli', 'B Kumar', 'AA Kazi', 'Anand Rajan',\n",
       "       'P Prasanth', 'Y Gnaneswara Rao', 'AA Chavan', 'S Rana',\n",
       "       'JP Faulkner', 'SS Mundhe', 'RW Price', 'GJ Maxwell', 'M de Lange',\n",
       "       'MN Samuels', 'KK Cooper', 'DAJ Bracewell', 'HV Patel',\n",
       "       'Ankit Sharma', 'DJ Harris', 'TP Sudhindra', 'F du Plessis',\n",
       "       'SP Narine', 'GB Hogg', 'RR Bhatkal', 'P Awana', 'V Pratap Singh',\n",
       "       'CJ McKay', 'AD Russell', 'A Ashish Reddy', 'Azhar Mahmood',\n",
       "       'A Chandila', 'P Negi', 'LJ Wright', 'RJ Peterson', 'R Shukla',\n",
       "       'MJ Clarke', 'BW Hilfenhaus', 'SPD Smith', 'K Upadhyay',\n",
       "       'Sunny Gupta', 'MG Johnson', 'JJ Bumrah', 'S Badree', 'AS Rajpoot',\n",
       "       'B Laughlin', 'GH Vihari', 'Mohammed Shami', 'BMAJ Mendis',\n",
       "       'CH Morris', 'S Kaul', 'R Dhawan', 'MM Sharma', 'R Rampaul',\n",
       "       'KV Sharma', 'SMSM Senanayake', 'JO Holder', 'IC Pandey',\n",
       "       'Sandeep Sharma', 'YS Chahal', 'DJG Sammy', 'KW Richardson',\n",
       "       'P Suyal', 'PV Tambe', 'BJ Rohrer', 'Parvez Rasool', 'MG Neser',\n",
       "       'NM Coulter-Nile', 'AC Gilchrist', 'CJ Anderson', 'MA Starc',\n",
       "       'JDS Neesham', 'AR Patel', 'M Vijay', 'R Tewatia', 'SA Yadav',\n",
       "       'Shivam Sharma', 'Imran Tahir', 'V Shankar', 'LMP Simmons',\n",
       "       'BCJ Cutting', 'K Santokie', 'S Gopal', 'BE Hendricks',\n",
       "       'PJ Cummins', 'JW Hastings', 'Karanveer Singh', 'DJ Muthuswami',\n",
       "       'TA Boult', 'SA Abbott', 'KC Cariappa', 'DJ Hooda', 'J Suchith',\n",
       "       'RG More', 'D Wiese', 'MJ McClenaghan', 'HH Pandya', 'SN Thakur',\n",
       "       'GS Sandhu', 'Gurkeerat Singh', 'J Yadav', 'BB Sran', 'M Ashwin',\n",
       "       'C Munro', 'CR Brathwaite', 'MP Stoinis', 'P Sahu',\n",
       "       'Mustafizur Rahman', 'AF Milne', 'Kuldeep Yadav', 'KH Pandya',\n",
       "       'KJ Abbott', 'T Shamsi', 'S Kaushik', 'SM Boland', 'Swapnil Singh',\n",
       "       'CJ Jordan', 'A Zampa', 'Sachin Baby', 'N Rana', 'DL Chahar',\n",
       "       'KS Williamson', 'TS Mills', 'A Choudhary', 'TM Head',\n",
       "       'Rashid Khan', 'BA Stokes', 'CR Woakes', 'T Natarajan',\n",
       "       'RD Chahar', 'B Stanlake', 'Tejas Baroka', 'Basil Thampi',\n",
       "       'C de Grandhomme', 'AJ Tye', 'LH Ferguson', 'Mohammad Nabi',\n",
       "       'Mohammed Siraj', 'K Rabada', 'Washington Sundar', 'SS Agarwal',\n",
       "       'NB Singh', 'RA Tripathi', 'Ankit Soni', 'MJ Henry', 'Avesh Khan',\n",
       "       'MA Wood', 'M Markande', 'Mujeeb Ur Rahman', 'K Khejroliya',\n",
       "       'K Gowtham', 'DJM Short', 'TK Curran', 'A Dananjaya',\n",
       "       'Shivam Mavi', 'JC Archer', 'LE Plunkett', 'IS Sodhi', 'MK Lomror',\n",
       "       'L Ngidi', 'KM Asif', 'DJ Willey', 'M Prasidh Krishna', 'MM Ali',\n",
       "       'JPR Scantlebury-Searles', 'S Lamichhane', 'CJ Dala', 'KK Ahmed',\n",
       "       'Navdeep Saini', 'S Dube', 'Rasikh Salam', 'KMA Paul', 'SM Curran',\n",
       "       'CV Varun', 'GC Viljoen', 'Mandeep Singh', 'P Ray Barman',\n",
       "       'MJ Santner', 'JP Behrendorff', 'SC Kuggeleijn', 'AS Joseph',\n",
       "       'HF Gurney', 'S Midhun', 'R Parag', 'LS Livingstone', 'SN Khan',\n",
       "       'Abhishek Sharma', 'Arshdeep Singh', 'SE Rutherford',\n",
       "       'Harpreet Brar', 'Y Prithvi Raj', 'O Thomas', 'AS Roy',\n",
       "       'S Sandeep Warrier', 'JL Pattinson', 'SS Cottrell', 'Ravi Bishnoi',\n",
       "       'A Nortje', 'I Udana', 'TU Deshpande', 'KL Nagarkoti',\n",
       "       'Kartik Tyagi', 'DR Sams', 'Shahbaz Ahmed', 'Abdul Samad',\n",
       "       'JR Hazlewood', 'DA Warner', 'CJ Green', 'P Dubey', 'Monu Kumar',\n",
       "       'KA Jamieson', 'M Jansen', 'C Sakariya', 'JA Richardson',\n",
       "       'RP Meredith', 'LI Meriwala', 'Lalit Yadav', 'Jalaj S Saxena',\n",
       "       'FA Allen', 'PWH de Silva', 'Umran Malik', 'Akash Singh',\n",
       "       'GD Phillips', 'AK Markram', 'GHS Garton', 'VR Iyer', 'K Yadav',\n",
       "       'NT Ellis', 'RV Patel', 'IC Porel', 'AU Rashid', 'OF Smith',\n",
       "       'Akash Deep', 'PVD Chameera', 'Mohsin Khan', 'R Shepherd',\n",
       "       'Mukesh Choudhary', 'D Pretorius', 'VG Arora', 'YBK Jaiswal',\n",
       "       'Tilak Varma', 'DG Nalkande', 'M Theekshana', 'D Brevis',\n",
       "       'R Powell', 'KR Sen', 'Yash Dayal', 'Shashank Singh',\n",
       "       'Aman Hakim Khan', 'OC McCoy', 'HR Shokeen', 'A Badoni',\n",
       "       'DJ Mitchell', 'Harshit Rana', 'SS Iyer', 'K Kartikeya',\n",
       "       'Simarjeet Singh', 'Fazalhaq Farooqi', 'R Sai Kishore',\n",
       "       'Ramandeep Singh', 'PH Solanki', 'M Pathirana', 'R Sanjay Yadav',\n",
       "       'J Little', 'RS Hangargekar', 'Sikandar Raza', 'Mukesh Kumar',\n",
       "       'KR Mayers', 'NA Saini', 'RJW Topley', 'MG Bracewell',\n",
       "       'Arshad Khan', 'C Green', 'Yash Thakur', 'Suyash Sharma',\n",
       "       'SSB Magala', 'Mohit Rathee', 'MW Short', 'Vijaykumar Vyshak',\n",
       "       'Yudhvir Singh', 'Arjun Tendulkar', 'D Jansen', 'Noor Ahmad',\n",
       "       'Naveen-ul-Haq', 'Mayank Dagar', 'Gurnoor Brar', 'AJ Hosein',\n",
       "       'Akash Madhwal', 'R Goyal', 'T Stubbs', 'Vivrant Sharma',\n",
       "       'JE Root', 'Nithish Kumar Reddy', 'H Sharma', 'Sumit Kumar',\n",
       "       'N Burger', 'L Wood', 'SZ Mulani', 'Naman Dhir', 'G Coetzee',\n",
       "       'Azmatullah Omarzai', 'SH Johnson', 'KT Maphaka', 'M Siddharth',\n",
       "       'MP Yadav', 'R Ravindra', 'KA Maharaj', 'WG Jacks', 'S Joseph',\n",
       "       'Arshad Khan (2)', 'M Shahrukh Khan', 'N Thushara', 'LB Williams',\n",
       "       'RJ Gleeson', 'MJ Suthar', 'A Kamboj', 'V Viyaskanth',\n",
       "       'V Kaverappa', 'Gulbadin Naib', 'N Wadhera', 'Atharva Taide'],\n",
       "      dtype=object)"
      ]
     },
     "execution_count": 246,
     "metadata": {},
     "output_type": "execute_result"
    }
   ],
   "source": [
    "deliveries['bowler'].unique()"
   ]
  },
  {
   "cell_type": "markdown",
   "id": "710e931d-146f-4cc1-84c1-c6ace9e0c04e",
   "metadata": {},
   "source": [
    "- 530 bowlers played IPL till now"
   ]
  },
  {
   "cell_type": "markdown",
   "id": "55860efb-7ed7-47d4-8bf7-0605bacb31ed",
   "metadata": {},
   "source": [
    "#### non-striker"
   ]
  },
  {
   "cell_type": "code",
   "execution_count": 250,
   "id": "d1fd19f1-7cd3-4639-a4f3-a3256566109f",
   "metadata": {},
   "outputs": [
    {
     "data": {
      "text/plain": [
       "0"
      ]
     },
     "execution_count": 250,
     "metadata": {},
     "output_type": "execute_result"
    }
   ],
   "source": [
    "deliveries['non_striker'].isnull().sum()"
   ]
  },
  {
   "cell_type": "code",
   "execution_count": 254,
   "id": "15c40303-6bb1-467c-8520-2f12e0d0e025",
   "metadata": {},
   "outputs": [
    {
     "data": {
      "text/plain": [
       "663"
      ]
     },
     "execution_count": 254,
     "metadata": {},
     "output_type": "execute_result"
    }
   ],
   "source": [
    "deliveries['non_striker'].nunique()"
   ]
  },
  {
   "cell_type": "code",
   "execution_count": 256,
   "id": "722abb38-66aa-4e74-bbab-bf250f99709e",
   "metadata": {},
   "outputs": [
    {
     "data": {
      "text/plain": [
       "array(['BB McCullum', 'SC Ganguly', 'RT Ponting', 'DJ Hussey',\n",
       "       'Mohammad Hafeez', 'W Jaffer', 'R Dravid', 'V Kohli', 'JH Kallis',\n",
       "       'CL White', 'MV Boucher', 'B Akhil', 'AA Noffke', 'P Kumar',\n",
       "       'Z Khan', 'SB Joshi', 'ML Hayden', 'PA Patel', 'MEK Hussey',\n",
       "       'MS Dhoni', 'SK Raina', 'JDP Oram', 'S Badrinath', 'JR Hopes',\n",
       "       'K Goel', 'KC Sangakkara', 'Yuvraj Singh', 'SM Katich',\n",
       "       'IK Pathan', 'YK Pathan', 'T Kohli', 'SR Watson', 'M Kaif',\n",
       "       'DS Lehmann', 'RA Jadeja', 'M Rawat', 'D Salunkhe', 'SK Warne',\n",
       "       'SK Trivedi', 'V Sehwag', 'G Gambhir', 'S Dhawan', 'ST Jayasuriya',\n",
       "       'L Ronchi', 'DJ Thornely', 'RV Uthappa', 'PR Shah', 'AM Nayar',\n",
       "       'SM Pollock', 'Harbhajan Singh', 'S Chanderpaul', 'LRPL Taylor',\n",
       "       'Y Venugopal Rao', 'AC Gilchrist', 'VVS Laxman', 'A Symonds',\n",
       "       'SB Styris', 'AS Yadav', 'SB Bangar', 'WPUJC Vaas', 'RP Singh',\n",
       "       'PP Ojha', 'WP Saha', 'LR Shukla', 'DPMD Jayawardene', 'S Sohal',\n",
       "       'PP Chawla', 'WA Mota', 'Kamran Akmal', 'RG Sharma',\n",
       "       'Shahid Afridi', 'DJ Bravo', 'MA Khote', 'A Nehra', 'GC Smith',\n",
       "       'Pankaj Singh', 'RR Sarwan', 'B Lee', 'S Sreesanth', 'VRV Singh',\n",
       "       'SS Tiwary', 'DS Kulkarni', 'R Vinay Kumar', 'AB Agarkar',\n",
       "       'M Kartik', 'I Sharma', 'AB Dinda', 'AM Rahane', 'Shoaib Malik',\n",
       "       'MK Tiwary', 'KD Karthik', 'R Bhatia', 'MF Maharoof', 'VY Mahesh',\n",
       "       'TM Srivastava', 'B Chipli', 'DW Steyn', 'DB Das', 'MK Pandey',\n",
       "       'HH Gibbs', 'DNT Zoysa', 'D Kalyankrishna', 'SE Marsh',\n",
       "       'SA Asnodkar', 'Sohail Tanvir', 'Salman Butt', 'BJ Hodge',\n",
       "       'Umar Gul', 'SP Fleming', 'S Vidyut', 'JA Morkel',\n",
       "       'Joginder Sharma', 'AB de Villiers', 'LPC Silva', 'DB Ravi Teja',\n",
       "       'DP Vijaykumar', 'Misbah-ul-Haq', 'YV Takawale', 'RR Raje',\n",
       "       'PJ Sangwan', 'Mohammad Asif', 'GD McGrath', 'MS Gony', 'M Ntini',\n",
       "       'DT Patil', 'A Kumble', 'S Anirudha', 'MM Patel', 'CK Kapugedera',\n",
       "       'A Chopra', 'T Taibu', 'J Arunkumar', 'SP Goswami', 'SR Tendulkar',\n",
       "       'TM Dilshan', 'A Mishra', 'AD Mascarenhas', 'NK Patel',\n",
       "       'LA Pomersbach', 'Iqbal Abdulla', 'Younis Khan',\n",
       "       'PM Sarvesh Kumar', 'Shoaib Akhtar', 'Abdur Razzak', 'H Das',\n",
       "       'DR Smith', 'SD Chitnis', 'CRD Fernando', 'A Nel', 'RR Powar',\n",
       "       'JP Duminy', 'A Flintoff', 'KP Pietersen', 'T Henderson',\n",
       "       'Kamran Khan', 'RS Bopara', 'CH Gayle', 'MC Henriques',\n",
       "       'R Bishnoi', 'FH Edwards', 'KV Sharma', 'DL Vettori', 'L Balaji',\n",
       "       'M Muralitharan', 'PC Valthaty', 'AS Raut', 'Yashpal Singh',\n",
       "       'JD Ryder', 'M Manhas', 'RJ Quiney', 'AA Bilakhia', 'AN Ghosh',\n",
       "       'BAW Mendis', 'MN van Wyk', 'RE van der Merwe', 'TL Suman',\n",
       "       'GR Napier', 'KP Appanna', 'LA Carseldine', 'NV Ojha',\n",
       "       'SM Harwood', 'M Vijay', 'SB Jakati', 'S Tyagi', 'DA Warner',\n",
       "       'RJ Harris', 'Shoaib Ahmed', 'D du Preez', 'SL Malinga',\n",
       "       'M Morkel', 'AD Mathews', 'J Botha', 'Mashrafe Mortaza',\n",
       "       'Jaskaran Singh', 'GJ Bailey', 'AB McDonald', 'Y Nagar', 'A Singh',\n",
       "       'SS Shaikh', 'R Ashwin', 'T Thushara', 'Mohammad Ashraful',\n",
       "       'CA Pujara', 'OA Shah', 'Anirudh Singh', 'AP Tare', 'AT Rayudu',\n",
       "       'R Sathish', 'R McLaren', 'AA Jhunjhunwala', 'P Dogra', 'MS Bisla',\n",
       "       'YA Abdulla', 'EJG Morgan', 'JM Kemp', 'A Uniyal', 'RS Gavaskar',\n",
       "       'SE Bond', 'KA Pollard', 'S Ladda', 'DP Nannes', 'MJ Lumb',\n",
       "       'DR Martyn', 'AB Barath', 'Bipul Sharma', 'FY Fazal', 'AC Voges',\n",
       "       'MD Mishra', 'UT Yadav', 'J Theron', 'SJ Srivastava',\n",
       "       'Mandeep Singh', 'KM Jadhav', 'S Narwal', 'SW Tait',\n",
       "       'KB Arun Karthik', 'KAJ Roach', 'PD Collingwood', 'VS Malik',\n",
       "       'C Ganapathy', 'R Sharma', 'A Mithun', 'AP Dole', 'Harmeet Singh',\n",
       "       'AN Ahmed', 'RS Sodhi', 'S Sriram', 'B Sumanth', 'C Madan',\n",
       "       'AG Paunikar', 'DE Bollinger', 'MR Marsh', 'AJ Finch', 'STR Binny',\n",
       "       'IR Jaggi', 'DT Christian', 'RV Gomez', 'MA Agarwal', 'AUK Pathan',\n",
       "       'DJ Jacobs', 'Sunny Singh', 'NJ Rimmington', 'UBT Chand',\n",
       "       'AL Menaria', 'WD Parnell', 'R Ninan', 'S Aravind',\n",
       "       'JJ van der Wath', 'MS Wade', 'S Nadeem', 'TD Paine', 'SB Wagh',\n",
       "       'AC Thomas', 'JEC Franklin', 'Shakib Al Hasan', 'DH Yagnik',\n",
       "       'S Randiv', 'BJ Haddin', 'NLTC Perera', 'NL McCullum', 'JE Taylor',\n",
       "       'J Syed Mohammad', 'RN ten Doeschate', 'TR Birt', 'AG Murtaza',\n",
       "       'Harpreet Singh', 'M Klinger', 'AC Blizzard', 'I Malhotra',\n",
       "       'L Ablish', 'P Parameswaran', 'CJ Ferguson', 'CA Ingram',\n",
       "       'VR Aaron', 'AA Chavan', 'ND Doshi', 'B Kumar', 'CK Langeveldt',\n",
       "       'Y Gnaneswara Rao', 'S Rana', 'BA Bhatt', 'F du Plessis',\n",
       "       'RE Levi', 'GJ Maxwell', 'SPD Smith', 'MN Samuels', 'SA Yadav',\n",
       "       'JP Faulkner', 'DAJ Bracewell', 'DJ Harris', 'Ankit Sharma',\n",
       "       'TP Sudhindra', 'KK Cooper', 'HV Patel', 'GB Hogg', 'RR Bhatkal',\n",
       "       'CJ McKay', 'N Saini', 'DA Miller', 'Azhar Mahmood', 'P Negi',\n",
       "       'RJ Peterson', 'P Awana', 'KMDN Kulasekara', 'A Ashish Reddy',\n",
       "       'BB Samantray', 'MJ Clarke', 'Gurkeerat Singh', 'AP Majumdar',\n",
       "       'PA Reddy', 'K Upadhyay', 'SP Narine', 'AD Russell', 'CA Lynn',\n",
       "       'Sunny Gupta', 'MC Juneja', 'KK Nair', 'GH Vihari', 'MDKJ Perera',\n",
       "       'B Laughlin', 'AS Rajpoot', 'M Vohra', 'JD Unadkat',\n",
       "       'Mohammed Shami', 'BMAJ Mendis', 'R Rampaul', 'CH Morris',\n",
       "       'SV Samson', 'SMSM Senanayake', 'BJ Rohrer', 'KL Rahul',\n",
       "       'Q de Kock', 'R Dhawan', 'MG Johnson', 'A Chandila', 'LJ Wright',\n",
       "       'CM Gautam', 'X Thalaivan Sargunam', 'DJG Sammy', 'A Mukund',\n",
       "       'KW Richardson', 'UA Birla', 'Parvez Rasool', 'Sandeep Sharma',\n",
       "       'S Kaul', 'Sachin Baby', 'PV Tambe', 'NM Coulter-Nile',\n",
       "       'MM Sharma', 'CJ Anderson', 'NJ Maddinson', 'AR Patel',\n",
       "       'JJ Bumrah', 'JDS Neesham', 'BW Hilfenhaus', 'TG Southee',\n",
       "       'MA Starc', 'YS Chahal', 'BR Dunk', 'RR Rossouw', 'R Shukla',\n",
       "       'LMP Simmons', 'VH Zol', 'BCJ Cutting', 'Imran Tahir',\n",
       "       'BE Hendricks', 'S Gopal', 'M de Lange', 'R Tewatia', 'JO Holder',\n",
       "       'Karanveer Singh', 'SS Iyer', 'DJ Muthuswami', 'DJ Hooda',\n",
       "       'Anureet Singh', 'KS Williamson', 'SA Abbott', 'J Suchith',\n",
       "       'RG More', 'HH Pandya', 'D Wiese', 'SN Khan', 'MJ McClenaghan',\n",
       "       'SN Thakur', 'JC Buttler', 'CR Brathwaite', 'MP Stoinis',\n",
       "       'Ishan Kishan', 'C Munro', 'P Sahu', 'KH Pandya', 'AD Nath',\n",
       "       'KJ Abbott', 'TM Head', 'NS Naik', 'RR Pant', 'SW Billings',\n",
       "       'KC Cariappa', 'S Kaushik', 'PSP Handscomb', 'Swapnil Singh',\n",
       "       'J Yadav', 'UT Khawaja', 'HM Amla', 'F Behardien', 'BB Sran',\n",
       "       'N Rana', 'MJ Guptill', 'ER Dwivedi', 'CJ Jordan', 'TS Mills',\n",
       "       'A Choudhary', 'BA Stokes', 'JJ Roy', 'Vishnu Vinod', 'PJ Cummins',\n",
       "       'Basil Thampi', 'CR Woakes', 'RA Tripathi', 'DL Chahar', 'A Zampa',\n",
       "       'V Shankar', 'Rashid Khan', 'LH Ferguson', 'RD Chahar',\n",
       "       'C de Grandhomme', 'AF Milne', 'S Badree', 'Mohammad Nabi',\n",
       "       'AJ Tye', 'K Rabada', 'Kuldeep Yadav', 'DM Bravo', 'AR Bawne',\n",
       "       'SP Jackson', 'Ankit Soni', 'Washington Sundar', 'TA Boult',\n",
       "       'E Lewis', 'MA Wood', 'RK Singh', 'DJM Short', 'K Gowtham',\n",
       "       'TK Curran', 'M Markande', 'B Stanlake', 'Mujeeb Ur Rahman',\n",
       "       'A Dananjaya', 'Shubman Gill', 'Shivam Mavi', 'Mohammed Siraj',\n",
       "       'H Klaasen', 'JC Archer', 'PP Shaw', 'LE Plunkett',\n",
       "       'Mustafizur Rahman', 'AD Hales', 'MK Lomror', 'DR Shorey',\n",
       "       'MM Ali', 'M Prasidh Krishna', 'P Chopra',\n",
       "       'JPR Scantlebury-Searles', 'Abhishek Sharma', 'IS Sodhi',\n",
       "       'SO Hetmyer', 'S Dube', 'Navdeep Saini', 'JM Bairstow', 'KMA Paul',\n",
       "       'Rasikh Salam', 'N Pooran', 'P Ray Barman', 'SM Curran',\n",
       "       'GC Viljoen', 'Avesh Khan', 'AS Joseph', 'HF Gurney', 'SD Lad',\n",
       "       'R Parag', 'LS Livingstone', 'RK Bhui', 'AJ Turner',\n",
       "       'Harpreet Brar', 'SE Rutherford', 'Y Prithvi Raj', 'M Ashwin',\n",
       "       'MJ Santner', 'P Simran Singh', 'JL Pattinson', 'T Banton',\n",
       "       'D Padikkal', 'YBK Jaiswal', 'TU Deshpande', 'A Nortje',\n",
       "       'Ravi Bishnoi', 'Abdul Samad', 'PK Garg', 'T Natarajan',\n",
       "       'JR Philippe', 'Kartik Tyagi', 'I Udana', 'KL Nagarkoti',\n",
       "       'Shahbaz Ahmed', 'RD Gaikwad', 'AT Carey', 'CV Varun',\n",
       "       'N Jagadeesan', 'P Dubey', 'SS Cottrell', 'M Jansen', 'RM Patidar',\n",
       "       'KA Jamieson', 'M Shahrukh Khan', 'JA Richardson', 'Lalit Yadav',\n",
       "       'RP Meredith', 'Virat Singh', 'KK Ahmed', 'C Sakariya', 'FA Allen',\n",
       "       'Arshdeep Singh', 'DR Sams', 'DJ Malan', 'KS Bharat', 'VR Iyer',\n",
       "       'GD Phillips', 'AK Markram', 'K Yadav', 'GHS Garton', 'T Shamsi',\n",
       "       'NT Ellis', 'RV Patel', 'TL Seifert', 'Anmolpreet Singh',\n",
       "       'Anuj Rawat', 'TH David', 'PWH de Silva', 'DP Conway',\n",
       "       'Tilak Varma', 'PBB Rajapaksa', 'OF Smith', 'A Badoni',\n",
       "       'PVD Chameera', 'A Manohar', 'R Shepherd', 'DJ Willey', 'RA Bawa',\n",
       "       'R Powell', 'JM Sharma', 'VG Arora', 'D Pretorius',\n",
       "       'Mukesh Choudhary', 'Umran Malik', 'D Brevis', 'B Sai Sudharsan',\n",
       "       'Ramandeep Singh', 'HE van der Dussen', 'SS Prabhudessai',\n",
       "       'JR Hazlewood', 'Aman Hakim Khan', 'HR Shokeen', 'DJ Mitchell',\n",
       "       'Shashank Singh', 'B Indrajith', 'Mohsin Khan', 'Simarjeet Singh',\n",
       "       'Fazalhaq Farooqi', 'K Kartikeya', 'KS Sharma', 'M Theekshana',\n",
       "       'T Stubbs', 'A Tomar', 'PN Mankad', 'OC McCoy', 'Sikandar Raza',\n",
       "       'Rahmanullah Gurbaz', 'KR Mayers', 'HC Brook', 'AU Rashid',\n",
       "       'C Green', 'N Wadhera', 'Arshad Khan', 'Abishek Porel',\n",
       "       'Dhruv Jurel', 'MG Bracewell', 'Akash Deep', 'Mukesh Kumar',\n",
       "       'MW Short', 'Mohit Rathee', 'YV Dhull', 'Liton Das', 'PD Salt',\n",
       "       'Atharva Taide', 'Abdul Basith', 'Arjun Tendulkar',\n",
       "       'JP Behrendorff', 'Vijaykumar Vyshak', 'AJ Hosein',\n",
       "       'Naveen-ul-Haq', 'AS Roy', 'Noor Ahmad', 'JE Root', 'MD Shanaka',\n",
       "       'Sanvir Singh', 'Vivrant Sharma', 'R Ravindra', 'SD Hope',\n",
       "       'Sumit Kumar', 'Azmatullah Omarzai', 'Naman Dhir', 'G Coetzee',\n",
       "       'SZ Mulani', 'Sameer Rizvi', 'SH Johnson', 'Akash Madhwal',\n",
       "       'SB Dubey', 'Mayank Dagar', 'RJW Topley', 'A Raghuvanshi',\n",
       "       'Ashutosh Sharma', 'Nithish Kumar Reddy', 'Saurav Chauhan',\n",
       "       'BR Sharath', 'DG Nalkande', 'WG Jacks', 'J Fraser-McGurk',\n",
       "       'Tanush Kotian', 'KA Maharaj', 'Arshad Khan (2)', 'R Sai Kishore',\n",
       "       'L Wood', 'Kumar Kushagra', 'LB Williams', 'AA Kulkarni',\n",
       "       'MJ Suthar', 'Yudhvir Singh', 'Gulbadin Naib', 'A Kamboj',\n",
       "       'T Kohler-Cadmore', 'D Ferreira', 'Shivam Singh', 'V Viyaskanth'],\n",
       "      dtype=object)"
      ]
     },
     "execution_count": 256,
     "metadata": {},
     "output_type": "execute_result"
    }
   ],
   "source": [
    "deliveries['non_striker'].unique()"
   ]
  },
  {
   "cell_type": "markdown",
   "id": "487eacb3-20ac-4c6a-bd55-3e1bddba31d7",
   "metadata": {},
   "source": [
    "- there are total 663 unique values in non-striker"
   ]
  },
  {
   "cell_type": "markdown",
   "id": "4ea70f13-1bf0-4d27-8334-b74c68d21f82",
   "metadata": {},
   "source": [
    "#### batsmam_runs"
   ]
  },
  {
   "cell_type": "code",
   "execution_count": 263,
   "id": "9dcc988e-22dc-4298-91c1-45fc9fc56fe0",
   "metadata": {},
   "outputs": [
    {
     "data": {
      "text/plain": [
       "0"
      ]
     },
     "execution_count": 263,
     "metadata": {},
     "output_type": "execute_result"
    }
   ],
   "source": [
    "deliveries['batsman_runs'].isnull().sum()"
   ]
  },
  {
   "cell_type": "code",
   "execution_count": 265,
   "id": "6a6958af-24d9-4b98-881a-df09be29cf30",
   "metadata": {},
   "outputs": [
    {
     "data": {
      "text/plain": [
       "array([0, 4, 6, 1, 2, 5, 3], dtype=int64)"
      ]
     },
     "execution_count": 265,
     "metadata": {},
     "output_type": "execute_result"
    }
   ],
   "source": [
    "deliveries['batsman_runs'].unique()"
   ]
  },
  {
   "cell_type": "markdown",
   "id": "d0e89582-b31c-490a-a71c-75648c2e9488",
   "metadata": {},
   "source": [
    "- values are till 6 that a batter can strike"
   ]
  },
  {
   "cell_type": "markdown",
   "id": "0a338453-4f0c-41e5-9600-51def95514d0",
   "metadata": {},
   "source": [
    "#### extra_runs"
   ]
  },
  {
   "cell_type": "code",
   "execution_count": 269,
   "id": "20069575-9e64-4c6e-967f-0e75b5cb5070",
   "metadata": {},
   "outputs": [
    {
     "data": {
      "text/plain": [
       "0"
      ]
     },
     "execution_count": 269,
     "metadata": {},
     "output_type": "execute_result"
    }
   ],
   "source": [
    "deliveries['extra_runs'].isnull().sum()"
   ]
  },
  {
   "cell_type": "code",
   "execution_count": 271,
   "id": "23f3baf1-40b9-4b8c-9ee7-9d18468cef7f",
   "metadata": {},
   "outputs": [
    {
     "data": {
      "text/plain": [
       "array([1, 0, 5, 4, 2, 3, 7], dtype=int64)"
      ]
     },
     "execution_count": 271,
     "metadata": {},
     "output_type": "execute_result"
    }
   ],
   "source": [
    "deliveries['extra_runs'].unique()"
   ]
  },
  {
   "cell_type": "markdown",
   "id": "476e9a8e-f4ae-49f7-afcd-d84ebda4d5c2",
   "metadata": {},
   "source": [
    "- because of bowlers mistake some penalties are gives so the value is 7"
   ]
  },
  {
   "cell_type": "code",
   "execution_count": 294,
   "id": "dabea966-2457-41e7-847d-d4c20b567364",
   "metadata": {},
   "outputs": [
    {
     "data": {
      "text/html": [
       "<div>\n",
       "<style scoped>\n",
       "    .dataframe tbody tr th:only-of-type {\n",
       "        vertical-align: middle;\n",
       "    }\n",
       "\n",
       "    .dataframe tbody tr th {\n",
       "        vertical-align: top;\n",
       "    }\n",
       "\n",
       "    .dataframe thead th {\n",
       "        text-align: right;\n",
       "    }\n",
       "</style>\n",
       "<table border=\"1\" class=\"dataframe\">\n",
       "  <thead>\n",
       "    <tr style=\"text-align: right;\">\n",
       "      <th></th>\n",
       "      <th>match_id</th>\n",
       "      <th>inning</th>\n",
       "      <th>batting_team</th>\n",
       "      <th>bowling_team</th>\n",
       "      <th>over</th>\n",
       "      <th>ball</th>\n",
       "      <th>batter</th>\n",
       "      <th>bowler</th>\n",
       "      <th>non_striker</th>\n",
       "      <th>batsman_runs</th>\n",
       "      <th>extra_runs</th>\n",
       "      <th>total_runs</th>\n",
       "      <th>extras_type</th>\n",
       "      <th>is_wicket</th>\n",
       "      <th>player_dismissed</th>\n",
       "      <th>dismissal_kind</th>\n",
       "      <th>fielder</th>\n",
       "    </tr>\n",
       "  </thead>\n",
       "  <tbody>\n",
       "    <tr>\n",
       "      <th>1614</th>\n",
       "      <td>335988</td>\n",
       "      <td>2</td>\n",
       "      <td>Delhi Capitals</td>\n",
       "      <td>Sunrisers Hyderabad</td>\n",
       "      <td>11</td>\n",
       "      <td>6</td>\n",
       "      <td>V Sehwag</td>\n",
       "      <td>PP Ojha</td>\n",
       "      <td>S Dhawan</td>\n",
       "      <td>0</td>\n",
       "      <td>5</td>\n",
       "      <td>5</td>\n",
       "      <td>penalty</td>\n",
       "      <td>0</td>\n",
       "      <td>NaN</td>\n",
       "      <td>NaN</td>\n",
       "      <td>NaN</td>\n",
       "    </tr>\n",
       "    <tr>\n",
       "      <th>98231</th>\n",
       "      <td>729309</td>\n",
       "      <td>2</td>\n",
       "      <td>Delhi Capitals</td>\n",
       "      <td>Mumbai Indians</td>\n",
       "      <td>4</td>\n",
       "      <td>2</td>\n",
       "      <td>M Vijay</td>\n",
       "      <td>SL Malinga</td>\n",
       "      <td>Q de Kock</td>\n",
       "      <td>0</td>\n",
       "      <td>7</td>\n",
       "      <td>7</td>\n",
       "      <td>penalty</td>\n",
       "      <td>0</td>\n",
       "      <td>NaN</td>\n",
       "      <td>NaN</td>\n",
       "      <td>NaN</td>\n",
       "    </tr>\n",
       "  </tbody>\n",
       "</table>\n",
       "</div>"
      ],
      "text/plain": [
       "       match_id  inning    batting_team         bowling_team  over  ball  \\\n",
       "1614     335988       2  Delhi Capitals  Sunrisers Hyderabad    11     6   \n",
       "98231    729309       2  Delhi Capitals       Mumbai Indians     4     2   \n",
       "\n",
       "         batter      bowler non_striker  batsman_runs  extra_runs  total_runs  \\\n",
       "1614   V Sehwag     PP Ojha    S Dhawan             0           5           5   \n",
       "98231   M Vijay  SL Malinga   Q de Kock             0           7           7   \n",
       "\n",
       "      extras_type  is_wicket player_dismissed dismissal_kind fielder  \n",
       "1614      penalty          0              NaN            NaN     NaN  \n",
       "98231     penalty          0              NaN            NaN     NaN  "
      ]
     },
     "execution_count": 294,
     "metadata": {},
     "output_type": "execute_result"
    }
   ],
   "source": []
  },
  {
   "cell_type": "code",
   "execution_count": 292,
   "id": "42a2a06b-0c48-4fd6-8ded-630d77647aee",
   "metadata": {},
   "outputs": [
    {
     "data": {
      "text/plain": [
       "array(['legbyes', nan, 'wides', 'byes', 'noballs', 'penalty'],\n",
       "      dtype=object)"
      ]
     },
     "execution_count": 292,
     "metadata": {},
     "output_type": "execute_result"
    }
   ],
   "source": []
  },
  {
   "cell_type": "code",
   "execution_count": null,
   "id": "2d03e8ff-9775-4c1d-8f52-8187ead1a76d",
   "metadata": {},
   "outputs": [],
   "source": []
  }
 ],
 "metadata": {
  "kernelspec": {
   "display_name": "Python 3 (ipykernel)",
   "language": "python",
   "name": "python3"
  },
  "language_info": {
   "codemirror_mode": {
    "name": "ipython",
    "version": 3
   },
   "file_extension": ".py",
   "mimetype": "text/x-python",
   "name": "python",
   "nbconvert_exporter": "python",
   "pygments_lexer": "ipython3",
   "version": "3.12.4"
  }
 },
 "nbformat": 4,
 "nbformat_minor": 5
}
