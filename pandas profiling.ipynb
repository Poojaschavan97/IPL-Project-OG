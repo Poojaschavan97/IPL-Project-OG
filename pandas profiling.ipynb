{
 "cells": [
  {
   "cell_type": "code",
   "execution_count": 1,
   "id": "e4fbb45c-1067-4a03-8a3d-c2aa889c9007",
   "metadata": {},
   "outputs": [
    {
     "data": {
      "text/html": [
       "<div>\n",
       "<style scoped>\n",
       "    .dataframe tbody tr th:only-of-type {\n",
       "        vertical-align: middle;\n",
       "    }\n",
       "\n",
       "    .dataframe tbody tr th {\n",
       "        vertical-align: top;\n",
       "    }\n",
       "\n",
       "    .dataframe thead th {\n",
       "        text-align: right;\n",
       "    }\n",
       "</style>\n",
       "<table border=\"1\" class=\"dataframe\">\n",
       "  <thead>\n",
       "    <tr style=\"text-align: right;\">\n",
       "      <th></th>\n",
       "      <th>batting_team</th>\n",
       "      <th>bowling_team</th>\n",
       "      <th>venue</th>\n",
       "      <th>runs_left</th>\n",
       "      <th>ball_left</th>\n",
       "      <th>wicket_left</th>\n",
       "      <th>crr</th>\n",
       "      <th>rrr</th>\n",
       "      <th>result</th>\n",
       "    </tr>\n",
       "  </thead>\n",
       "  <tbody>\n",
       "    <tr>\n",
       "      <th>0</th>\n",
       "      <td>Royal Challengers Bangalore</td>\n",
       "      <td>Kolkata Knight Riders</td>\n",
       "      <td>M Chinnaswamy Stadium</td>\n",
       "      <td>221</td>\n",
       "      <td>119</td>\n",
       "      <td>10</td>\n",
       "      <td>6.0</td>\n",
       "      <td>11.14</td>\n",
       "      <td>0</td>\n",
       "    </tr>\n",
       "    <tr>\n",
       "      <th>1</th>\n",
       "      <td>Royal Challengers Bangalore</td>\n",
       "      <td>Kolkata Knight Riders</td>\n",
       "      <td>M Chinnaswamy Stadium</td>\n",
       "      <td>220</td>\n",
       "      <td>118</td>\n",
       "      <td>10</td>\n",
       "      <td>6.0</td>\n",
       "      <td>11.19</td>\n",
       "      <td>0</td>\n",
       "    </tr>\n",
       "    <tr>\n",
       "      <th>2</th>\n",
       "      <td>Royal Challengers Bangalore</td>\n",
       "      <td>Kolkata Knight Riders</td>\n",
       "      <td>M Chinnaswamy Stadium</td>\n",
       "      <td>220</td>\n",
       "      <td>117</td>\n",
       "      <td>10</td>\n",
       "      <td>4.0</td>\n",
       "      <td>11.28</td>\n",
       "      <td>0</td>\n",
       "    </tr>\n",
       "    <tr>\n",
       "      <th>3</th>\n",
       "      <td>Royal Challengers Bangalore</td>\n",
       "      <td>Kolkata Knight Riders</td>\n",
       "      <td>M Chinnaswamy Stadium</td>\n",
       "      <td>219</td>\n",
       "      <td>116</td>\n",
       "      <td>10</td>\n",
       "      <td>4.5</td>\n",
       "      <td>11.33</td>\n",
       "      <td>0</td>\n",
       "    </tr>\n",
       "    <tr>\n",
       "      <th>4</th>\n",
       "      <td>Royal Challengers Bangalore</td>\n",
       "      <td>Kolkata Knight Riders</td>\n",
       "      <td>M Chinnaswamy Stadium</td>\n",
       "      <td>218</td>\n",
       "      <td>115</td>\n",
       "      <td>10</td>\n",
       "      <td>4.8</td>\n",
       "      <td>11.37</td>\n",
       "      <td>0</td>\n",
       "    </tr>\n",
       "  </tbody>\n",
       "</table>\n",
       "</div>"
      ],
      "text/plain": [
       "                  batting_team           bowling_team                  venue  \\\n",
       "0  Royal Challengers Bangalore  Kolkata Knight Riders  M Chinnaswamy Stadium   \n",
       "1  Royal Challengers Bangalore  Kolkata Knight Riders  M Chinnaswamy Stadium   \n",
       "2  Royal Challengers Bangalore  Kolkata Knight Riders  M Chinnaswamy Stadium   \n",
       "3  Royal Challengers Bangalore  Kolkata Knight Riders  M Chinnaswamy Stadium   \n",
       "4  Royal Challengers Bangalore  Kolkata Knight Riders  M Chinnaswamy Stadium   \n",
       "\n",
       "   runs_left  ball_left  wicket_left  crr    rrr  result  \n",
       "0        221        119           10  6.0  11.14       0  \n",
       "1        220        118           10  6.0  11.19       0  \n",
       "2        220        117           10  4.0  11.28       0  \n",
       "3        219        116           10  4.5  11.33       0  \n",
       "4        218        115           10  4.8  11.37       0  "
      ]
     },
     "execution_count": 1,
     "metadata": {},
     "output_type": "execute_result"
    }
   ],
   "source": [
    "import pandas as pd\n",
    "data = pd.read_csv('ipl_final_data.csv')\n",
    "data.head()"
   ]
  },
  {
   "cell_type": "code",
   "execution_count": 29,
   "id": "21097551-3927-4816-9eb1-9c692824480a",
   "metadata": {},
   "outputs": [
    {
     "name": "stdout",
     "output_type": "stream",
     "text": [
      "<class 'pandas.core.frame.DataFrame'>\n",
      "RangeIndex: 125741 entries, 0 to 125740\n",
      "Data columns (total 9 columns):\n",
      " #   Column        Non-Null Count   Dtype  \n",
      "---  ------        --------------   -----  \n",
      " 0   batting_team  125741 non-null  object \n",
      " 1   bowling_team  125741 non-null  object \n",
      " 2   venue         125741 non-null  object \n",
      " 3   runs_left     125741 non-null  int64  \n",
      " 4   ball_left     125741 non-null  int64  \n",
      " 5   wicket_left   125741 non-null  int64  \n",
      " 6   crr           125741 non-null  float64\n",
      " 7   rrr           125741 non-null  float64\n",
      " 8   result        125741 non-null  int64  \n",
      "dtypes: float64(2), int64(4), object(3)\n",
      "memory usage: 8.6+ MB\n"
     ]
    }
   ],
   "source": [
    "data.info()"
   ]
  },
  {
   "cell_type": "code",
   "execution_count": 3,
   "id": "f77d6487-0af2-439a-9d8e-678dfd5e02d4",
   "metadata": {
    "scrolled": true
   },
   "outputs": [
    {
     "data": {
      "application/vnd.jupyter.widget-view+json": {
       "model_id": "abab6f88ae494e4db9b521ff6b4e3b43",
       "version_major": 2,
       "version_minor": 0
      },
      "text/plain": [
       "Summarize dataset:   0%|          | 0/5 [00:00<?, ?it/s]"
      ]
     },
     "metadata": {},
     "output_type": "display_data"
    },
    {
     "data": {
      "application/vnd.jupyter.widget-view+json": {
       "model_id": "e3c72ce52d204fe389315538740bdaef",
       "version_major": 2,
       "version_minor": 0
      },
      "text/plain": [
       "Generate report structure:   0%|          | 0/1 [00:00<?, ?it/s]"
      ]
     },
     "metadata": {},
     "output_type": "display_data"
    },
    {
     "data": {
      "application/vnd.jupyter.widget-view+json": {
       "model_id": "4ed677fbb93e472bbb1d9daa9330f6a3",
       "version_major": 2,
       "version_minor": 0
      },
      "text/plain": [
       "Render HTML:   0%|          | 0/1 [00:00<?, ?it/s]"
      ]
     },
     "metadata": {},
     "output_type": "display_data"
    },
    {
     "data": {
      "application/vnd.jupyter.widget-view+json": {
       "model_id": "a3ecc45506f3419cb830c111fdcf6cd4",
       "version_major": 2,
       "version_minor": 0
      },
      "text/plain": [
       "Export report to file:   0%|          | 0/1 [00:00<?, ?it/s]"
      ]
     },
     "metadata": {},
     "output_type": "display_data"
    }
   ],
   "source": [
    "from ydata_profiling  import ProfileReport\n",
    "\n",
    "# Generate the report\n",
    "profile = ProfileReport(data, title=\"Pandas Profiling Report\", explorative=True)\n",
    "\n",
    "# Save the report to an HTML file\n",
    "profile.to_file(\"dataset_profiling_report.html\")\n"
   ]
  },
  {
   "cell_type": "code",
   "execution_count": null,
   "id": "88616a85-b7e1-4a23-ad61-676228bcf329",
   "metadata": {},
   "outputs": [],
   "source": [
    "\n"
   ]
  },
  {
   "cell_type": "code",
   "execution_count": null,
   "id": "1da4d072-9309-4064-9a63-ee4548a88afc",
   "metadata": {},
   "outputs": [],
   "source": []
  },
  {
   "cell_type": "code",
   "execution_count": null,
   "id": "093d94c3-b65d-43b8-b8e9-33312d4aa07b",
   "metadata": {},
   "outputs": [],
   "source": []
  },
  {
   "cell_type": "code",
   "execution_count": null,
   "id": "7f27be1a-b91e-42e4-a57e-020f86a9a90f",
   "metadata": {},
   "outputs": [],
   "source": []
  }
 ],
 "metadata": {
  "kernelspec": {
   "display_name": "Python 3 (ipykernel)",
   "language": "python",
   "name": "python3"
  },
  "language_info": {
   "codemirror_mode": {
    "name": "ipython",
    "version": 3
   },
   "file_extension": ".py",
   "mimetype": "text/x-python",
   "name": "python",
   "nbconvert_exporter": "python",
   "pygments_lexer": "ipython3",
   "version": "3.12.4"
  }
 },
 "nbformat": 4,
 "nbformat_minor": 5
}
