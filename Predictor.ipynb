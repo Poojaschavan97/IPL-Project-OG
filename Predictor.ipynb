{
 "cells": [
  {
   "cell_type": "code",
   "execution_count": 4,
   "id": "31a81cb4-9810-413a-9956-8e1baa512dc0",
   "metadata": {},
   "outputs": [],
   "source": [
    "# Importing essential libraries\n",
    "\n",
    "# Data Gathering \n",
    "import pandas as pd\n",
    "import numpy as np\n",
    "\n",
    "# Data Visualization\n",
    "import seaborn as sns\n",
    "\n"
   ]
  },
  {
   "cell_type": "markdown",
   "id": "ee960362-c923-4ce3-b2a8-ca88a8aafd76",
   "metadata": {},
   "source": [
    "#### Data Gathering "
   ]
  },
  {
   "cell_type": "code",
   "execution_count": 6,
   "id": "49c786d1-3129-4d4d-9c9a-d5ec9033f93a",
   "metadata": {},
   "outputs": [
    {
     "data": {
      "text/html": [
       "<div>\n",
       "<style scoped>\n",
       "    .dataframe tbody tr th:only-of-type {\n",
       "        vertical-align: middle;\n",
       "    }\n",
       "\n",
       "    .dataframe tbody tr th {\n",
       "        vertical-align: top;\n",
       "    }\n",
       "\n",
       "    .dataframe thead th {\n",
       "        text-align: right;\n",
       "    }\n",
       "</style>\n",
       "<table border=\"1\" class=\"dataframe\">\n",
       "  <thead>\n",
       "    <tr style=\"text-align: right;\">\n",
       "      <th></th>\n",
       "      <th>match_id</th>\n",
       "      <th>inning</th>\n",
       "      <th>batting_team</th>\n",
       "      <th>bowling_team</th>\n",
       "      <th>over</th>\n",
       "      <th>ball</th>\n",
       "      <th>batter</th>\n",
       "      <th>bowler</th>\n",
       "      <th>non_striker</th>\n",
       "      <th>batsman_runs</th>\n",
       "      <th>extra_runs</th>\n",
       "      <th>total_runs</th>\n",
       "      <th>extras_type</th>\n",
       "      <th>is_wicket</th>\n",
       "      <th>player_dismissed</th>\n",
       "      <th>dismissal_kind</th>\n",
       "      <th>fielder</th>\n",
       "    </tr>\n",
       "  </thead>\n",
       "  <tbody>\n",
       "    <tr>\n",
       "      <th>141768</th>\n",
       "      <td>1082612</td>\n",
       "      <td>1</td>\n",
       "      <td>Kings XI Punjab</td>\n",
       "      <td>Mumbai Indians</td>\n",
       "      <td>18</td>\n",
       "      <td>4</td>\n",
       "      <td>HM Amla</td>\n",
       "      <td>JJ Bumrah</td>\n",
       "      <td>AR Patel</td>\n",
       "      <td>0</td>\n",
       "      <td>0</td>\n",
       "      <td>0</td>\n",
       "      <td>NaN</td>\n",
       "      <td>0</td>\n",
       "      <td>NaN</td>\n",
       "      <td>NaN</td>\n",
       "      <td>NaN</td>\n",
       "    </tr>\n",
       "    <tr>\n",
       "      <th>24669</th>\n",
       "      <td>392230</td>\n",
       "      <td>1</td>\n",
       "      <td>Delhi Daredevils</td>\n",
       "      <td>Rajasthan Royals</td>\n",
       "      <td>1</td>\n",
       "      <td>4</td>\n",
       "      <td>G Gambhir</td>\n",
       "      <td>A Singh</td>\n",
       "      <td>V Sehwag</td>\n",
       "      <td>0</td>\n",
       "      <td>0</td>\n",
       "      <td>0</td>\n",
       "      <td>NaN</td>\n",
       "      <td>0</td>\n",
       "      <td>NaN</td>\n",
       "      <td>NaN</td>\n",
       "      <td>NaN</td>\n",
       "    </tr>\n",
       "    <tr>\n",
       "      <th>204819</th>\n",
       "      <td>1254104</td>\n",
       "      <td>2</td>\n",
       "      <td>Mumbai Indians</td>\n",
       "      <td>Chennai Super Kings</td>\n",
       "      <td>11</td>\n",
       "      <td>3</td>\n",
       "      <td>SS Tiwary</td>\n",
       "      <td>DJ Bravo</td>\n",
       "      <td>KA Pollard</td>\n",
       "      <td>1</td>\n",
       "      <td>0</td>\n",
       "      <td>1</td>\n",
       "      <td>NaN</td>\n",
       "      <td>0</td>\n",
       "      <td>NaN</td>\n",
       "      <td>NaN</td>\n",
       "      <td>NaN</td>\n",
       "    </tr>\n",
       "    <tr>\n",
       "      <th>86860</th>\n",
       "      <td>598041</td>\n",
       "      <td>1</td>\n",
       "      <td>Chennai Super Kings</td>\n",
       "      <td>Kings XI Punjab</td>\n",
       "      <td>14</td>\n",
       "      <td>4</td>\n",
       "      <td>SK Raina</td>\n",
       "      <td>PP Chawla</td>\n",
       "      <td>JA Morkel</td>\n",
       "      <td>1</td>\n",
       "      <td>0</td>\n",
       "      <td>1</td>\n",
       "      <td>NaN</td>\n",
       "      <td>0</td>\n",
       "      <td>NaN</td>\n",
       "      <td>NaN</td>\n",
       "      <td>NaN</td>\n",
       "    </tr>\n",
       "    <tr>\n",
       "      <th>154077</th>\n",
       "      <td>1136576</td>\n",
       "      <td>1</td>\n",
       "      <td>Kings XI Punjab</td>\n",
       "      <td>Sunrisers Hyderabad</td>\n",
       "      <td>16</td>\n",
       "      <td>2</td>\n",
       "      <td>KK Nair</td>\n",
       "      <td>CJ Jordan</td>\n",
       "      <td>CH Gayle</td>\n",
       "      <td>1</td>\n",
       "      <td>0</td>\n",
       "      <td>1</td>\n",
       "      <td>NaN</td>\n",
       "      <td>0</td>\n",
       "      <td>NaN</td>\n",
       "      <td>NaN</td>\n",
       "      <td>NaN</td>\n",
       "    </tr>\n",
       "    <tr>\n",
       "      <th>150950</th>\n",
       "      <td>1136563</td>\n",
       "      <td>1</td>\n",
       "      <td>Royal Challengers Bangalore</td>\n",
       "      <td>Kolkata Knight Riders</td>\n",
       "      <td>1</td>\n",
       "      <td>1</td>\n",
       "      <td>Q de Kock</td>\n",
       "      <td>PP Chawla</td>\n",
       "      <td>BB McCullum</td>\n",
       "      <td>4</td>\n",
       "      <td>0</td>\n",
       "      <td>4</td>\n",
       "      <td>NaN</td>\n",
       "      <td>0</td>\n",
       "      <td>NaN</td>\n",
       "      <td>NaN</td>\n",
       "      <td>NaN</td>\n",
       "    </tr>\n",
       "    <tr>\n",
       "      <th>211899</th>\n",
       "      <td>1304062</td>\n",
       "      <td>2</td>\n",
       "      <td>Gujarat Titans</td>\n",
       "      <td>Punjab Kings</td>\n",
       "      <td>16</td>\n",
       "      <td>5</td>\n",
       "      <td>HH Pandya</td>\n",
       "      <td>RD Chahar</td>\n",
       "      <td>Shubman Gill</td>\n",
       "      <td>0</td>\n",
       "      <td>0</td>\n",
       "      <td>0</td>\n",
       "      <td>NaN</td>\n",
       "      <td>0</td>\n",
       "      <td>NaN</td>\n",
       "      <td>NaN</td>\n",
       "      <td>NaN</td>\n",
       "    </tr>\n",
       "  </tbody>\n",
       "</table>\n",
       "</div>"
      ],
      "text/plain": [
       "        match_id  inning                 batting_team           bowling_team  \\\n",
       "141768   1082612       1              Kings XI Punjab         Mumbai Indians   \n",
       "24669     392230       1             Delhi Daredevils       Rajasthan Royals   \n",
       "204819   1254104       2               Mumbai Indians    Chennai Super Kings   \n",
       "86860     598041       1          Chennai Super Kings        Kings XI Punjab   \n",
       "154077   1136576       1              Kings XI Punjab    Sunrisers Hyderabad   \n",
       "150950   1136563       1  Royal Challengers Bangalore  Kolkata Knight Riders   \n",
       "211899   1304062       2               Gujarat Titans           Punjab Kings   \n",
       "\n",
       "        over  ball     batter     bowler   non_striker  batsman_runs  \\\n",
       "141768    18     4    HM Amla  JJ Bumrah      AR Patel             0   \n",
       "24669      1     4  G Gambhir    A Singh      V Sehwag             0   \n",
       "204819    11     3  SS Tiwary   DJ Bravo    KA Pollard             1   \n",
       "86860     14     4   SK Raina  PP Chawla     JA Morkel             1   \n",
       "154077    16     2    KK Nair  CJ Jordan      CH Gayle             1   \n",
       "150950     1     1  Q de Kock  PP Chawla   BB McCullum             4   \n",
       "211899    16     5  HH Pandya  RD Chahar  Shubman Gill             0   \n",
       "\n",
       "        extra_runs  total_runs extras_type  is_wicket player_dismissed  \\\n",
       "141768           0           0         NaN          0              NaN   \n",
       "24669            0           0         NaN          0              NaN   \n",
       "204819           0           1         NaN          0              NaN   \n",
       "86860            0           1         NaN          0              NaN   \n",
       "154077           0           1         NaN          0              NaN   \n",
       "150950           0           4         NaN          0              NaN   \n",
       "211899           0           0         NaN          0              NaN   \n",
       "\n",
       "       dismissal_kind fielder  \n",
       "141768            NaN     NaN  \n",
       "24669             NaN     NaN  \n",
       "204819            NaN     NaN  \n",
       "86860             NaN     NaN  \n",
       "154077            NaN     NaN  \n",
       "150950            NaN     NaN  \n",
       "211899            NaN     NaN  "
      ]
     },
     "execution_count": 6,
     "metadata": {},
     "output_type": "execute_result"
    }
   ],
   "source": [
    "deliveries = pd.read_csv('deliveries.csv')\n",
    "deliveries.sample(7)"
   ]
  },
  {
   "cell_type": "markdown",
   "id": "d895269c-de04-4934-a294-dff30dc1b4b0",
   "metadata": {},
   "source": [
    "`Column` | Description\n",
    ":-|:-\n",
    "`match_id` |\tUnique identifier for each match, used to link with match details.\n",
    "`inning`|\tIndicates the innings (1 or 2) in the match.\n",
    "`batting_team`|Name of the team batting in the given inning.\n",
    "`bowling_team`|\tName of the team bowling in the given inning.\n",
    "`over`|\tThe over number in the current inning (e.g., 1, 2, ..., 20).\n",
    "`ball`|\tThe ball number within the over (1 to 6).\n",
    "`batter`|\tName of the player currently batting.\n",
    "`bowler`\t|Name of the player currently bowling.\n",
    "`non_striker`|\tName of the non-striker at the other end of the pitch.\n",
    "`batsman_runs`|\tNumber of runs scored by the batsman on the current delivery (can include 0 for dot balls or 4/6 for boundaries).\n",
    "`extra_runs`\t|Number of extra runs (such as no-balls, wides) on this delivery.\n",
    "`total_runs`\t|Total runs scored on this ball (sum of batsman runs and extra runs).\n",
    "`extras_type`\t|Type of extra run, if applicable (e.g., wide, no-ball, bye, legbye).\n",
    "`is_wicket`\t|Indicates if the delivery resulted in a wicket (1 for wicket, 0 for no wicket).\n",
    "`player_dismissed`|\tName of the player dismissed on the ball (if applicable, otherwise null).\n",
    "`dismissal_kind`\t|Type of dismissal (e.g., bowled, caught, run out, LBW).\n",
    "`fielder`\t|Name of the fielder involved in the dismissal (for dismissals like catch, run out, etc.; null for dismissals not involving a fielder)."
   ]
  },
  {
   "cell_type": "code",
   "execution_count": 8,
   "id": "5df413c2-94ae-44ba-8aa3-259f30e26fdb",
   "metadata": {},
   "outputs": [
    {
     "data": {
      "text/html": [
       "<div>\n",
       "<style scoped>\n",
       "    .dataframe tbody tr th:only-of-type {\n",
       "        vertical-align: middle;\n",
       "    }\n",
       "\n",
       "    .dataframe tbody tr th {\n",
       "        vertical-align: top;\n",
       "    }\n",
       "\n",
       "    .dataframe thead th {\n",
       "        text-align: right;\n",
       "    }\n",
       "</style>\n",
       "<table border=\"1\" class=\"dataframe\">\n",
       "  <thead>\n",
       "    <tr style=\"text-align: right;\">\n",
       "      <th></th>\n",
       "      <th>id</th>\n",
       "      <th>season</th>\n",
       "      <th>city</th>\n",
       "      <th>date</th>\n",
       "      <th>match_type</th>\n",
       "      <th>player_of_match</th>\n",
       "      <th>venue</th>\n",
       "      <th>team1</th>\n",
       "      <th>team2</th>\n",
       "      <th>toss_winner</th>\n",
       "      <th>toss_decision</th>\n",
       "      <th>winner</th>\n",
       "      <th>result</th>\n",
       "      <th>result_margin</th>\n",
       "      <th>target_runs</th>\n",
       "      <th>target_overs</th>\n",
       "      <th>super_over</th>\n",
       "      <th>method</th>\n",
       "      <th>umpire1</th>\n",
       "      <th>umpire2</th>\n",
       "    </tr>\n",
       "  </thead>\n",
       "  <tbody>\n",
       "    <tr>\n",
       "      <th>385</th>\n",
       "      <td>598062</td>\n",
       "      <td>2013</td>\n",
       "      <td>Chennai</td>\n",
       "      <td>2013-05-14</td>\n",
       "      <td>League</td>\n",
       "      <td>MS Dhoni</td>\n",
       "      <td>MA Chidambaram Stadium, Chepauk</td>\n",
       "      <td>Chennai Super Kings</td>\n",
       "      <td>Delhi Daredevils</td>\n",
       "      <td>Chennai Super Kings</td>\n",
       "      <td>bat</td>\n",
       "      <td>Chennai Super Kings</td>\n",
       "      <td>runs</td>\n",
       "      <td>33.0</td>\n",
       "      <td>169.0</td>\n",
       "      <td>20.0</td>\n",
       "      <td>N</td>\n",
       "      <td>NaN</td>\n",
       "      <td>C Shamshuddin</td>\n",
       "      <td>RJ Tucker</td>\n",
       "    </tr>\n",
       "    <tr>\n",
       "      <th>370</th>\n",
       "      <td>598046</td>\n",
       "      <td>2013</td>\n",
       "      <td>Mumbai</td>\n",
       "      <td>2013-05-05</td>\n",
       "      <td>League</td>\n",
       "      <td>MG Johnson</td>\n",
       "      <td>Wankhede Stadium</td>\n",
       "      <td>Mumbai Indians</td>\n",
       "      <td>Chennai Super Kings</td>\n",
       "      <td>Mumbai Indians</td>\n",
       "      <td>bat</td>\n",
       "      <td>Mumbai Indians</td>\n",
       "      <td>runs</td>\n",
       "      <td>60.0</td>\n",
       "      <td>140.0</td>\n",
       "      <td>20.0</td>\n",
       "      <td>N</td>\n",
       "      <td>NaN</td>\n",
       "      <td>HDPK Dharmasena</td>\n",
       "      <td>CK Nandan</td>\n",
       "    </tr>\n",
       "    <tr>\n",
       "      <th>1000</th>\n",
       "      <td>1359525</td>\n",
       "      <td>2023</td>\n",
       "      <td>Ahmedabad</td>\n",
       "      <td>2023-05-07</td>\n",
       "      <td>League</td>\n",
       "      <td>Shubman Gill</td>\n",
       "      <td>Narendra Modi Stadium, Ahmedabad</td>\n",
       "      <td>Gujarat Titans</td>\n",
       "      <td>Lucknow Super Giants</td>\n",
       "      <td>Lucknow Super Giants</td>\n",
       "      <td>field</td>\n",
       "      <td>Gujarat Titans</td>\n",
       "      <td>runs</td>\n",
       "      <td>56.0</td>\n",
       "      <td>228.0</td>\n",
       "      <td>20.0</td>\n",
       "      <td>N</td>\n",
       "      <td>NaN</td>\n",
       "      <td>AK Chaudhary</td>\n",
       "      <td>A Nand Kishore</td>\n",
       "    </tr>\n",
       "    <tr>\n",
       "      <th>19</th>\n",
       "      <td>336001</td>\n",
       "      <td>2007/08</td>\n",
       "      <td>Chennai</td>\n",
       "      <td>2008-05-02</td>\n",
       "      <td>League</td>\n",
       "      <td>V Sehwag</td>\n",
       "      <td>MA Chidambaram Stadium, Chepauk</td>\n",
       "      <td>Chennai Super Kings</td>\n",
       "      <td>Delhi Daredevils</td>\n",
       "      <td>Chennai Super Kings</td>\n",
       "      <td>bat</td>\n",
       "      <td>Delhi Daredevils</td>\n",
       "      <td>wickets</td>\n",
       "      <td>8.0</td>\n",
       "      <td>170.0</td>\n",
       "      <td>20.0</td>\n",
       "      <td>N</td>\n",
       "      <td>NaN</td>\n",
       "      <td>BF Bowden</td>\n",
       "      <td>K Hariharan</td>\n",
       "    </tr>\n",
       "    <tr>\n",
       "      <th>943</th>\n",
       "      <td>1304114</td>\n",
       "      <td>2022</td>\n",
       "      <td>Mumbai</td>\n",
       "      <td>2022-05-20</td>\n",
       "      <td>League</td>\n",
       "      <td>R Ashwin</td>\n",
       "      <td>Brabourne Stadium, Mumbai</td>\n",
       "      <td>Chennai Super Kings</td>\n",
       "      <td>Rajasthan Royals</td>\n",
       "      <td>Chennai Super Kings</td>\n",
       "      <td>bat</td>\n",
       "      <td>Rajasthan Royals</td>\n",
       "      <td>wickets</td>\n",
       "      <td>5.0</td>\n",
       "      <td>151.0</td>\n",
       "      <td>20.0</td>\n",
       "      <td>N</td>\n",
       "      <td>NaN</td>\n",
       "      <td>CB Gaffaney</td>\n",
       "      <td>NA Patwardhan</td>\n",
       "    </tr>\n",
       "    <tr>\n",
       "      <th>307</th>\n",
       "      <td>548367</td>\n",
       "      <td>2012</td>\n",
       "      <td>Bangalore</td>\n",
       "      <td>2012-05-14</td>\n",
       "      <td>League</td>\n",
       "      <td>AT Rayudu</td>\n",
       "      <td>M Chinnaswamy Stadium</td>\n",
       "      <td>Royal Challengers Bangalore</td>\n",
       "      <td>Mumbai Indians</td>\n",
       "      <td>Mumbai Indians</td>\n",
       "      <td>field</td>\n",
       "      <td>Mumbai Indians</td>\n",
       "      <td>wickets</td>\n",
       "      <td>5.0</td>\n",
       "      <td>172.0</td>\n",
       "      <td>20.0</td>\n",
       "      <td>N</td>\n",
       "      <td>NaN</td>\n",
       "      <td>S Das</td>\n",
       "      <td>BR Doctrove</td>\n",
       "    </tr>\n",
       "    <tr>\n",
       "      <th>712</th>\n",
       "      <td>1175372</td>\n",
       "      <td>2019</td>\n",
       "      <td>Bengaluru</td>\n",
       "      <td>2019-04-05</td>\n",
       "      <td>League</td>\n",
       "      <td>AD Russell</td>\n",
       "      <td>M.Chinnaswamy Stadium</td>\n",
       "      <td>Royal Challengers Bangalore</td>\n",
       "      <td>Kolkata Knight Riders</td>\n",
       "      <td>Kolkata Knight Riders</td>\n",
       "      <td>field</td>\n",
       "      <td>Kolkata Knight Riders</td>\n",
       "      <td>wickets</td>\n",
       "      <td>5.0</td>\n",
       "      <td>206.0</td>\n",
       "      <td>20.0</td>\n",
       "      <td>N</td>\n",
       "      <td>NaN</td>\n",
       "      <td>AK Chaudhary</td>\n",
       "      <td>CB Gaffaney</td>\n",
       "    </tr>\n",
       "  </tbody>\n",
       "</table>\n",
       "</div>"
      ],
      "text/plain": [
       "           id   season       city        date match_type player_of_match  \\\n",
       "385    598062     2013    Chennai  2013-05-14     League        MS Dhoni   \n",
       "370    598046     2013     Mumbai  2013-05-05     League      MG Johnson   \n",
       "1000  1359525     2023  Ahmedabad  2023-05-07     League    Shubman Gill   \n",
       "19     336001  2007/08    Chennai  2008-05-02     League        V Sehwag   \n",
       "943   1304114     2022     Mumbai  2022-05-20     League        R Ashwin   \n",
       "307    548367     2012  Bangalore  2012-05-14     League       AT Rayudu   \n",
       "712   1175372     2019  Bengaluru  2019-04-05     League      AD Russell   \n",
       "\n",
       "                                 venue                        team1  \\\n",
       "385    MA Chidambaram Stadium, Chepauk          Chennai Super Kings   \n",
       "370                   Wankhede Stadium               Mumbai Indians   \n",
       "1000  Narendra Modi Stadium, Ahmedabad               Gujarat Titans   \n",
       "19     MA Chidambaram Stadium, Chepauk          Chennai Super Kings   \n",
       "943          Brabourne Stadium, Mumbai          Chennai Super Kings   \n",
       "307              M Chinnaswamy Stadium  Royal Challengers Bangalore   \n",
       "712              M.Chinnaswamy Stadium  Royal Challengers Bangalore   \n",
       "\n",
       "                      team2            toss_winner toss_decision  \\\n",
       "385        Delhi Daredevils    Chennai Super Kings           bat   \n",
       "370     Chennai Super Kings         Mumbai Indians           bat   \n",
       "1000   Lucknow Super Giants   Lucknow Super Giants         field   \n",
       "19         Delhi Daredevils    Chennai Super Kings           bat   \n",
       "943        Rajasthan Royals    Chennai Super Kings           bat   \n",
       "307          Mumbai Indians         Mumbai Indians         field   \n",
       "712   Kolkata Knight Riders  Kolkata Knight Riders         field   \n",
       "\n",
       "                     winner   result  result_margin  target_runs  \\\n",
       "385     Chennai Super Kings     runs           33.0        169.0   \n",
       "370          Mumbai Indians     runs           60.0        140.0   \n",
       "1000         Gujarat Titans     runs           56.0        228.0   \n",
       "19         Delhi Daredevils  wickets            8.0        170.0   \n",
       "943        Rajasthan Royals  wickets            5.0        151.0   \n",
       "307          Mumbai Indians  wickets            5.0        172.0   \n",
       "712   Kolkata Knight Riders  wickets            5.0        206.0   \n",
       "\n",
       "      target_overs super_over method          umpire1         umpire2  \n",
       "385           20.0          N    NaN    C Shamshuddin       RJ Tucker  \n",
       "370           20.0          N    NaN  HDPK Dharmasena       CK Nandan  \n",
       "1000          20.0          N    NaN     AK Chaudhary  A Nand Kishore  \n",
       "19            20.0          N    NaN        BF Bowden     K Hariharan  \n",
       "943           20.0          N    NaN      CB Gaffaney   NA Patwardhan  \n",
       "307           20.0          N    NaN            S Das     BR Doctrove  \n",
       "712           20.0          N    NaN     AK Chaudhary     CB Gaffaney  "
      ]
     },
     "execution_count": 8,
     "metadata": {},
     "output_type": "execute_result"
    }
   ],
   "source": [
    "matches = pd.read_csv('matches.csv')\n",
    "matches.sample(7)"
   ]
  },
  {
   "cell_type": "markdown",
   "id": "0c781134-4105-4cac-bfb7-a8e5945df9cf",
   "metadata": {},
   "source": [
    "`Column`\t|Description\n",
    ":-|:-\n",
    "`id`\t|Unique identifier for each match, similar to match_id in the ball-by-ball dataset, useful for linking datasets.\n",
    "`season`|\tYear in which the IPL season took place.\n",
    "`city`\t|City where the match was played.\n",
    "`date`\t|Date of the match.\n",
    "`match_type`|\tType of match (could indicate regular season, playoff, or final).\n",
    "`player_of_match`|\tName of the player awarded \"Player of the Match.\"\n",
    "`venue`|\tStadium where the match was played.\n",
    "`team1`\t|Name of the first team (order doesn’t imply batting or bowling first).\n",
    "`team2`\t|Name of the second team.\n",
    "`toss_winner`|\tTeam that won the toss.\n",
    "`toss_decision`|\tDecision taken by the toss-winning team (bat or field).\n",
    "`winner`|Name of the team that won the match.\n",
    "`result`|\tOutcome type of the match (e.g., normal, tie, no result).\n",
    "`result_margin`|\tMargin by which the team won (e.g., runs or wickets).\n",
    "`target_runs`\t|Target runs set for the chasing team (null if not applicable).\n",
    "`target_overs`\t|Target overs if the match is shortened (e.g., in rain-affected matches; null if not applicable).\n",
    "`super_over`\t|Indicates if the match had a super over (1 for yes, 0 for no).\n",
    "`method`\t|Method used to determine the result in rain-affected games (e.g., Duckworth-Lewis-Stern, or null if not applicable).\n",
    "`umpire1`\t|Name of the first on-field umpire.\n",
    "`umpire2`\t|Name of the second on-field umpire."
   ]
  },
  {
   "cell_type": "markdown",
   "id": "b4db6066-fe6d-4976-b907-8c1e0511a4b8",
   "metadata": {},
   "source": [
    "- here we have two datasets one containing ball by ball details and other containing match wise details.\n",
    "- we are going to analyse each data set for insights.\n"
   ]
  },
  {
   "cell_type": "markdown",
   "id": "8a24fc61-75e8-4913-b15e-1af3ef50ebb4",
   "metadata": {},
   "source": [
    "#### Data Cleaning"
   ]
  },
  {
   "cell_type": "code",
   "execution_count": 12,
   "id": "9d175544-3af8-49b9-9737-e2174db31ab4",
   "metadata": {},
   "outputs": [
    {
     "name": "stdout",
     "output_type": "stream",
     "text": [
      "<class 'pandas.core.frame.DataFrame'>\n",
      "RangeIndex: 260920 entries, 0 to 260919\n",
      "Data columns (total 17 columns):\n",
      " #   Column            Non-Null Count   Dtype \n",
      "---  ------            --------------   ----- \n",
      " 0   match_id          260920 non-null  int64 \n",
      " 1   inning            260920 non-null  int64 \n",
      " 2   batting_team      260920 non-null  object\n",
      " 3   bowling_team      260920 non-null  object\n",
      " 4   over              260920 non-null  int64 \n",
      " 5   ball              260920 non-null  int64 \n",
      " 6   batter            260920 non-null  object\n",
      " 7   bowler            260920 non-null  object\n",
      " 8   non_striker       260920 non-null  object\n",
      " 9   batsman_runs      260920 non-null  int64 \n",
      " 10  extra_runs        260920 non-null  int64 \n",
      " 11  total_runs        260920 non-null  int64 \n",
      " 12  extras_type       14125 non-null   object\n",
      " 13  is_wicket         260920 non-null  int64 \n",
      " 14  player_dismissed  12950 non-null   object\n",
      " 15  dismissal_kind    12950 non-null   object\n",
      " 16  fielder           9354 non-null    object\n",
      "dtypes: int64(8), object(9)\n",
      "memory usage: 33.8+ MB\n"
     ]
    }
   ],
   "source": [
    "deliveries.info()"
   ]
  },
  {
   "cell_type": "markdown",
   "id": "35c20eb7-fe26-4318-9fb7-0719c4a4d5f4",
   "metadata": {},
   "source": [
    "- here we get data information where we know basics about our data\n",
    "    - There are 260920 rows and 17 columns in deliveries dataset.\n",
    "    - some columns have missing values.\n"
   ]
  },
  {
   "cell_type": "code",
   "execution_count": 14,
   "id": "3bdc3836-f557-4d8b-98fc-7436a67906bd",
   "metadata": {},
   "outputs": [
    {
     "name": "stdout",
     "output_type": "stream",
     "text": [
      "<class 'pandas.core.frame.DataFrame'>\n",
      "RangeIndex: 1095 entries, 0 to 1094\n",
      "Data columns (total 20 columns):\n",
      " #   Column           Non-Null Count  Dtype  \n",
      "---  ------           --------------  -----  \n",
      " 0   id               1095 non-null   int64  \n",
      " 1   season           1095 non-null   object \n",
      " 2   city             1044 non-null   object \n",
      " 3   date             1095 non-null   object \n",
      " 4   match_type       1095 non-null   object \n",
      " 5   player_of_match  1090 non-null   object \n",
      " 6   venue            1095 non-null   object \n",
      " 7   team1            1095 non-null   object \n",
      " 8   team2            1095 non-null   object \n",
      " 9   toss_winner      1095 non-null   object \n",
      " 10  toss_decision    1095 non-null   object \n",
      " 11  winner           1090 non-null   object \n",
      " 12  result           1095 non-null   object \n",
      " 13  result_margin    1076 non-null   float64\n",
      " 14  target_runs      1092 non-null   float64\n",
      " 15  target_overs     1092 non-null   float64\n",
      " 16  super_over       1095 non-null   object \n",
      " 17  method           21 non-null     object \n",
      " 18  umpire1          1095 non-null   object \n",
      " 19  umpire2          1095 non-null   object \n",
      "dtypes: float64(3), int64(1), object(16)\n",
      "memory usage: 171.2+ KB\n"
     ]
    }
   ],
   "source": [
    "matches.info()"
   ]
  },
  {
   "cell_type": "markdown",
   "id": "aa154096-6d48-4705-be26-21fb6df05f66",
   "metadata": {},
   "source": [
    "- Here  we have 1095 rows and 20 columns .\n",
    "- there are some missing values in this data.\n",
    "- Date column is in form of object which can be converted into date time for better analysis."
   ]
  },
  {
   "cell_type": "markdown",
   "id": "ecdfcc7c-eb2c-48e0-8032-4662397cc5ec",
   "metadata": {},
   "source": [
    "##### Further I cleaned both datas column wise "
   ]
  },
  {
   "cell_type": "markdown",
   "id": "6295eac3-57f7-471e-a8a4-00ce0dac8202",
   "metadata": {},
   "source": [
    "#### Deliveries cleaning "
   ]
  },
  {
   "cell_type": "code",
   "execution_count": 18,
   "id": "44d0a964-653b-4eb5-a623-b9ae2cd0d0e7",
   "metadata": {},
   "outputs": [
    {
     "data": {
      "text/html": [
       "<div>\n",
       "<style scoped>\n",
       "    .dataframe tbody tr th:only-of-type {\n",
       "        vertical-align: middle;\n",
       "    }\n",
       "\n",
       "    .dataframe tbody tr th {\n",
       "        vertical-align: top;\n",
       "    }\n",
       "\n",
       "    .dataframe thead th {\n",
       "        text-align: right;\n",
       "    }\n",
       "</style>\n",
       "<table border=\"1\" class=\"dataframe\">\n",
       "  <thead>\n",
       "    <tr style=\"text-align: right;\">\n",
       "      <th></th>\n",
       "      <th>match_id</th>\n",
       "      <th>inning</th>\n",
       "      <th>batting_team</th>\n",
       "      <th>bowling_team</th>\n",
       "      <th>over</th>\n",
       "      <th>ball</th>\n",
       "      <th>batter</th>\n",
       "      <th>bowler</th>\n",
       "      <th>non_striker</th>\n",
       "      <th>batsman_runs</th>\n",
       "      <th>extra_runs</th>\n",
       "      <th>total_runs</th>\n",
       "      <th>extras_type</th>\n",
       "      <th>is_wicket</th>\n",
       "      <th>player_dismissed</th>\n",
       "      <th>dismissal_kind</th>\n",
       "      <th>fielder</th>\n",
       "    </tr>\n",
       "  </thead>\n",
       "  <tbody>\n",
       "    <tr>\n",
       "      <th>152740</th>\n",
       "      <td>1136570</td>\n",
       "      <td>2</td>\n",
       "      <td>Sunrisers Hyderabad</td>\n",
       "      <td>Kolkata Knight Riders</td>\n",
       "      <td>13</td>\n",
       "      <td>3</td>\n",
       "      <td>Shakib Al Hasan</td>\n",
       "      <td>Kuldeep Yadav</td>\n",
       "      <td>KS Williamson</td>\n",
       "      <td>1</td>\n",
       "      <td>0</td>\n",
       "      <td>1</td>\n",
       "      <td>NaN</td>\n",
       "      <td>0</td>\n",
       "      <td>NaN</td>\n",
       "      <td>NaN</td>\n",
       "      <td>NaN</td>\n",
       "    </tr>\n",
       "    <tr>\n",
       "      <th>116173</th>\n",
       "      <td>829767</td>\n",
       "      <td>2</td>\n",
       "      <td>Delhi Daredevils</td>\n",
       "      <td>Kings XI Punjab</td>\n",
       "      <td>11</td>\n",
       "      <td>3</td>\n",
       "      <td>SS Iyer</td>\n",
       "      <td>NLTC Perera</td>\n",
       "      <td>MA Agarwal</td>\n",
       "      <td>4</td>\n",
       "      <td>0</td>\n",
       "      <td>4</td>\n",
       "      <td>NaN</td>\n",
       "      <td>0</td>\n",
       "      <td>NaN</td>\n",
       "      <td>NaN</td>\n",
       "      <td>NaN</td>\n",
       "    </tr>\n",
       "    <tr>\n",
       "      <th>236767</th>\n",
       "      <td>1359519</td>\n",
       "      <td>1</td>\n",
       "      <td>Lucknow Super Giants</td>\n",
       "      <td>Chennai Super Kings</td>\n",
       "      <td>2</td>\n",
       "      <td>6</td>\n",
       "      <td>KR Mayers</td>\n",
       "      <td>DL Chahar</td>\n",
       "      <td>M Vohra</td>\n",
       "      <td>1</td>\n",
       "      <td>0</td>\n",
       "      <td>1</td>\n",
       "      <td>NaN</td>\n",
       "      <td>0</td>\n",
       "      <td>NaN</td>\n",
       "      <td>NaN</td>\n",
       "      <td>NaN</td>\n",
       "    </tr>\n",
       "    <tr>\n",
       "      <th>47590</th>\n",
       "      <td>501224</td>\n",
       "      <td>1</td>\n",
       "      <td>Mumbai Indians</td>\n",
       "      <td>Deccan Chargers</td>\n",
       "      <td>12</td>\n",
       "      <td>3</td>\n",
       "      <td>RG Sharma</td>\n",
       "      <td>PP Ojha</td>\n",
       "      <td>A Symonds</td>\n",
       "      <td>4</td>\n",
       "      <td>0</td>\n",
       "      <td>4</td>\n",
       "      <td>NaN</td>\n",
       "      <td>0</td>\n",
       "      <td>NaN</td>\n",
       "      <td>NaN</td>\n",
       "      <td>NaN</td>\n",
       "    </tr>\n",
       "    <tr>\n",
       "      <th>205061</th>\n",
       "      <td>1254105</td>\n",
       "      <td>2</td>\n",
       "      <td>Delhi Capitals</td>\n",
       "      <td>Sunrisers Hyderabad</td>\n",
       "      <td>10</td>\n",
       "      <td>1</td>\n",
       "      <td>SS Iyer</td>\n",
       "      <td>Rashid Khan</td>\n",
       "      <td>S Dhawan</td>\n",
       "      <td>1</td>\n",
       "      <td>0</td>\n",
       "      <td>1</td>\n",
       "      <td>NaN</td>\n",
       "      <td>0</td>\n",
       "      <td>NaN</td>\n",
       "      <td>NaN</td>\n",
       "      <td>NaN</td>\n",
       "    </tr>\n",
       "    <tr>\n",
       "      <th>89082</th>\n",
       "      <td>598050</td>\n",
       "      <td>2</td>\n",
       "      <td>Kolkata Knight Riders</td>\n",
       "      <td>Mumbai Indians</td>\n",
       "      <td>13</td>\n",
       "      <td>1</td>\n",
       "      <td>DB Das</td>\n",
       "      <td>Harbhajan Singh</td>\n",
       "      <td>R McLaren</td>\n",
       "      <td>6</td>\n",
       "      <td>0</td>\n",
       "      <td>6</td>\n",
       "      <td>NaN</td>\n",
       "      <td>0</td>\n",
       "      <td>NaN</td>\n",
       "      <td>NaN</td>\n",
       "      <td>NaN</td>\n",
       "    </tr>\n",
       "    <tr>\n",
       "      <th>41599</th>\n",
       "      <td>501198</td>\n",
       "      <td>1</td>\n",
       "      <td>Chennai Super Kings</td>\n",
       "      <td>Kolkata Knight Riders</td>\n",
       "      <td>1</td>\n",
       "      <td>1</td>\n",
       "      <td>S Anirudha</td>\n",
       "      <td>YK Pathan</td>\n",
       "      <td>SK Raina</td>\n",
       "      <td>1</td>\n",
       "      <td>0</td>\n",
       "      <td>1</td>\n",
       "      <td>NaN</td>\n",
       "      <td>0</td>\n",
       "      <td>NaN</td>\n",
       "      <td>NaN</td>\n",
       "      <td>NaN</td>\n",
       "    </tr>\n",
       "    <tr>\n",
       "      <th>191266</th>\n",
       "      <td>1216542</td>\n",
       "      <td>1</td>\n",
       "      <td>Sunrisers Hyderabad</td>\n",
       "      <td>Kings XI Punjab</td>\n",
       "      <td>13</td>\n",
       "      <td>4</td>\n",
       "      <td>JM Bairstow</td>\n",
       "      <td>Mujeeb Ur Rahman</td>\n",
       "      <td>DA Warner</td>\n",
       "      <td>6</td>\n",
       "      <td>0</td>\n",
       "      <td>6</td>\n",
       "      <td>NaN</td>\n",
       "      <td>0</td>\n",
       "      <td>NaN</td>\n",
       "      <td>NaN</td>\n",
       "      <td>NaN</td>\n",
       "    </tr>\n",
       "    <tr>\n",
       "      <th>136201</th>\n",
       "      <td>981017</td>\n",
       "      <td>1</td>\n",
       "      <td>Gujarat Lions</td>\n",
       "      <td>Sunrisers Hyderabad</td>\n",
       "      <td>15</td>\n",
       "      <td>3</td>\n",
       "      <td>RA Jadeja</td>\n",
       "      <td>TA Boult</td>\n",
       "      <td>AJ Finch</td>\n",
       "      <td>1</td>\n",
       "      <td>0</td>\n",
       "      <td>1</td>\n",
       "      <td>NaN</td>\n",
       "      <td>0</td>\n",
       "      <td>NaN</td>\n",
       "      <td>NaN</td>\n",
       "      <td>NaN</td>\n",
       "    </tr>\n",
       "    <tr>\n",
       "      <th>38920</th>\n",
       "      <td>419154</td>\n",
       "      <td>2</td>\n",
       "      <td>Royal Challengers Bangalore</td>\n",
       "      <td>Rajasthan Royals</td>\n",
       "      <td>8</td>\n",
       "      <td>2</td>\n",
       "      <td>RV Uthappa</td>\n",
       "      <td>SK Warne</td>\n",
       "      <td>KP Pietersen</td>\n",
       "      <td>0</td>\n",
       "      <td>0</td>\n",
       "      <td>0</td>\n",
       "      <td>NaN</td>\n",
       "      <td>0</td>\n",
       "      <td>NaN</td>\n",
       "      <td>NaN</td>\n",
       "      <td>NaN</td>\n",
       "    </tr>\n",
       "    <tr>\n",
       "      <th>102240</th>\n",
       "      <td>733995</td>\n",
       "      <td>1</td>\n",
       "      <td>Mumbai Indians</td>\n",
       "      <td>Chennai Super Kings</td>\n",
       "      <td>18</td>\n",
       "      <td>5</td>\n",
       "      <td>AP Tare</td>\n",
       "      <td>MM Sharma</td>\n",
       "      <td>CJ Anderson</td>\n",
       "      <td>1</td>\n",
       "      <td>0</td>\n",
       "      <td>1</td>\n",
       "      <td>NaN</td>\n",
       "      <td>0</td>\n",
       "      <td>NaN</td>\n",
       "      <td>NaN</td>\n",
       "      <td>NaN</td>\n",
       "    </tr>\n",
       "    <tr>\n",
       "      <th>104942</th>\n",
       "      <td>734017</td>\n",
       "      <td>2</td>\n",
       "      <td>Rajasthan Royals</td>\n",
       "      <td>Mumbai Indians</td>\n",
       "      <td>2</td>\n",
       "      <td>2</td>\n",
       "      <td>UBT Chand</td>\n",
       "      <td>PP Ojha</td>\n",
       "      <td>KK Nair</td>\n",
       "      <td>0</td>\n",
       "      <td>0</td>\n",
       "      <td>0</td>\n",
       "      <td>NaN</td>\n",
       "      <td>0</td>\n",
       "      <td>NaN</td>\n",
       "      <td>NaN</td>\n",
       "      <td>NaN</td>\n",
       "    </tr>\n",
       "    <tr>\n",
       "      <th>184153</th>\n",
       "      <td>1216513</td>\n",
       "      <td>1</td>\n",
       "      <td>Kings XI Punjab</td>\n",
       "      <td>Chennai Super Kings</td>\n",
       "      <td>2</td>\n",
       "      <td>2</td>\n",
       "      <td>KL Rahul</td>\n",
       "      <td>DL Chahar</td>\n",
       "      <td>MA Agarwal</td>\n",
       "      <td>2</td>\n",
       "      <td>0</td>\n",
       "      <td>2</td>\n",
       "      <td>NaN</td>\n",
       "      <td>0</td>\n",
       "      <td>NaN</td>\n",
       "      <td>NaN</td>\n",
       "      <td>NaN</td>\n",
       "    </tr>\n",
       "    <tr>\n",
       "      <th>142553</th>\n",
       "      <td>1082615</td>\n",
       "      <td>2</td>\n",
       "      <td>Rising Pune Supergiant</td>\n",
       "      <td>Sunrisers Hyderabad</td>\n",
       "      <td>11</td>\n",
       "      <td>2</td>\n",
       "      <td>MS Dhoni</td>\n",
       "      <td>MC Henriques</td>\n",
       "      <td>RA Tripathi</td>\n",
       "      <td>0</td>\n",
       "      <td>0</td>\n",
       "      <td>0</td>\n",
       "      <td>NaN</td>\n",
       "      <td>0</td>\n",
       "      <td>NaN</td>\n",
       "      <td>NaN</td>\n",
       "      <td>NaN</td>\n",
       "    </tr>\n",
       "    <tr>\n",
       "      <th>132692</th>\n",
       "      <td>980985</td>\n",
       "      <td>2</td>\n",
       "      <td>Kings XI Punjab</td>\n",
       "      <td>Mumbai Indians</td>\n",
       "      <td>14</td>\n",
       "      <td>2</td>\n",
       "      <td>M Vijay</td>\n",
       "      <td>JJ Bumrah</td>\n",
       "      <td>WP Saha</td>\n",
       "      <td>0</td>\n",
       "      <td>0</td>\n",
       "      <td>0</td>\n",
       "      <td>NaN</td>\n",
       "      <td>0</td>\n",
       "      <td>NaN</td>\n",
       "      <td>NaN</td>\n",
       "      <td>NaN</td>\n",
       "    </tr>\n",
       "    <tr>\n",
       "      <th>13368</th>\n",
       "      <td>336040</td>\n",
       "      <td>2</td>\n",
       "      <td>Rajasthan Royals</td>\n",
       "      <td>Chennai Super Kings</td>\n",
       "      <td>0</td>\n",
       "      <td>6</td>\n",
       "      <td>NK Patel</td>\n",
       "      <td>M Ntini</td>\n",
       "      <td>SA Asnodkar</td>\n",
       "      <td>0</td>\n",
       "      <td>0</td>\n",
       "      <td>0</td>\n",
       "      <td>NaN</td>\n",
       "      <td>0</td>\n",
       "      <td>NaN</td>\n",
       "      <td>NaN</td>\n",
       "      <td>NaN</td>\n",
       "    </tr>\n",
       "    <tr>\n",
       "      <th>59666</th>\n",
       "      <td>548310</td>\n",
       "      <td>2</td>\n",
       "      <td>Delhi Daredevils</td>\n",
       "      <td>Royal Challengers Bangalore</td>\n",
       "      <td>11</td>\n",
       "      <td>4</td>\n",
       "      <td>GJ Maxwell</td>\n",
       "      <td>M Muralitharan</td>\n",
       "      <td>Y Venugopal Rao</td>\n",
       "      <td>0</td>\n",
       "      <td>0</td>\n",
       "      <td>0</td>\n",
       "      <td>NaN</td>\n",
       "      <td>1</td>\n",
       "      <td>GJ Maxwell</td>\n",
       "      <td>caught</td>\n",
       "      <td>Z Khan</td>\n",
       "    </tr>\n",
       "    <tr>\n",
       "      <th>47485</th>\n",
       "      <td>501223</td>\n",
       "      <td>2</td>\n",
       "      <td>Kings XI Punjab</td>\n",
       "      <td>Delhi Daredevils</td>\n",
       "      <td>15</td>\n",
       "      <td>3</td>\n",
       "      <td>SE Marsh</td>\n",
       "      <td>JR Hopes</td>\n",
       "      <td>AM Nayar</td>\n",
       "      <td>1</td>\n",
       "      <td>0</td>\n",
       "      <td>1</td>\n",
       "      <td>NaN</td>\n",
       "      <td>0</td>\n",
       "      <td>NaN</td>\n",
       "      <td>NaN</td>\n",
       "      <td>NaN</td>\n",
       "    </tr>\n",
       "    <tr>\n",
       "      <th>221150</th>\n",
       "      <td>1304100</td>\n",
       "      <td>2</td>\n",
       "      <td>Sunrisers Hyderabad</td>\n",
       "      <td>Royal Challengers Bangalore</td>\n",
       "      <td>18</td>\n",
       "      <td>6</td>\n",
       "      <td>Fazalhaq Farooqi</td>\n",
       "      <td>JR Hazlewood</td>\n",
       "      <td>B Kumar</td>\n",
       "      <td>0</td>\n",
       "      <td>0</td>\n",
       "      <td>0</td>\n",
       "      <td>NaN</td>\n",
       "      <td>0</td>\n",
       "      <td>NaN</td>\n",
       "      <td>NaN</td>\n",
       "      <td>NaN</td>\n",
       "    </tr>\n",
       "    <tr>\n",
       "      <th>243158</th>\n",
       "      <td>1370351</td>\n",
       "      <td>1</td>\n",
       "      <td>Mumbai Indians</td>\n",
       "      <td>Lucknow Super Giants</td>\n",
       "      <td>4</td>\n",
       "      <td>4</td>\n",
       "      <td>SA Yadav</td>\n",
       "      <td>Yash Thakur</td>\n",
       "      <td>C Green</td>\n",
       "      <td>0</td>\n",
       "      <td>0</td>\n",
       "      <td>0</td>\n",
       "      <td>NaN</td>\n",
       "      <td>0</td>\n",
       "      <td>NaN</td>\n",
       "      <td>NaN</td>\n",
       "      <td>NaN</td>\n",
       "    </tr>\n",
       "    <tr>\n",
       "      <th>85144</th>\n",
       "      <td>598034</td>\n",
       "      <td>1</td>\n",
       "      <td>Chennai Super Kings</td>\n",
       "      <td>Kolkata Knight Riders</td>\n",
       "      <td>13</td>\n",
       "      <td>5</td>\n",
       "      <td>MEK Hussey</td>\n",
       "      <td>SP Narine</td>\n",
       "      <td>SK Raina</td>\n",
       "      <td>1</td>\n",
       "      <td>0</td>\n",
       "      <td>1</td>\n",
       "      <td>NaN</td>\n",
       "      <td>0</td>\n",
       "      <td>NaN</td>\n",
       "      <td>NaN</td>\n",
       "      <td>NaN</td>\n",
       "    </tr>\n",
       "    <tr>\n",
       "      <th>230353</th>\n",
       "      <td>1359493</td>\n",
       "      <td>1</td>\n",
       "      <td>Sunrisers Hyderabad</td>\n",
       "      <td>Kolkata Knight Riders</td>\n",
       "      <td>3</td>\n",
       "      <td>5</td>\n",
       "      <td>HC Brook</td>\n",
       "      <td>SP Narine</td>\n",
       "      <td>MA Agarwal</td>\n",
       "      <td>1</td>\n",
       "      <td>0</td>\n",
       "      <td>1</td>\n",
       "      <td>NaN</td>\n",
       "      <td>0</td>\n",
       "      <td>NaN</td>\n",
       "      <td>NaN</td>\n",
       "      <td>NaN</td>\n",
       "    </tr>\n",
       "    <tr>\n",
       "      <th>80557</th>\n",
       "      <td>598015</td>\n",
       "      <td>1</td>\n",
       "      <td>Pune Warriors</td>\n",
       "      <td>Chennai Super Kings</td>\n",
       "      <td>13</td>\n",
       "      <td>6</td>\n",
       "      <td>LRPL Taylor</td>\n",
       "      <td>R Ashwin</td>\n",
       "      <td>RV Uthappa</td>\n",
       "      <td>0</td>\n",
       "      <td>0</td>\n",
       "      <td>0</td>\n",
       "      <td>NaN</td>\n",
       "      <td>0</td>\n",
       "      <td>NaN</td>\n",
       "      <td>NaN</td>\n",
       "      <td>NaN</td>\n",
       "    </tr>\n",
       "    <tr>\n",
       "      <th>136314</th>\n",
       "      <td>981017</td>\n",
       "      <td>2</td>\n",
       "      <td>Sunrisers Hyderabad</td>\n",
       "      <td>Gujarat Lions</td>\n",
       "      <td>13</td>\n",
       "      <td>5</td>\n",
       "      <td>NV Ojha</td>\n",
       "      <td>DS Kulkarni</td>\n",
       "      <td>DA Warner</td>\n",
       "      <td>1</td>\n",
       "      <td>0</td>\n",
       "      <td>1</td>\n",
       "      <td>NaN</td>\n",
       "      <td>0</td>\n",
       "      <td>NaN</td>\n",
       "      <td>NaN</td>\n",
       "      <td>NaN</td>\n",
       "    </tr>\n",
       "    <tr>\n",
       "      <th>235783</th>\n",
       "      <td>1359515</td>\n",
       "      <td>1</td>\n",
       "      <td>Chennai Super Kings</td>\n",
       "      <td>Punjab Kings</td>\n",
       "      <td>5</td>\n",
       "      <td>6</td>\n",
       "      <td>RD Gaikwad</td>\n",
       "      <td>SM Curran</td>\n",
       "      <td>DP Conway</td>\n",
       "      <td>4</td>\n",
       "      <td>0</td>\n",
       "      <td>4</td>\n",
       "      <td>NaN</td>\n",
       "      <td>0</td>\n",
       "      <td>NaN</td>\n",
       "      <td>NaN</td>\n",
       "      <td>NaN</td>\n",
       "    </tr>\n",
       "  </tbody>\n",
       "</table>\n",
       "</div>"
      ],
      "text/plain": [
       "        match_id  inning                 batting_team  \\\n",
       "152740   1136570       2          Sunrisers Hyderabad   \n",
       "116173    829767       2             Delhi Daredevils   \n",
       "236767   1359519       1         Lucknow Super Giants   \n",
       "47590     501224       1               Mumbai Indians   \n",
       "205061   1254105       2               Delhi Capitals   \n",
       "89082     598050       2        Kolkata Knight Riders   \n",
       "41599     501198       1          Chennai Super Kings   \n",
       "191266   1216542       1          Sunrisers Hyderabad   \n",
       "136201    981017       1                Gujarat Lions   \n",
       "38920     419154       2  Royal Challengers Bangalore   \n",
       "102240    733995       1               Mumbai Indians   \n",
       "104942    734017       2             Rajasthan Royals   \n",
       "184153   1216513       1              Kings XI Punjab   \n",
       "142553   1082615       2       Rising Pune Supergiant   \n",
       "132692    980985       2              Kings XI Punjab   \n",
       "13368     336040       2             Rajasthan Royals   \n",
       "59666     548310       2             Delhi Daredevils   \n",
       "47485     501223       2              Kings XI Punjab   \n",
       "221150   1304100       2          Sunrisers Hyderabad   \n",
       "243158   1370351       1               Mumbai Indians   \n",
       "85144     598034       1          Chennai Super Kings   \n",
       "230353   1359493       1          Sunrisers Hyderabad   \n",
       "80557     598015       1                Pune Warriors   \n",
       "136314    981017       2          Sunrisers Hyderabad   \n",
       "235783   1359515       1          Chennai Super Kings   \n",
       "\n",
       "                       bowling_team  over  ball            batter  \\\n",
       "152740        Kolkata Knight Riders    13     3   Shakib Al Hasan   \n",
       "116173              Kings XI Punjab    11     3           SS Iyer   \n",
       "236767          Chennai Super Kings     2     6         KR Mayers   \n",
       "47590               Deccan Chargers    12     3         RG Sharma   \n",
       "205061          Sunrisers Hyderabad    10     1           SS Iyer   \n",
       "89082                Mumbai Indians    13     1            DB Das   \n",
       "41599         Kolkata Knight Riders     1     1        S Anirudha   \n",
       "191266              Kings XI Punjab    13     4       JM Bairstow   \n",
       "136201          Sunrisers Hyderabad    15     3         RA Jadeja   \n",
       "38920              Rajasthan Royals     8     2        RV Uthappa   \n",
       "102240          Chennai Super Kings    18     5           AP Tare   \n",
       "104942               Mumbai Indians     2     2         UBT Chand   \n",
       "184153          Chennai Super Kings     2     2          KL Rahul   \n",
       "142553          Sunrisers Hyderabad    11     2          MS Dhoni   \n",
       "132692               Mumbai Indians    14     2           M Vijay   \n",
       "13368           Chennai Super Kings     0     6          NK Patel   \n",
       "59666   Royal Challengers Bangalore    11     4        GJ Maxwell   \n",
       "47485              Delhi Daredevils    15     3          SE Marsh   \n",
       "221150  Royal Challengers Bangalore    18     6  Fazalhaq Farooqi   \n",
       "243158         Lucknow Super Giants     4     4          SA Yadav   \n",
       "85144         Kolkata Knight Riders    13     5        MEK Hussey   \n",
       "230353        Kolkata Knight Riders     3     5          HC Brook   \n",
       "80557           Chennai Super Kings    13     6       LRPL Taylor   \n",
       "136314                Gujarat Lions    13     5           NV Ojha   \n",
       "235783                 Punjab Kings     5     6        RD Gaikwad   \n",
       "\n",
       "                  bowler      non_striker  batsman_runs  extra_runs  \\\n",
       "152740     Kuldeep Yadav    KS Williamson             1           0   \n",
       "116173       NLTC Perera       MA Agarwal             4           0   \n",
       "236767         DL Chahar          M Vohra             1           0   \n",
       "47590            PP Ojha        A Symonds             4           0   \n",
       "205061       Rashid Khan         S Dhawan             1           0   \n",
       "89082    Harbhajan Singh        R McLaren             6           0   \n",
       "41599          YK Pathan         SK Raina             1           0   \n",
       "191266  Mujeeb Ur Rahman        DA Warner             6           0   \n",
       "136201          TA Boult         AJ Finch             1           0   \n",
       "38920           SK Warne     KP Pietersen             0           0   \n",
       "102240         MM Sharma      CJ Anderson             1           0   \n",
       "104942           PP Ojha          KK Nair             0           0   \n",
       "184153         DL Chahar       MA Agarwal             2           0   \n",
       "142553      MC Henriques      RA Tripathi             0           0   \n",
       "132692         JJ Bumrah          WP Saha             0           0   \n",
       "13368            M Ntini      SA Asnodkar             0           0   \n",
       "59666     M Muralitharan  Y Venugopal Rao             0           0   \n",
       "47485           JR Hopes         AM Nayar             1           0   \n",
       "221150      JR Hazlewood          B Kumar             0           0   \n",
       "243158       Yash Thakur          C Green             0           0   \n",
       "85144          SP Narine         SK Raina             1           0   \n",
       "230353         SP Narine       MA Agarwal             1           0   \n",
       "80557           R Ashwin       RV Uthappa             0           0   \n",
       "136314       DS Kulkarni        DA Warner             1           0   \n",
       "235783         SM Curran        DP Conway             4           0   \n",
       "\n",
       "        total_runs extras_type  is_wicket player_dismissed dismissal_kind  \\\n",
       "152740           1         NaN          0              NaN            NaN   \n",
       "116173           4         NaN          0              NaN            NaN   \n",
       "236767           1         NaN          0              NaN            NaN   \n",
       "47590            4         NaN          0              NaN            NaN   \n",
       "205061           1         NaN          0              NaN            NaN   \n",
       "89082            6         NaN          0              NaN            NaN   \n",
       "41599            1         NaN          0              NaN            NaN   \n",
       "191266           6         NaN          0              NaN            NaN   \n",
       "136201           1         NaN          0              NaN            NaN   \n",
       "38920            0         NaN          0              NaN            NaN   \n",
       "102240           1         NaN          0              NaN            NaN   \n",
       "104942           0         NaN          0              NaN            NaN   \n",
       "184153           2         NaN          0              NaN            NaN   \n",
       "142553           0         NaN          0              NaN            NaN   \n",
       "132692           0         NaN          0              NaN            NaN   \n",
       "13368            0         NaN          0              NaN            NaN   \n",
       "59666            0         NaN          1       GJ Maxwell         caught   \n",
       "47485            1         NaN          0              NaN            NaN   \n",
       "221150           0         NaN          0              NaN            NaN   \n",
       "243158           0         NaN          0              NaN            NaN   \n",
       "85144            1         NaN          0              NaN            NaN   \n",
       "230353           1         NaN          0              NaN            NaN   \n",
       "80557            0         NaN          0              NaN            NaN   \n",
       "136314           1         NaN          0              NaN            NaN   \n",
       "235783           4         NaN          0              NaN            NaN   \n",
       "\n",
       "       fielder  \n",
       "152740     NaN  \n",
       "116173     NaN  \n",
       "236767     NaN  \n",
       "47590      NaN  \n",
       "205061     NaN  \n",
       "89082      NaN  \n",
       "41599      NaN  \n",
       "191266     NaN  \n",
       "136201     NaN  \n",
       "38920      NaN  \n",
       "102240     NaN  \n",
       "104942     NaN  \n",
       "184153     NaN  \n",
       "142553     NaN  \n",
       "132692     NaN  \n",
       "13368      NaN  \n",
       "59666   Z Khan  \n",
       "47485      NaN  \n",
       "221150     NaN  \n",
       "243158     NaN  \n",
       "85144      NaN  \n",
       "230353     NaN  \n",
       "80557      NaN  \n",
       "136314     NaN  \n",
       "235783     NaN  "
      ]
     },
     "execution_count": 18,
     "metadata": {},
     "output_type": "execute_result"
    }
   ],
   "source": [
    "deliveries.sample(25)"
   ]
  },
  {
   "cell_type": "markdown",
   "id": "2fbceccf-69df-44f5-80db-a4ed973dd3bb",
   "metadata": {},
   "source": [
    "#### match_id"
   ]
  },
  {
   "cell_type": "code",
   "execution_count": 20,
   "id": "7f04b0f3-4367-49db-95c0-16476a9ca940",
   "metadata": {},
   "outputs": [
    {
     "data": {
      "text/plain": [
       "0"
      ]
     },
     "execution_count": 20,
     "metadata": {},
     "output_type": "execute_result"
    }
   ],
   "source": [
    "deliveries['match_id'].isnull().sum()"
   ]
  },
  {
   "cell_type": "code",
   "execution_count": 21,
   "id": "537dc9df-3dd8-4e74-a4e5-ae2b0fb85d7c",
   "metadata": {},
   "outputs": [
    {
     "data": {
      "text/plain": [
       "1095"
      ]
     },
     "execution_count": 21,
     "metadata": {},
     "output_type": "execute_result"
    }
   ],
   "source": [
    "deliveries['match_id'].nunique()"
   ]
  },
  {
   "cell_type": "markdown",
   "id": "8e86c24a-3594-42ab-8593-d3305bf8ea63",
   "metadata": {},
   "source": [
    "- In match_id column there isn't any null value .\n",
    "- Their are 1095 unique match id's which matches #rows in matches dataset.\n",
    "   i.e. We have information of all matches."
   ]
  },
  {
   "cell_type": "markdown",
   "id": "efe7d228-a067-405d-9a18-603129b30b5a",
   "metadata": {},
   "source": [
    "#### inning"
   ]
  },
  {
   "cell_type": "code",
   "execution_count": 24,
   "id": "a9d38bce-1d82-4410-afe7-6c72eb5409b1",
   "metadata": {},
   "outputs": [
    {
     "data": {
      "text/plain": [
       "0"
      ]
     },
     "execution_count": 24,
     "metadata": {},
     "output_type": "execute_result"
    }
   ],
   "source": [
    "deliveries['inning'].isnull().sum()"
   ]
  },
  {
   "cell_type": "code",
   "execution_count": 25,
   "id": "d322467d-74c2-4bda-b378-8757f033502b",
   "metadata": {},
   "outputs": [
    {
     "data": {
      "text/plain": [
       "array([1, 2, 3, 4, 5, 6], dtype=int64)"
      ]
     },
     "execution_count": 25,
     "metadata": {},
     "output_type": "execute_result"
    }
   ],
   "source": [
    "deliveries['inning'].unique()"
   ]
  },
  {
   "cell_type": "markdown",
   "id": "ebf6ee50-c894-453e-9a04-450960674ae2",
   "metadata": {},
   "source": [
    "- here data does not have null values.\n",
    "- but innings values are little disturbed, as we know their should be only 2 innings but have till 6.\n",
    "    - 3rd and 4th inning is their due to a super over but 5th and 6th inning is a entry error."
   ]
  },
  {
   "cell_type": "code",
   "execution_count": 27,
   "id": "dbefbe6c-e798-45c7-9c5b-1dc07381ae17",
   "metadata": {},
   "outputs": [],
   "source": [
    "# If inning are 5 changing to 3 and if 6 changed to 4\n",
    "def inning_replacing(inning):\n",
    "    if inning == 5:\n",
    "        return 3\n",
    "    elif inning == 6:\n",
    "        return 4\n",
    "    else:\n",
    "        return inning"
   ]
  },
  {
   "cell_type": "code",
   "execution_count": 28,
   "id": "512516df-d06b-477e-9b02-efd492c2dd28",
   "metadata": {},
   "outputs": [],
   "source": [
    "deliveries['inning']=deliveries['inning'].apply(inning_replacing)"
   ]
  },
  {
   "cell_type": "code",
   "execution_count": 29,
   "id": "d008f475-42b8-4517-b026-4ea6cc4bfabe",
   "metadata": {},
   "outputs": [
    {
     "data": {
      "text/plain": [
       "array([1, 2, 3, 4], dtype=int64)"
      ]
     },
     "execution_count": 29,
     "metadata": {},
     "output_type": "execute_result"
    }
   ],
   "source": [
    "deliveries['inning'].unique()"
   ]
  },
  {
   "cell_type": "markdown",
   "id": "c1283a1f-136a-4b8a-b08d-e982f259f191",
   "metadata": {},
   "source": [
    "#### batting team"
   ]
  },
  {
   "cell_type": "code",
   "execution_count": 31,
   "id": "433f399c-f398-47cf-8040-926197ce2aee",
   "metadata": {},
   "outputs": [
    {
     "data": {
      "text/plain": [
       "0"
      ]
     },
     "execution_count": 31,
     "metadata": {},
     "output_type": "execute_result"
    }
   ],
   "source": [
    "deliveries['batting_team'].isnull().sum()"
   ]
  },
  {
   "cell_type": "code",
   "execution_count": 32,
   "id": "55cfa094-e869-424f-8ce9-c3c39f765055",
   "metadata": {},
   "outputs": [
    {
     "data": {
      "text/plain": [
       "19"
      ]
     },
     "execution_count": 32,
     "metadata": {},
     "output_type": "execute_result"
    }
   ],
   "source": [
    "deliveries['batting_team'].nunique()"
   ]
  },
  {
   "cell_type": "code",
   "execution_count": 33,
   "id": "d4a43421-ee03-415d-b005-5c83d56c2bf8",
   "metadata": {},
   "outputs": [
    {
     "data": {
      "text/plain": [
       "array(['Kolkata Knight Riders', 'Royal Challengers Bangalore',\n",
       "       'Chennai Super Kings', 'Kings XI Punjab', 'Rajasthan Royals',\n",
       "       'Delhi Daredevils', 'Mumbai Indians', 'Deccan Chargers',\n",
       "       'Kochi Tuskers Kerala', 'Pune Warriors', 'Sunrisers Hyderabad',\n",
       "       'Rising Pune Supergiants', 'Gujarat Lions',\n",
       "       'Rising Pune Supergiant', 'Delhi Capitals', 'Punjab Kings',\n",
       "       'Lucknow Super Giants', 'Gujarat Titans',\n",
       "       'Royal Challengers Bengaluru'], dtype=object)"
      ]
     },
     "execution_count": 33,
     "metadata": {},
     "output_type": "execute_result"
    }
   ],
   "source": [
    "deliveries['batting_team'].unique()"
   ]
  },
  {
   "cell_type": "markdown",
   "id": "7360f4b8-3c37-47dd-a9f8-ecbccf1b4d5a",
   "metadata": {},
   "source": [
    "- their is no null value in batting team\n",
    "- over the years names of teams are changed so same team is present with several names or their are some speeling difference"
   ]
  },
  {
   "cell_type": "code",
   "execution_count": 35,
   "id": "c6936163-9d81-48a7-9206-2fb32925d521",
   "metadata": {},
   "outputs": [],
   "source": [
    "# correcting teams name if differs\n",
    "def change_team_name(team_name):\n",
    "    if team_name in ['Rising Pune Supergiants','Pune Warriors']:\n",
    "        return 'Rising Pune Supergiant'\n",
    "    elif team_name == 'Royal Challengers Bengaluru':\n",
    "        return 'Royal Challengers Bangalore'\n",
    "    elif team_name == 'Deccan Chargers':\n",
    "        return 'Sunrisers Hyderabad'\n",
    "    elif team_name == 'Delhi Daredevils':\n",
    "        return 'Delhi Capitals'\n",
    "    elif team_name == 'Gujarat Lions':\n",
    "        return 'Gujarat Titans'\n",
    "    elif team_name == 'Kings XI Punjab':\n",
    "        return 'Punjab Kings'\n",
    "    else:\n",
    "        return team_name"
   ]
  },
  {
   "cell_type": "code",
   "execution_count": 36,
   "id": "ea089162-6fc4-4c60-b7ad-4155eb08cbca",
   "metadata": {},
   "outputs": [],
   "source": [
    "deliveries['batting_team'] = deliveries['batting_team'].apply(change_team_name)"
   ]
  },
  {
   "cell_type": "code",
   "execution_count": 37,
   "id": "a6a495db-bd58-43c6-8650-5548b3f2208a",
   "metadata": {},
   "outputs": [
    {
     "data": {
      "text/plain": [
       "12"
      ]
     },
     "execution_count": 37,
     "metadata": {},
     "output_type": "execute_result"
    }
   ],
   "source": [
    "deliveries['batting_team'].nunique()"
   ]
  },
  {
   "cell_type": "markdown",
   "id": "06448e3e-31c0-4ef0-8c6f-1fe2107722b1",
   "metadata": {},
   "source": [
    "- there were 19 teams in batting team column which reduced to 12 as we know till today 12 teams were played in IPL"
   ]
  },
  {
   "cell_type": "markdown",
   "id": "16abe18c-9653-4329-8353-0ac4e92cd6a8",
   "metadata": {},
   "source": [
    "#### bowling team"
   ]
  },
  {
   "cell_type": "code",
   "execution_count": 40,
   "id": "84cf52e5-17b2-459c-910e-9584937585f2",
   "metadata": {},
   "outputs": [
    {
     "data": {
      "text/plain": [
       "0"
      ]
     },
     "execution_count": 40,
     "metadata": {},
     "output_type": "execute_result"
    }
   ],
   "source": [
    "deliveries['bowling_team'].isnull().sum()"
   ]
  },
  {
   "cell_type": "code",
   "execution_count": 41,
   "id": "16311242-e2a8-413f-ade9-379a6455b6ea",
   "metadata": {},
   "outputs": [
    {
     "data": {
      "text/plain": [
       "19"
      ]
     },
     "execution_count": 41,
     "metadata": {},
     "output_type": "execute_result"
    }
   ],
   "source": [
    "deliveries['bowling_team'].nunique()"
   ]
  },
  {
   "cell_type": "code",
   "execution_count": 42,
   "id": "b55cdf41-7e8e-444f-be87-a3723594a8d7",
   "metadata": {},
   "outputs": [],
   "source": [
    "deliveries['bowling_team'] = deliveries['bowling_team'].apply(change_team_name)"
   ]
  },
  {
   "cell_type": "code",
   "execution_count": 43,
   "id": "a3ae32f6-7ae1-4ac3-af28-859f3b4000d4",
   "metadata": {},
   "outputs": [
    {
     "data": {
      "text/plain": [
       "12"
      ]
     },
     "execution_count": 43,
     "metadata": {},
     "output_type": "execute_result"
    }
   ],
   "source": [
    "deliveries['bowling_team'].nunique()"
   ]
  },
  {
   "cell_type": "markdown",
   "id": "b3f9a57d-ed4e-4651-bbd0-50e8ee8ea38f",
   "metadata": {},
   "source": [
    "- their were 19 teams reduced to 12 with same problem as batting team"
   ]
  },
  {
   "cell_type": "markdown",
   "id": "edfdcf5a-986f-486a-ba2a-7f469cc57803",
   "metadata": {},
   "source": [
    "#### Over"
   ]
  },
  {
   "cell_type": "code",
   "execution_count": 46,
   "id": "282812fe-22d9-49a0-b7e7-e7c5734e569d",
   "metadata": {},
   "outputs": [
    {
     "data": {
      "text/plain": [
       "0"
      ]
     },
     "execution_count": 46,
     "metadata": {},
     "output_type": "execute_result"
    }
   ],
   "source": [
    "deliveries['over'].isnull().sum()"
   ]
  },
  {
   "cell_type": "code",
   "execution_count": 47,
   "id": "d82cd4bd-2999-47f6-8368-4161e0c7dc78",
   "metadata": {},
   "outputs": [
    {
     "data": {
      "text/plain": [
       "array([ 0,  1,  2,  3,  4,  5,  6,  7,  8,  9, 10, 11, 12, 13, 14, 15, 16,\n",
       "       17, 18, 19], dtype=int64)"
      ]
     },
     "execution_count": 47,
     "metadata": {},
     "output_type": "execute_result"
    }
   ],
   "source": [
    "deliveries['over'].unique()"
   ]
  },
  {
   "cell_type": "markdown",
   "id": "9a472c27-5215-47dd-9e23-fa360972c78a",
   "metadata": {},
   "source": [
    "- 20 overs are present 1 over is calculated after completing."
   ]
  },
  {
   "cell_type": "markdown",
   "id": "0dae66b7-6fdc-498b-b189-7d80d505a61b",
   "metadata": {},
   "source": [
    "#### ball"
   ]
  },
  {
   "cell_type": "code",
   "execution_count": 50,
   "id": "6739c4bc-c1ae-491b-9ab4-80f834805497",
   "metadata": {},
   "outputs": [
    {
     "data": {
      "text/plain": [
       "0"
      ]
     },
     "execution_count": 50,
     "metadata": {},
     "output_type": "execute_result"
    }
   ],
   "source": [
    "deliveries['ball'].isnull().sum()"
   ]
  },
  {
   "cell_type": "code",
   "execution_count": 51,
   "id": "0a905219-35d5-47ba-bbed-5c724619c35a",
   "metadata": {},
   "outputs": [
    {
     "data": {
      "text/plain": [
       "array([ 1,  2,  3,  4,  5,  6,  7,  8,  9, 10, 11], dtype=int64)"
      ]
     },
     "execution_count": 51,
     "metadata": {},
     "output_type": "execute_result"
    }
   ],
   "source": [
    "deliveries['ball'].unique()"
   ]
  },
  {
   "cell_type": "markdown",
   "id": "cb63b0d2-106f-4491-bd6b-f5f3da8de128",
   "metadata": {},
   "source": [
    "- as we know each over has 6 balls their can be wides and no balls in some overs."
   ]
  },
  {
   "cell_type": "markdown",
   "id": "87d40834-4077-4cc5-8a5d-cffa92b723e4",
   "metadata": {},
   "source": [
    "#### batter"
   ]
  },
  {
   "cell_type": "code",
   "execution_count": 54,
   "id": "8525d82e-ca49-45f6-80cd-7d1e0b3ef6a9",
   "metadata": {},
   "outputs": [
    {
     "data": {
      "text/plain": [
       "0"
      ]
     },
     "execution_count": 54,
     "metadata": {},
     "output_type": "execute_result"
    }
   ],
   "source": [
    "deliveries['batter'].isnull().sum()"
   ]
  },
  {
   "cell_type": "code",
   "execution_count": 55,
   "id": "e5309b67-6a7d-4745-b6ec-e8b991783c58",
   "metadata": {},
   "outputs": [
    {
     "data": {
      "text/plain": [
       "673"
      ]
     },
     "execution_count": 55,
     "metadata": {},
     "output_type": "execute_result"
    }
   ],
   "source": [
    "deliveries['batter'].nunique()"
   ]
  },
  {
   "cell_type": "code",
   "execution_count": 56,
   "id": "18eb46ae-2e2d-4bc7-9d99-cd2e70d39ab2",
   "metadata": {},
   "outputs": [
    {
     "data": {
      "text/plain": [
       "array(['SC Ganguly', 'BB McCullum', 'RT Ponting', 'DJ Hussey',\n",
       "       'Mohammad Hafeez', 'R Dravid', 'W Jaffer', 'V Kohli', 'JH Kallis',\n",
       "       'CL White', 'MV Boucher', 'B Akhil', 'AA Noffke', 'P Kumar',\n",
       "       'Z Khan', 'SB Joshi', 'PA Patel', 'ML Hayden', 'MEK Hussey',\n",
       "       'MS Dhoni', 'SK Raina', 'JDP Oram', 'S Badrinath', 'K Goel',\n",
       "       'JR Hopes', 'KC Sangakkara', 'Yuvraj Singh', 'SM Katich',\n",
       "       'IK Pathan', 'T Kohli', 'YK Pathan', 'SR Watson', 'M Kaif',\n",
       "       'DS Lehmann', 'RA Jadeja', 'M Rawat', 'D Salunkhe', 'SK Warne',\n",
       "       'SK Trivedi', 'G Gambhir', 'V Sehwag', 'S Dhawan', 'L Ronchi',\n",
       "       'ST Jayasuriya', 'DJ Thornely', 'RV Uthappa', 'PR Shah',\n",
       "       'AM Nayar', 'SM Pollock', 'Harbhajan Singh', 'S Chanderpaul',\n",
       "       'LRPL Taylor', 'AC Gilchrist', 'Y Venugopal Rao', 'VVS Laxman',\n",
       "       'A Symonds', 'RG Sharma', 'SB Styris', 'AS Yadav', 'SB Bangar',\n",
       "       'WPUJC Vaas', 'RP Singh', 'WP Saha', 'LR Shukla',\n",
       "       'DPMD Jayawardene', 'S Sohal', 'B Lee', 'PP Chawla', 'WA Mota',\n",
       "       'Kamran Akmal', 'Shahid Afridi', 'DJ Bravo', 'MA Khote', 'A Nehra',\n",
       "       'GC Smith', 'Pankaj Singh', 'RR Sarwan', 'S Sreesanth',\n",
       "       'VRV Singh', 'SS Tiwary', 'DS Kulkarni', 'R Vinay Kumar',\n",
       "       'AB Agarkar', 'M Kartik', 'I Sharma', 'AM Rahane', 'Shoaib Malik',\n",
       "       'MK Tiwary', 'KD Karthik', 'R Bhatia', 'MF Maharoof', 'VY Mahesh',\n",
       "       'TM Srivastava', 'B Chipli', 'DW Steyn', 'DB Das', 'MK Pandey',\n",
       "       'HH Gibbs', 'DNT Zoysa', 'D Kalyankrishna', 'SE Marsh',\n",
       "       'SA Asnodkar', 'Sohail Tanvir', 'Salman Butt', 'BJ Hodge',\n",
       "       'Umar Gul', 'AB Dinda', 'SP Fleming', 'S Vidyut', 'JA Morkel',\n",
       "       'AB de Villiers', 'LPC Silva', 'DB Ravi Teja', 'Misbah-ul-Haq',\n",
       "       'YV Takawale', 'RR Raje', 'PJ Sangwan', 'Mohammad Asif',\n",
       "       'GD McGrath', 'Joginder Sharma', 'MS Gony', 'M Muralitharan',\n",
       "       'M Ntini', 'DT Patil', 'A Kumble', 'S Anirudha', 'MM Patel',\n",
       "       'CK Kapugedera', 'A Chopra', 'T Taibu', 'J Arunkumar', 'PP Ojha',\n",
       "       'SP Goswami', 'SR Tendulkar', 'U Kaul', 'TM Dilshan', 'A Mishra',\n",
       "       'AD Mascarenhas', 'NK Patel', 'LA Pomersbach', 'Iqbal Abdulla',\n",
       "       'Younis Khan', 'PM Sarvesh Kumar', 'DP Vijaykumar',\n",
       "       'Shoaib Akhtar', 'Abdur Razzak', 'H Das', 'DR Smith', 'SD Chitnis',\n",
       "       'CRD Fernando', 'VS Yeligati', 'L Balaji', 'A Mukund', 'RR Powar',\n",
       "       'JP Duminy', 'A Flintoff', 'T Thushara', 'JD Ryder',\n",
       "       'KP Pietersen', 'T Henderson', 'Kamran Khan', 'RS Bopara',\n",
       "       'CH Gayle', 'MC Henriques', 'R Bishnoi', 'FH Edwards', 'KV Sharma',\n",
       "       'PC Valthaty', 'RJ Quiney', 'AS Raut', 'Yashpal Singh', 'M Manhas',\n",
       "       'AA Bilakhia', 'AN Ghosh', 'BAW Mendis', 'DL Vettori',\n",
       "       'MN van Wyk', 'RE van der Merwe', 'TL Suman', 'Shoaib Ahmed',\n",
       "       'GR Napier', 'KP Appanna', 'LA Carseldine', 'NV Ojha',\n",
       "       'SM Harwood', 'M Vijay', 'SB Jakati', 'DA Warner', 'RJ Harris',\n",
       "       'D du Preez', 'M Morkel', 'AD Mathews', 'J Botha', 'C Nanda',\n",
       "       'SL Malinga', 'Mashrafe Mortaza', 'A Singh', 'GJ Bailey',\n",
       "       'AB McDonald', 'Y Nagar', 'SS Shaikh', 'R Ashwin',\n",
       "       'Mohammad Ashraful', 'CA Pujara', 'OA Shah', 'Anirudh Singh',\n",
       "       'Jaskaran Singh', 'AP Tare', 'AT Rayudu', 'R Sathish', 'R McLaren',\n",
       "       'AA Jhunjhunwala', 'P Dogra', 'A Uniyal', 'MS Bisla', 'YA Abdulla',\n",
       "       'EJG Morgan', 'JM Kemp', 'S Tyagi', 'RS Gavaskar', 'SE Bond',\n",
       "       'KA Pollard', 'S Ladda', 'DP Nannes', 'MJ Lumb', 'DR Martyn',\n",
       "       'S Narwal', 'AB Barath', 'Bipul Sharma', 'FY Fazal', 'AC Voges',\n",
       "       'MD Mishra', 'UT Yadav', 'J Theron', 'SJ Srivastava', 'R Sharma',\n",
       "       'Mandeep Singh', 'KM Jadhav', 'SW Tait', 'KB Arun Karthik',\n",
       "       'KAJ Roach', 'PD Collingwood', 'CK Langeveldt', 'VS Malik',\n",
       "       'A Mithun', 'AP Dole', 'AN Ahmed', 'RS Sodhi', 'DE Bollinger',\n",
       "       'S Sriram', 'B Sumanth', 'C Madan', 'AG Paunikar', 'MR Marsh',\n",
       "       'AJ Finch', 'STR Binny', 'Harmeet Singh', 'IR Jaggi',\n",
       "       'DT Christian', 'RV Gomez', 'MA Agarwal', 'AUK Pathan',\n",
       "       'UBT Chand', 'DJ Jacobs', 'Sunny Singh', 'NJ Rimmington',\n",
       "       'AL Menaria', 'WD Parnell', 'JJ van der Wath', 'R Ninan',\n",
       "       'S Aravind', 'MS Wade', 'TD Paine', 'SB Wagh', 'AC Thomas',\n",
       "       'JEC Franklin', 'Shakib Al Hasan', 'DH Yagnik', 'S Randiv',\n",
       "       'BJ Haddin', 'NLTC Perera', 'NL McCullum', 'JE Taylor',\n",
       "       'J Syed Mohammad', 'RN ten Doeschate', 'TR Birt', 'AG Murtaza',\n",
       "       'Harpreet Singh', 'M Klinger', 'AC Blizzard', 'I Malhotra',\n",
       "       'L Ablish', 'CA Ingram', 'S Nadeem', 'P Parameswaran',\n",
       "       'CJ Ferguson', 'VR Aaron', 'AA Chavan', 'ND Doshi', 'B Kumar',\n",
       "       'Y Gnaneswara Rao', 'S Rana', 'BA Bhatt', 'F du Plessis',\n",
       "       'RE Levi', 'GJ Maxwell', 'SPD Smith', 'MN Samuels', 'SA Yadav',\n",
       "       'KK Cooper', 'JP Faulkner', 'HV Patel', 'DAJ Bracewell',\n",
       "       'DJ Harris', 'Ankit Sharma', 'SP Narine', 'GB Hogg', 'RR Bhatkal',\n",
       "       'CJ McKay', 'N Saini', 'DA Miller', 'Azhar Mahmood', 'P Negi',\n",
       "       'RJ Peterson', 'KMDN Kulasekara', 'A Ashish Reddy',\n",
       "       'V Pratap Singh', 'BB Samantray', 'MJ Clarke', 'Gurkeerat Singh',\n",
       "       'AP Majumdar', 'PA Reddy', 'K Upadhyay', 'P Awana', 'AD Russell',\n",
       "       'A Chandila', 'CA Lynn', 'Sunny Gupta', 'MC Juneja', 'KK Nair',\n",
       "       'GH Vihari', 'MDKJ Perera', 'R Shukla', 'B Laughlin', 'AS Rajpoot',\n",
       "       'M Vohra', 'JD Unadkat', 'Mohammed Shami', 'BMAJ Mendis',\n",
       "       'R Rampaul', 'CH Morris', 'SV Samson', 'SMSM Senanayake',\n",
       "       'BJ Rohrer', 'KL Rahul', 'Q de Kock', 'R Dhawan', 'MG Johnson',\n",
       "       'LJ Wright', 'IC Pandey', 'CM Gautam', 'X Thalaivan Sargunam',\n",
       "       'DJG Sammy', 'KW Richardson', 'MM Sharma', 'UA Birla',\n",
       "       'Parvez Rasool', 'Sandeep Sharma', 'S Kaul', 'Sachin Baby',\n",
       "       'PV Tambe', 'NM Coulter-Nile', 'CJ Anderson', 'NJ Maddinson',\n",
       "       'AR Patel', 'JJ Bumrah', 'JDS Neesham', 'TG Southee', 'MA Starc',\n",
       "       'BR Dunk', 'RR Rossouw', 'Shivam Sharma', 'YS Chahal',\n",
       "       'LMP Simmons', 'VH Zol', 'BCJ Cutting', 'Imran Tahir',\n",
       "       'BE Hendricks', 'S Gopal', 'M de Lange', 'R Tewatia', 'JO Holder',\n",
       "       'Karanveer Singh', 'SS Iyer', 'DJ Hooda', 'Anureet Singh',\n",
       "       'KS Williamson', 'SA Abbott', 'J Suchith', 'RG More', 'HH Pandya',\n",
       "       'D Wiese', 'SN Khan', 'MJ McClenaghan', 'DJ Muthuswami',\n",
       "       'PJ Cummins', 'SN Thakur', 'JC Buttler', 'CR Brathwaite',\n",
       "       'MP Stoinis', 'Ishan Kishan', 'C Munro', 'P Sahu', 'KH Pandya',\n",
       "       'AD Nath', 'MJ Guptill', 'KJ Abbott', 'TM Head', 'M Ashwin',\n",
       "       'NS Naik', 'RR Pant', 'SW Billings', 'KC Cariappa',\n",
       "       'PSP Handscomb', 'Swapnil Singh', 'J Yadav', 'UT Khawaja',\n",
       "       'HM Amla', 'F Behardien', 'BB Sran', 'A Zampa', 'N Rana',\n",
       "       'S Kaushik', 'ER Dwivedi', 'CJ Jordan', 'TS Mills', 'A Choudhary',\n",
       "       'BA Stokes', 'JJ Roy', 'Vishnu Vinod', 'Basil Thampi', 'CR Woakes',\n",
       "       'RA Tripathi', 'DL Chahar', 'V Shankar', 'Rashid Khan',\n",
       "       'RD Chahar', 'LH Ferguson', 'C de Grandhomme', 'AF Milne',\n",
       "       'S Badree', 'Mohammad Nabi', 'AJ Tye', 'K Rabada', 'Kuldeep Yadav',\n",
       "       'Washington Sundar', 'DM Bravo', 'AR Bawne', 'SP Jackson',\n",
       "       'Ankit Soni', 'TA Boult', 'E Lewis', 'MA Wood', 'RK Singh',\n",
       "       'DJM Short', 'K Gowtham', 'TK Curran', 'M Markande', 'B Stanlake',\n",
       "       'Mujeeb Ur Rahman', 'A Dananjaya', 'Shubman Gill', 'Shivam Mavi',\n",
       "       'Mohammed Siraj', 'H Klaasen', 'RK Bhui', 'JC Archer', 'PP Shaw',\n",
       "       'LE Plunkett', 'Mustafizur Rahman', 'AD Hales', 'MK Lomror',\n",
       "       'DR Shorey', 'MM Ali', 'M Prasidh Krishna', 'P Chopra',\n",
       "       'JPR Scantlebury-Searles', 'Abhishek Sharma', 'IS Sodhi',\n",
       "       'SO Hetmyer', 'S Dube', 'Navdeep Saini', 'JM Bairstow', 'KMA Paul',\n",
       "       'Rasikh Salam', 'N Pooran', 'P Ray Barman', 'SM Curran',\n",
       "       'GC Viljoen', 'Avesh Khan', 'S Lamichhane', 'HF Gurney', 'SD Lad',\n",
       "       'AS Joseph', 'R Parag', 'MJ Santner', 'JL Denly', 'LS Livingstone',\n",
       "       'KK Ahmed', 'AJ Turner', 'Harpreet Brar', 'SE Rutherford',\n",
       "       'Y Prithvi Raj', 'P Simran Singh', 'JL Pattinson', 'A Nortje',\n",
       "       'T Banton', 'D Padikkal', 'YBK Jaiswal', 'RD Gaikwad',\n",
       "       'TU Deshpande', 'Abdul Samad', 'PK Garg', 'JR Philippe',\n",
       "       'Kartik Tyagi', 'KL Nagarkoti', 'CV Varun', 'I Udana',\n",
       "       'Ravi Bishnoi', 'Shahbaz Ahmed', 'AT Carey', 'N Jagadeesan',\n",
       "       'T Natarajan', 'P Dubey', 'SS Cottrell', 'Arshdeep Singh',\n",
       "       'DR Sams', 'M Jansen', 'RM Patidar', 'KA Jamieson',\n",
       "       'M Shahrukh Khan', 'JA Richardson', 'Lalit Yadav', 'Virat Singh',\n",
       "       'FA Allen', 'C Sakariya', 'DJ Malan', 'KS Bharat', 'PWH de Silva',\n",
       "       'VR Iyer', 'GD Phillips', 'GHS Garton', 'AK Markram', 'K Yadav',\n",
       "       'T Shamsi', 'NT Ellis', 'RV Patel', 'TL Seifert',\n",
       "       'Anmolpreet Singh', 'Anuj Rawat', 'TH David', 'DP Conway',\n",
       "       'Tilak Varma', 'R Powell', 'PBB Rajapaksa', 'RA Bawa', 'OF Smith',\n",
       "       'A Badoni', 'PVD Chameera', 'A Manohar', 'R Shepherd', 'DJ Willey',\n",
       "       'D Pretorius', 'JM Sharma', 'VG Arora', 'Mukesh Choudhary',\n",
       "       'Umran Malik', 'D Brevis', 'B Sai Sudharsan', 'Ramandeep Singh',\n",
       "       'HE van der Dussen', 'SS Prabhudessai', 'Akash Deep',\n",
       "       'JR Hazlewood', 'KR Sen', 'Aman Hakim Khan', 'HR Shokeen',\n",
       "       'Yash Dayal', 'DJ Mitchell', 'Shashank Singh', 'B Indrajith',\n",
       "       'Harshit Rana', 'Mohsin Khan', 'Simarjeet Singh', 'M Theekshana',\n",
       "       'AS Roy', 'Fazalhaq Farooqi', 'K Kartikeya', 'RP Meredith',\n",
       "       'KS Sharma', 'T Stubbs', 'R Sanjay Yadav', 'A Tomar', 'PN Mankad',\n",
       "       'OC McCoy', 'Sikandar Raza', 'Rahmanullah Gurbaz', 'KR Mayers',\n",
       "       'Mukesh Kumar', 'HC Brook', 'AU Rashid', 'C Green', 'N Wadhera',\n",
       "       'Arshad Khan', 'Abishek Porel', 'Dhruv Jurel', 'MG Bracewell',\n",
       "       'MW Short', 'Mohit Rathee', 'YV Dhull', 'Yudhvir Singh',\n",
       "       'Atharva Taide', 'Liton Das', 'PD Salt', 'Vijaykumar Vyshak',\n",
       "       'Abdul Basith', 'Arjun Tendulkar', 'JP Behrendorff', 'AJ Hosein',\n",
       "       'Naveen-ul-Haq', 'Noor Ahmad', 'JE Root', 'KM Asif', 'MD Shanaka',\n",
       "       'Sanvir Singh', 'Vivrant Sharma', 'DG Nalkande', 'R Ravindra',\n",
       "       'SD Hope', 'Sumit Kumar', 'Azmatullah Omarzai', 'Naman Dhir',\n",
       "       'G Coetzee', 'SZ Mulani', 'Sameer Rizvi', 'SH Johnson',\n",
       "       'Akash Madhwal', 'SB Dubey', 'Mayank Dagar', 'RJW Topley',\n",
       "       'A Raghuvanshi', 'Ashutosh Sharma', 'Nithish Kumar Reddy',\n",
       "       'Saurav Chauhan', 'Kumar Kushagra', 'BR Sharath', 'WG Jacks',\n",
       "       'J Fraser-McGurk', 'Tanush Kotian', 'KA Maharaj',\n",
       "       'Arshad Khan (2)', 'R Sai Kishore', 'L Wood', 'LB Williams',\n",
       "       'AA Kulkarni', 'MJ Suthar', 'RJ Gleeson', 'Gulbadin Naib',\n",
       "       'D Ferreira', 'A Kamboj', 'T Kohler-Cadmore', 'Shivam Singh',\n",
       "       'V Viyaskanth'], dtype=object)"
      ]
     },
     "execution_count": 56,
     "metadata": {},
     "output_type": "execute_result"
    }
   ],
   "source": [
    "deliveries['batter'].unique()"
   ]
  },
  {
   "cell_type": "markdown",
   "id": "dc10861a-6166-45b0-a21e-12d9a5df71ac",
   "metadata": {},
   "source": [
    "- there are total 673 batter played in IPL till now"
   ]
  },
  {
   "cell_type": "markdown",
   "id": "42d530fb-03e4-4170-8649-3169994f842d",
   "metadata": {},
   "source": [
    "#### bowler"
   ]
  },
  {
   "cell_type": "code",
   "execution_count": 59,
   "id": "71d54908-2ae4-411f-a06b-657ea4eac833",
   "metadata": {},
   "outputs": [
    {
     "data": {
      "text/plain": [
       "0"
      ]
     },
     "execution_count": 59,
     "metadata": {},
     "output_type": "execute_result"
    }
   ],
   "source": [
    "deliveries['bowler'].isnull().sum()"
   ]
  },
  {
   "cell_type": "code",
   "execution_count": 60,
   "id": "84b75775-6d1f-4cba-88e4-1fba641021a7",
   "metadata": {},
   "outputs": [
    {
     "data": {
      "text/plain": [
       "530"
      ]
     },
     "execution_count": 60,
     "metadata": {},
     "output_type": "execute_result"
    }
   ],
   "source": [
    "deliveries['bowler'].nunique()"
   ]
  },
  {
   "cell_type": "code",
   "execution_count": 61,
   "id": "191fde29-d4b0-4dde-91b2-08790bebe3f2",
   "metadata": {
    "scrolled": true
   },
   "outputs": [
    {
     "data": {
      "text/plain": [
       "array(['P Kumar', 'Z Khan', 'AA Noffke', 'JH Kallis', 'SB Joshi',\n",
       "       'CL White', 'AB Dinda', 'I Sharma', 'AB Agarkar', 'SC Ganguly',\n",
       "       'LR Shukla', 'B Lee', 'S Sreesanth', 'JR Hopes', 'IK Pathan',\n",
       "       'K Goel', 'PP Chawla', 'WA Mota', 'JDP Oram', 'MS Gony',\n",
       "       'M Muralitharan', 'P Amarnath', 'Joginder Sharma', 'GD McGrath',\n",
       "       'B Geeves', 'MF Maharoof', 'R Bhatia', 'DL Vettori', 'MM Patel',\n",
       "       'SR Watson', 'SK Trivedi', 'SK Warne', 'YK Pathan', 'D Salunkhe',\n",
       "       'R Vinay Kumar', 'B Akhil', 'A Nehra', 'SM Pollock', 'DS Kulkarni',\n",
       "       'ST Jayasuriya', 'Harbhajan Singh', 'AM Nayar', 'M Kartik',\n",
       "       'Mohammad Hafeez', 'DJ Hussey', 'WPUJC Vaas', 'RP Singh',\n",
       "       'SB Styris', 'SB Bangar', 'A Symonds', 'PP Ojha', 'Pankaj Singh',\n",
       "       'Mohammad Asif', 'VY Mahesh', 'Shahid Afridi', 'DJ Bravo',\n",
       "       'VS Yeligati', 'MA Khote', 'D Kalyankrishna', 'VRV Singh',\n",
       "       'Sohail Tanvir', 'A Kumble', 'DNT Zoysa', 'SD Chitnis',\n",
       "       'Yuvraj Singh', 'Shoaib Malik', 'DW Steyn', 'JA Morkel',\n",
       "       'CRD Fernando', 'V Kohli', 'V Sehwag', 'Gagandeep Singh',\n",
       "       'Y Venugopal Rao', 'Umar Gul', 'PJ Sangwan', 'M Ntini',\n",
       "       'DP Vijaykumar', 'DB Ravi Teja', 'LPC Silva', 'DJ Thornely',\n",
       "       'RR Raje', 'SK Raina', 'S Vidyut', 'L Balaji', 'CK Kapugedera',\n",
       "       'DR Smith', 'AD Mascarenhas', 'A Mishra', 'Shoaib Akhtar',\n",
       "       'Iqbal Abdulla', 'RR Powar', 'PM Sarvesh Kumar', 'Abdur Razzak',\n",
       "       'RA Jadeja', 'TM Dilshan', 'RG Sharma', 'A Nel', 'BAW Mendis',\n",
       "       'T Thushara', 'A Flintoff', 'SL Malinga', 'Kamran Khan',\n",
       "       'T Henderson', 'JD Ryder', 'DP Nannes', 'AM Salvi', 'YA Abdulla',\n",
       "       'VS Malik', 'FH Edwards', 'Harmeet Singh', 'CH Gayle',\n",
       "       'MC Henriques', 'KP Pietersen', 'LRPL Taylor', 'RS Bopara',\n",
       "       'MK Tiwary', 'Anureet Singh', 'RR Bose', 'KP Appanna',\n",
       "       'Shoaib Ahmed', 'BJ Hodge', 'SR Tendulkar', 'RE van der Merwe',\n",
       "       'JP Duminy', 'S Tyagi', 'GR Napier', 'SM Harwood', 'AS Raut',\n",
       "       'SB Jakati', 'D du Preez', 'RJ Harris', 'TL Suman', 'A Singh',\n",
       "       'M Morkel', 'LA Carseldine', 'A Mithun', 'C Nanda', 'SS Sarkar',\n",
       "       'AD Mathews', 'AM Rahane', 'J Botha', 'Mashrafe Mortaza',\n",
       "       'AB McDonald', 'Y Nagar', 'CK Langeveldt', 'R Ashwin', 'RA Shaikh',\n",
       "       'Jaskaran Singh', 'SW Tait', 'A Uniyal', 'AA Jhunjhunwala',\n",
       "       'R McLaren', 'AG Murtaza', 'R Sathish', 'RS Gavaskar', 'JM Kemp',\n",
       "       'S Ladda', 'Bipul Sharma', 'SE Bond', 'KA Pollard', 'S Narwal',\n",
       "       'UT Yadav', 'SJ Srivastava', 'AC Voges', 'R Sharma', 'J Theron',\n",
       "       'NLTC Perera', 'KAJ Roach', 'PD Collingwood', 'C Ganapathy',\n",
       "       'MB Parmar', 'SB Wagh', 'DE Bollinger', 'JD Unadkat', 'AP Dole',\n",
       "       'AN Ahmed', 'FY Fazal', 'MR Marsh', 'L Ablish', 'S Sriram',\n",
       "       'AJ Finch', 'STR Binny', 'ND Doshi', 'TG Southee', 'S Randiv',\n",
       "       'AL Menaria', 'DT Christian', 'AUK Pathan', 'RV Gomez',\n",
       "       'JEC Franklin', 'AC Thomas', 'WD Parnell', 'M Manhas',\n",
       "       'NJ Rimmington', 'RN ten Doeschate', 'S Nadeem', 'BA Bhatt',\n",
       "       'JJ van der Wath', 'S Aravind', 'R Ninan', 'Shakib Al Hasan',\n",
       "       'PC Valthaty', 'S Dhawan', 'J Syed Mohammad', 'VR Aaron',\n",
       "       'NL McCullum', 'JE Taylor', 'KMDN Kulasekara', 'P Parameswaran',\n",
       "       'I Malhotra', 'B Chipli', 'B Kumar', 'AA Kazi', 'Anand Rajan',\n",
       "       'P Prasanth', 'Y Gnaneswara Rao', 'AA Chavan', 'S Rana',\n",
       "       'JP Faulkner', 'SS Mundhe', 'RW Price', 'GJ Maxwell', 'M de Lange',\n",
       "       'MN Samuels', 'KK Cooper', 'DAJ Bracewell', 'HV Patel',\n",
       "       'Ankit Sharma', 'DJ Harris', 'TP Sudhindra', 'F du Plessis',\n",
       "       'SP Narine', 'GB Hogg', 'RR Bhatkal', 'P Awana', 'V Pratap Singh',\n",
       "       'CJ McKay', 'AD Russell', 'A Ashish Reddy', 'Azhar Mahmood',\n",
       "       'A Chandila', 'P Negi', 'LJ Wright', 'RJ Peterson', 'R Shukla',\n",
       "       'MJ Clarke', 'BW Hilfenhaus', 'SPD Smith', 'K Upadhyay',\n",
       "       'Sunny Gupta', 'MG Johnson', 'JJ Bumrah', 'S Badree', 'AS Rajpoot',\n",
       "       'B Laughlin', 'GH Vihari', 'Mohammed Shami', 'BMAJ Mendis',\n",
       "       'CH Morris', 'S Kaul', 'R Dhawan', 'MM Sharma', 'R Rampaul',\n",
       "       'KV Sharma', 'SMSM Senanayake', 'JO Holder', 'IC Pandey',\n",
       "       'Sandeep Sharma', 'YS Chahal', 'DJG Sammy', 'KW Richardson',\n",
       "       'P Suyal', 'PV Tambe', 'BJ Rohrer', 'Parvez Rasool', 'MG Neser',\n",
       "       'NM Coulter-Nile', 'AC Gilchrist', 'CJ Anderson', 'MA Starc',\n",
       "       'JDS Neesham', 'AR Patel', 'M Vijay', 'R Tewatia', 'SA Yadav',\n",
       "       'Shivam Sharma', 'Imran Tahir', 'V Shankar', 'LMP Simmons',\n",
       "       'BCJ Cutting', 'K Santokie', 'S Gopal', 'BE Hendricks',\n",
       "       'PJ Cummins', 'JW Hastings', 'Karanveer Singh', 'DJ Muthuswami',\n",
       "       'TA Boult', 'SA Abbott', 'KC Cariappa', 'DJ Hooda', 'J Suchith',\n",
       "       'RG More', 'D Wiese', 'MJ McClenaghan', 'HH Pandya', 'SN Thakur',\n",
       "       'GS Sandhu', 'Gurkeerat Singh', 'J Yadav', 'BB Sran', 'M Ashwin',\n",
       "       'C Munro', 'CR Brathwaite', 'MP Stoinis', 'P Sahu',\n",
       "       'Mustafizur Rahman', 'AF Milne', 'Kuldeep Yadav', 'KH Pandya',\n",
       "       'KJ Abbott', 'T Shamsi', 'S Kaushik', 'SM Boland', 'Swapnil Singh',\n",
       "       'CJ Jordan', 'A Zampa', 'Sachin Baby', 'N Rana', 'DL Chahar',\n",
       "       'KS Williamson', 'TS Mills', 'A Choudhary', 'TM Head',\n",
       "       'Rashid Khan', 'BA Stokes', 'CR Woakes', 'T Natarajan',\n",
       "       'RD Chahar', 'B Stanlake', 'Tejas Baroka', 'Basil Thampi',\n",
       "       'C de Grandhomme', 'AJ Tye', 'LH Ferguson', 'Mohammad Nabi',\n",
       "       'Mohammed Siraj', 'K Rabada', 'Washington Sundar', 'SS Agarwal',\n",
       "       'NB Singh', 'RA Tripathi', 'Ankit Soni', 'MJ Henry', 'Avesh Khan',\n",
       "       'MA Wood', 'M Markande', 'Mujeeb Ur Rahman', 'K Khejroliya',\n",
       "       'K Gowtham', 'DJM Short', 'TK Curran', 'A Dananjaya',\n",
       "       'Shivam Mavi', 'JC Archer', 'LE Plunkett', 'IS Sodhi', 'MK Lomror',\n",
       "       'L Ngidi', 'KM Asif', 'DJ Willey', 'M Prasidh Krishna', 'MM Ali',\n",
       "       'JPR Scantlebury-Searles', 'S Lamichhane', 'CJ Dala', 'KK Ahmed',\n",
       "       'Navdeep Saini', 'S Dube', 'Rasikh Salam', 'KMA Paul', 'SM Curran',\n",
       "       'CV Varun', 'GC Viljoen', 'Mandeep Singh', 'P Ray Barman',\n",
       "       'MJ Santner', 'JP Behrendorff', 'SC Kuggeleijn', 'AS Joseph',\n",
       "       'HF Gurney', 'S Midhun', 'R Parag', 'LS Livingstone', 'SN Khan',\n",
       "       'Abhishek Sharma', 'Arshdeep Singh', 'SE Rutherford',\n",
       "       'Harpreet Brar', 'Y Prithvi Raj', 'O Thomas', 'AS Roy',\n",
       "       'S Sandeep Warrier', 'JL Pattinson', 'SS Cottrell', 'Ravi Bishnoi',\n",
       "       'A Nortje', 'I Udana', 'TU Deshpande', 'KL Nagarkoti',\n",
       "       'Kartik Tyagi', 'DR Sams', 'Shahbaz Ahmed', 'Abdul Samad',\n",
       "       'JR Hazlewood', 'DA Warner', 'CJ Green', 'P Dubey', 'Monu Kumar',\n",
       "       'KA Jamieson', 'M Jansen', 'C Sakariya', 'JA Richardson',\n",
       "       'RP Meredith', 'LI Meriwala', 'Lalit Yadav', 'Jalaj S Saxena',\n",
       "       'FA Allen', 'PWH de Silva', 'Umran Malik', 'Akash Singh',\n",
       "       'GD Phillips', 'AK Markram', 'GHS Garton', 'VR Iyer', 'K Yadav',\n",
       "       'NT Ellis', 'RV Patel', 'IC Porel', 'AU Rashid', 'OF Smith',\n",
       "       'Akash Deep', 'PVD Chameera', 'Mohsin Khan', 'R Shepherd',\n",
       "       'Mukesh Choudhary', 'D Pretorius', 'VG Arora', 'YBK Jaiswal',\n",
       "       'Tilak Varma', 'DG Nalkande', 'M Theekshana', 'D Brevis',\n",
       "       'R Powell', 'KR Sen', 'Yash Dayal', 'Shashank Singh',\n",
       "       'Aman Hakim Khan', 'OC McCoy', 'HR Shokeen', 'A Badoni',\n",
       "       'DJ Mitchell', 'Harshit Rana', 'SS Iyer', 'K Kartikeya',\n",
       "       'Simarjeet Singh', 'Fazalhaq Farooqi', 'R Sai Kishore',\n",
       "       'Ramandeep Singh', 'PH Solanki', 'M Pathirana', 'R Sanjay Yadav',\n",
       "       'J Little', 'RS Hangargekar', 'Sikandar Raza', 'Mukesh Kumar',\n",
       "       'KR Mayers', 'NA Saini', 'RJW Topley', 'MG Bracewell',\n",
       "       'Arshad Khan', 'C Green', 'Yash Thakur', 'Suyash Sharma',\n",
       "       'SSB Magala', 'Mohit Rathee', 'MW Short', 'Vijaykumar Vyshak',\n",
       "       'Yudhvir Singh', 'Arjun Tendulkar', 'D Jansen', 'Noor Ahmad',\n",
       "       'Naveen-ul-Haq', 'Mayank Dagar', 'Gurnoor Brar', 'AJ Hosein',\n",
       "       'Akash Madhwal', 'R Goyal', 'T Stubbs', 'Vivrant Sharma',\n",
       "       'JE Root', 'Nithish Kumar Reddy', 'H Sharma', 'Sumit Kumar',\n",
       "       'N Burger', 'L Wood', 'SZ Mulani', 'Naman Dhir', 'G Coetzee',\n",
       "       'Azmatullah Omarzai', 'SH Johnson', 'KT Maphaka', 'M Siddharth',\n",
       "       'MP Yadav', 'R Ravindra', 'KA Maharaj', 'WG Jacks', 'S Joseph',\n",
       "       'Arshad Khan (2)', 'M Shahrukh Khan', 'N Thushara', 'LB Williams',\n",
       "       'RJ Gleeson', 'MJ Suthar', 'A Kamboj', 'V Viyaskanth',\n",
       "       'V Kaverappa', 'Gulbadin Naib', 'N Wadhera', 'Atharva Taide'],\n",
       "      dtype=object)"
      ]
     },
     "execution_count": 61,
     "metadata": {},
     "output_type": "execute_result"
    }
   ],
   "source": [
    "deliveries['bowler'].unique()"
   ]
  },
  {
   "cell_type": "markdown",
   "id": "710e931d-146f-4cc1-84c1-c6ace9e0c04e",
   "metadata": {},
   "source": [
    "- 530 bowlers played IPL till now"
   ]
  },
  {
   "cell_type": "markdown",
   "id": "55860efb-7ed7-47d4-8bf7-0605bacb31ed",
   "metadata": {},
   "source": [
    "#### non-striker"
   ]
  },
  {
   "cell_type": "code",
   "execution_count": 64,
   "id": "d1fd19f1-7cd3-4639-a4f3-a3256566109f",
   "metadata": {},
   "outputs": [
    {
     "data": {
      "text/plain": [
       "0"
      ]
     },
     "execution_count": 64,
     "metadata": {},
     "output_type": "execute_result"
    }
   ],
   "source": [
    "deliveries['non_striker'].isnull().sum()"
   ]
  },
  {
   "cell_type": "code",
   "execution_count": 65,
   "id": "15c40303-6bb1-467c-8520-2f12e0d0e025",
   "metadata": {},
   "outputs": [
    {
     "data": {
      "text/plain": [
       "663"
      ]
     },
     "execution_count": 65,
     "metadata": {},
     "output_type": "execute_result"
    }
   ],
   "source": [
    "deliveries['non_striker'].nunique()"
   ]
  },
  {
   "cell_type": "code",
   "execution_count": 66,
   "id": "722abb38-66aa-4e74-bbab-bf250f99709e",
   "metadata": {},
   "outputs": [
    {
     "data": {
      "text/plain": [
       "array(['BB McCullum', 'SC Ganguly', 'RT Ponting', 'DJ Hussey',\n",
       "       'Mohammad Hafeez', 'W Jaffer', 'R Dravid', 'V Kohli', 'JH Kallis',\n",
       "       'CL White', 'MV Boucher', 'B Akhil', 'AA Noffke', 'P Kumar',\n",
       "       'Z Khan', 'SB Joshi', 'ML Hayden', 'PA Patel', 'MEK Hussey',\n",
       "       'MS Dhoni', 'SK Raina', 'JDP Oram', 'S Badrinath', 'JR Hopes',\n",
       "       'K Goel', 'KC Sangakkara', 'Yuvraj Singh', 'SM Katich',\n",
       "       'IK Pathan', 'YK Pathan', 'T Kohli', 'SR Watson', 'M Kaif',\n",
       "       'DS Lehmann', 'RA Jadeja', 'M Rawat', 'D Salunkhe', 'SK Warne',\n",
       "       'SK Trivedi', 'V Sehwag', 'G Gambhir', 'S Dhawan', 'ST Jayasuriya',\n",
       "       'L Ronchi', 'DJ Thornely', 'RV Uthappa', 'PR Shah', 'AM Nayar',\n",
       "       'SM Pollock', 'Harbhajan Singh', 'S Chanderpaul', 'LRPL Taylor',\n",
       "       'Y Venugopal Rao', 'AC Gilchrist', 'VVS Laxman', 'A Symonds',\n",
       "       'SB Styris', 'AS Yadav', 'SB Bangar', 'WPUJC Vaas', 'RP Singh',\n",
       "       'PP Ojha', 'WP Saha', 'LR Shukla', 'DPMD Jayawardene', 'S Sohal',\n",
       "       'PP Chawla', 'WA Mota', 'Kamran Akmal', 'RG Sharma',\n",
       "       'Shahid Afridi', 'DJ Bravo', 'MA Khote', 'A Nehra', 'GC Smith',\n",
       "       'Pankaj Singh', 'RR Sarwan', 'B Lee', 'S Sreesanth', 'VRV Singh',\n",
       "       'SS Tiwary', 'DS Kulkarni', 'R Vinay Kumar', 'AB Agarkar',\n",
       "       'M Kartik', 'I Sharma', 'AB Dinda', 'AM Rahane', 'Shoaib Malik',\n",
       "       'MK Tiwary', 'KD Karthik', 'R Bhatia', 'MF Maharoof', 'VY Mahesh',\n",
       "       'TM Srivastava', 'B Chipli', 'DW Steyn', 'DB Das', 'MK Pandey',\n",
       "       'HH Gibbs', 'DNT Zoysa', 'D Kalyankrishna', 'SE Marsh',\n",
       "       'SA Asnodkar', 'Sohail Tanvir', 'Salman Butt', 'BJ Hodge',\n",
       "       'Umar Gul', 'SP Fleming', 'S Vidyut', 'JA Morkel',\n",
       "       'Joginder Sharma', 'AB de Villiers', 'LPC Silva', 'DB Ravi Teja',\n",
       "       'DP Vijaykumar', 'Misbah-ul-Haq', 'YV Takawale', 'RR Raje',\n",
       "       'PJ Sangwan', 'Mohammad Asif', 'GD McGrath', 'MS Gony', 'M Ntini',\n",
       "       'DT Patil', 'A Kumble', 'S Anirudha', 'MM Patel', 'CK Kapugedera',\n",
       "       'A Chopra', 'T Taibu', 'J Arunkumar', 'SP Goswami', 'SR Tendulkar',\n",
       "       'TM Dilshan', 'A Mishra', 'AD Mascarenhas', 'NK Patel',\n",
       "       'LA Pomersbach', 'Iqbal Abdulla', 'Younis Khan',\n",
       "       'PM Sarvesh Kumar', 'Shoaib Akhtar', 'Abdur Razzak', 'H Das',\n",
       "       'DR Smith', 'SD Chitnis', 'CRD Fernando', 'A Nel', 'RR Powar',\n",
       "       'JP Duminy', 'A Flintoff', 'KP Pietersen', 'T Henderson',\n",
       "       'Kamran Khan', 'RS Bopara', 'CH Gayle', 'MC Henriques',\n",
       "       'R Bishnoi', 'FH Edwards', 'KV Sharma', 'DL Vettori', 'L Balaji',\n",
       "       'M Muralitharan', 'PC Valthaty', 'AS Raut', 'Yashpal Singh',\n",
       "       'JD Ryder', 'M Manhas', 'RJ Quiney', 'AA Bilakhia', 'AN Ghosh',\n",
       "       'BAW Mendis', 'MN van Wyk', 'RE van der Merwe', 'TL Suman',\n",
       "       'GR Napier', 'KP Appanna', 'LA Carseldine', 'NV Ojha',\n",
       "       'SM Harwood', 'M Vijay', 'SB Jakati', 'S Tyagi', 'DA Warner',\n",
       "       'RJ Harris', 'Shoaib Ahmed', 'D du Preez', 'SL Malinga',\n",
       "       'M Morkel', 'AD Mathews', 'J Botha', 'Mashrafe Mortaza',\n",
       "       'Jaskaran Singh', 'GJ Bailey', 'AB McDonald', 'Y Nagar', 'A Singh',\n",
       "       'SS Shaikh', 'R Ashwin', 'T Thushara', 'Mohammad Ashraful',\n",
       "       'CA Pujara', 'OA Shah', 'Anirudh Singh', 'AP Tare', 'AT Rayudu',\n",
       "       'R Sathish', 'R McLaren', 'AA Jhunjhunwala', 'P Dogra', 'MS Bisla',\n",
       "       'YA Abdulla', 'EJG Morgan', 'JM Kemp', 'A Uniyal', 'RS Gavaskar',\n",
       "       'SE Bond', 'KA Pollard', 'S Ladda', 'DP Nannes', 'MJ Lumb',\n",
       "       'DR Martyn', 'AB Barath', 'Bipul Sharma', 'FY Fazal', 'AC Voges',\n",
       "       'MD Mishra', 'UT Yadav', 'J Theron', 'SJ Srivastava',\n",
       "       'Mandeep Singh', 'KM Jadhav', 'S Narwal', 'SW Tait',\n",
       "       'KB Arun Karthik', 'KAJ Roach', 'PD Collingwood', 'VS Malik',\n",
       "       'C Ganapathy', 'R Sharma', 'A Mithun', 'AP Dole', 'Harmeet Singh',\n",
       "       'AN Ahmed', 'RS Sodhi', 'S Sriram', 'B Sumanth', 'C Madan',\n",
       "       'AG Paunikar', 'DE Bollinger', 'MR Marsh', 'AJ Finch', 'STR Binny',\n",
       "       'IR Jaggi', 'DT Christian', 'RV Gomez', 'MA Agarwal', 'AUK Pathan',\n",
       "       'DJ Jacobs', 'Sunny Singh', 'NJ Rimmington', 'UBT Chand',\n",
       "       'AL Menaria', 'WD Parnell', 'R Ninan', 'S Aravind',\n",
       "       'JJ van der Wath', 'MS Wade', 'S Nadeem', 'TD Paine', 'SB Wagh',\n",
       "       'AC Thomas', 'JEC Franklin', 'Shakib Al Hasan', 'DH Yagnik',\n",
       "       'S Randiv', 'BJ Haddin', 'NLTC Perera', 'NL McCullum', 'JE Taylor',\n",
       "       'J Syed Mohammad', 'RN ten Doeschate', 'TR Birt', 'AG Murtaza',\n",
       "       'Harpreet Singh', 'M Klinger', 'AC Blizzard', 'I Malhotra',\n",
       "       'L Ablish', 'P Parameswaran', 'CJ Ferguson', 'CA Ingram',\n",
       "       'VR Aaron', 'AA Chavan', 'ND Doshi', 'B Kumar', 'CK Langeveldt',\n",
       "       'Y Gnaneswara Rao', 'S Rana', 'BA Bhatt', 'F du Plessis',\n",
       "       'RE Levi', 'GJ Maxwell', 'SPD Smith', 'MN Samuels', 'SA Yadav',\n",
       "       'JP Faulkner', 'DAJ Bracewell', 'DJ Harris', 'Ankit Sharma',\n",
       "       'TP Sudhindra', 'KK Cooper', 'HV Patel', 'GB Hogg', 'RR Bhatkal',\n",
       "       'CJ McKay', 'N Saini', 'DA Miller', 'Azhar Mahmood', 'P Negi',\n",
       "       'RJ Peterson', 'P Awana', 'KMDN Kulasekara', 'A Ashish Reddy',\n",
       "       'BB Samantray', 'MJ Clarke', 'Gurkeerat Singh', 'AP Majumdar',\n",
       "       'PA Reddy', 'K Upadhyay', 'SP Narine', 'AD Russell', 'CA Lynn',\n",
       "       'Sunny Gupta', 'MC Juneja', 'KK Nair', 'GH Vihari', 'MDKJ Perera',\n",
       "       'B Laughlin', 'AS Rajpoot', 'M Vohra', 'JD Unadkat',\n",
       "       'Mohammed Shami', 'BMAJ Mendis', 'R Rampaul', 'CH Morris',\n",
       "       'SV Samson', 'SMSM Senanayake', 'BJ Rohrer', 'KL Rahul',\n",
       "       'Q de Kock', 'R Dhawan', 'MG Johnson', 'A Chandila', 'LJ Wright',\n",
       "       'CM Gautam', 'X Thalaivan Sargunam', 'DJG Sammy', 'A Mukund',\n",
       "       'KW Richardson', 'UA Birla', 'Parvez Rasool', 'Sandeep Sharma',\n",
       "       'S Kaul', 'Sachin Baby', 'PV Tambe', 'NM Coulter-Nile',\n",
       "       'MM Sharma', 'CJ Anderson', 'NJ Maddinson', 'AR Patel',\n",
       "       'JJ Bumrah', 'JDS Neesham', 'BW Hilfenhaus', 'TG Southee',\n",
       "       'MA Starc', 'YS Chahal', 'BR Dunk', 'RR Rossouw', 'R Shukla',\n",
       "       'LMP Simmons', 'VH Zol', 'BCJ Cutting', 'Imran Tahir',\n",
       "       'BE Hendricks', 'S Gopal', 'M de Lange', 'R Tewatia', 'JO Holder',\n",
       "       'Karanveer Singh', 'SS Iyer', 'DJ Muthuswami', 'DJ Hooda',\n",
       "       'Anureet Singh', 'KS Williamson', 'SA Abbott', 'J Suchith',\n",
       "       'RG More', 'HH Pandya', 'D Wiese', 'SN Khan', 'MJ McClenaghan',\n",
       "       'SN Thakur', 'JC Buttler', 'CR Brathwaite', 'MP Stoinis',\n",
       "       'Ishan Kishan', 'C Munro', 'P Sahu', 'KH Pandya', 'AD Nath',\n",
       "       'KJ Abbott', 'TM Head', 'NS Naik', 'RR Pant', 'SW Billings',\n",
       "       'KC Cariappa', 'S Kaushik', 'PSP Handscomb', 'Swapnil Singh',\n",
       "       'J Yadav', 'UT Khawaja', 'HM Amla', 'F Behardien', 'BB Sran',\n",
       "       'N Rana', 'MJ Guptill', 'ER Dwivedi', 'CJ Jordan', 'TS Mills',\n",
       "       'A Choudhary', 'BA Stokes', 'JJ Roy', 'Vishnu Vinod', 'PJ Cummins',\n",
       "       'Basil Thampi', 'CR Woakes', 'RA Tripathi', 'DL Chahar', 'A Zampa',\n",
       "       'V Shankar', 'Rashid Khan', 'LH Ferguson', 'RD Chahar',\n",
       "       'C de Grandhomme', 'AF Milne', 'S Badree', 'Mohammad Nabi',\n",
       "       'AJ Tye', 'K Rabada', 'Kuldeep Yadav', 'DM Bravo', 'AR Bawne',\n",
       "       'SP Jackson', 'Ankit Soni', 'Washington Sundar', 'TA Boult',\n",
       "       'E Lewis', 'MA Wood', 'RK Singh', 'DJM Short', 'K Gowtham',\n",
       "       'TK Curran', 'M Markande', 'B Stanlake', 'Mujeeb Ur Rahman',\n",
       "       'A Dananjaya', 'Shubman Gill', 'Shivam Mavi', 'Mohammed Siraj',\n",
       "       'H Klaasen', 'JC Archer', 'PP Shaw', 'LE Plunkett',\n",
       "       'Mustafizur Rahman', 'AD Hales', 'MK Lomror', 'DR Shorey',\n",
       "       'MM Ali', 'M Prasidh Krishna', 'P Chopra',\n",
       "       'JPR Scantlebury-Searles', 'Abhishek Sharma', 'IS Sodhi',\n",
       "       'SO Hetmyer', 'S Dube', 'Navdeep Saini', 'JM Bairstow', 'KMA Paul',\n",
       "       'Rasikh Salam', 'N Pooran', 'P Ray Barman', 'SM Curran',\n",
       "       'GC Viljoen', 'Avesh Khan', 'AS Joseph', 'HF Gurney', 'SD Lad',\n",
       "       'R Parag', 'LS Livingstone', 'RK Bhui', 'AJ Turner',\n",
       "       'Harpreet Brar', 'SE Rutherford', 'Y Prithvi Raj', 'M Ashwin',\n",
       "       'MJ Santner', 'P Simran Singh', 'JL Pattinson', 'T Banton',\n",
       "       'D Padikkal', 'YBK Jaiswal', 'TU Deshpande', 'A Nortje',\n",
       "       'Ravi Bishnoi', 'Abdul Samad', 'PK Garg', 'T Natarajan',\n",
       "       'JR Philippe', 'Kartik Tyagi', 'I Udana', 'KL Nagarkoti',\n",
       "       'Shahbaz Ahmed', 'RD Gaikwad', 'AT Carey', 'CV Varun',\n",
       "       'N Jagadeesan', 'P Dubey', 'SS Cottrell', 'M Jansen', 'RM Patidar',\n",
       "       'KA Jamieson', 'M Shahrukh Khan', 'JA Richardson', 'Lalit Yadav',\n",
       "       'RP Meredith', 'Virat Singh', 'KK Ahmed', 'C Sakariya', 'FA Allen',\n",
       "       'Arshdeep Singh', 'DR Sams', 'DJ Malan', 'KS Bharat', 'VR Iyer',\n",
       "       'GD Phillips', 'AK Markram', 'K Yadav', 'GHS Garton', 'T Shamsi',\n",
       "       'NT Ellis', 'RV Patel', 'TL Seifert', 'Anmolpreet Singh',\n",
       "       'Anuj Rawat', 'TH David', 'PWH de Silva', 'DP Conway',\n",
       "       'Tilak Varma', 'PBB Rajapaksa', 'OF Smith', 'A Badoni',\n",
       "       'PVD Chameera', 'A Manohar', 'R Shepherd', 'DJ Willey', 'RA Bawa',\n",
       "       'R Powell', 'JM Sharma', 'VG Arora', 'D Pretorius',\n",
       "       'Mukesh Choudhary', 'Umran Malik', 'D Brevis', 'B Sai Sudharsan',\n",
       "       'Ramandeep Singh', 'HE van der Dussen', 'SS Prabhudessai',\n",
       "       'JR Hazlewood', 'Aman Hakim Khan', 'HR Shokeen', 'DJ Mitchell',\n",
       "       'Shashank Singh', 'B Indrajith', 'Mohsin Khan', 'Simarjeet Singh',\n",
       "       'Fazalhaq Farooqi', 'K Kartikeya', 'KS Sharma', 'M Theekshana',\n",
       "       'T Stubbs', 'A Tomar', 'PN Mankad', 'OC McCoy', 'Sikandar Raza',\n",
       "       'Rahmanullah Gurbaz', 'KR Mayers', 'HC Brook', 'AU Rashid',\n",
       "       'C Green', 'N Wadhera', 'Arshad Khan', 'Abishek Porel',\n",
       "       'Dhruv Jurel', 'MG Bracewell', 'Akash Deep', 'Mukesh Kumar',\n",
       "       'MW Short', 'Mohit Rathee', 'YV Dhull', 'Liton Das', 'PD Salt',\n",
       "       'Atharva Taide', 'Abdul Basith', 'Arjun Tendulkar',\n",
       "       'JP Behrendorff', 'Vijaykumar Vyshak', 'AJ Hosein',\n",
       "       'Naveen-ul-Haq', 'AS Roy', 'Noor Ahmad', 'JE Root', 'MD Shanaka',\n",
       "       'Sanvir Singh', 'Vivrant Sharma', 'R Ravindra', 'SD Hope',\n",
       "       'Sumit Kumar', 'Azmatullah Omarzai', 'Naman Dhir', 'G Coetzee',\n",
       "       'SZ Mulani', 'Sameer Rizvi', 'SH Johnson', 'Akash Madhwal',\n",
       "       'SB Dubey', 'Mayank Dagar', 'RJW Topley', 'A Raghuvanshi',\n",
       "       'Ashutosh Sharma', 'Nithish Kumar Reddy', 'Saurav Chauhan',\n",
       "       'BR Sharath', 'DG Nalkande', 'WG Jacks', 'J Fraser-McGurk',\n",
       "       'Tanush Kotian', 'KA Maharaj', 'Arshad Khan (2)', 'R Sai Kishore',\n",
       "       'L Wood', 'Kumar Kushagra', 'LB Williams', 'AA Kulkarni',\n",
       "       'MJ Suthar', 'Yudhvir Singh', 'Gulbadin Naib', 'A Kamboj',\n",
       "       'T Kohler-Cadmore', 'D Ferreira', 'Shivam Singh', 'V Viyaskanth'],\n",
       "      dtype=object)"
      ]
     },
     "execution_count": 66,
     "metadata": {},
     "output_type": "execute_result"
    }
   ],
   "source": [
    "deliveries['non_striker'].unique()"
   ]
  },
  {
   "cell_type": "markdown",
   "id": "487eacb3-20ac-4c6a-bd55-3e1bddba31d7",
   "metadata": {},
   "source": [
    "- there are total 663 unique values in non-striker"
   ]
  },
  {
   "cell_type": "markdown",
   "id": "4ea70f13-1bf0-4d27-8334-b74c68d21f82",
   "metadata": {},
   "source": [
    "#### batsmam_runs"
   ]
  },
  {
   "cell_type": "code",
   "execution_count": 69,
   "id": "9dcc988e-22dc-4298-91c1-45fc9fc56fe0",
   "metadata": {},
   "outputs": [
    {
     "data": {
      "text/plain": [
       "0"
      ]
     },
     "execution_count": 69,
     "metadata": {},
     "output_type": "execute_result"
    }
   ],
   "source": [
    "deliveries['batsman_runs'].isnull().sum()"
   ]
  },
  {
   "cell_type": "code",
   "execution_count": 70,
   "id": "6a6958af-24d9-4b98-881a-df09be29cf30",
   "metadata": {},
   "outputs": [
    {
     "data": {
      "text/plain": [
       "array([0, 4, 6, 1, 2, 5, 3], dtype=int64)"
      ]
     },
     "execution_count": 70,
     "metadata": {},
     "output_type": "execute_result"
    }
   ],
   "source": [
    "deliveries['batsman_runs'].unique()"
   ]
  },
  {
   "cell_type": "markdown",
   "id": "d0e89582-b31c-490a-a71c-75648c2e9488",
   "metadata": {},
   "source": [
    "- values are till 6 that a batter can strike"
   ]
  },
  {
   "cell_type": "markdown",
   "id": "0a338453-4f0c-41e5-9600-51def95514d0",
   "metadata": {},
   "source": [
    "#### extra_runs"
   ]
  },
  {
   "cell_type": "code",
   "execution_count": 73,
   "id": "20069575-9e64-4c6e-967f-0e75b5cb5070",
   "metadata": {},
   "outputs": [
    {
     "data": {
      "text/plain": [
       "0"
      ]
     },
     "execution_count": 73,
     "metadata": {},
     "output_type": "execute_result"
    }
   ],
   "source": [
    "deliveries['extra_runs'].isnull().sum()"
   ]
  },
  {
   "cell_type": "code",
   "execution_count": 74,
   "id": "23f3baf1-40b9-4b8c-9ee7-9d18468cef7f",
   "metadata": {},
   "outputs": [
    {
     "data": {
      "text/plain": [
       "array([1, 0, 5, 4, 2, 3, 7], dtype=int64)"
      ]
     },
     "execution_count": 74,
     "metadata": {},
     "output_type": "execute_result"
    }
   ],
   "source": [
    "deliveries['extra_runs'].unique()"
   ]
  },
  {
   "cell_type": "markdown",
   "id": "476e9a8e-f4ae-49f7-afcd-d84ebda4d5c2",
   "metadata": {},
   "source": [
    "- because of bowlers mistake some penalties are gives so the value is 7"
   ]
  },
  {
   "cell_type": "markdown",
   "id": "986933a1-6d01-4e25-bbd3-8478a74f7a39",
   "metadata": {},
   "source": [
    "#### Total_runs"
   ]
  },
  {
   "cell_type": "code",
   "execution_count": 77,
   "id": "832f7ad4-11cd-4b3c-b98c-e62be00068d1",
   "metadata": {},
   "outputs": [
    {
     "data": {
      "text/plain": [
       "0"
      ]
     },
     "execution_count": 77,
     "metadata": {},
     "output_type": "execute_result"
    }
   ],
   "source": [
    "deliveries['total_runs'].isnull().sum()"
   ]
  },
  {
   "cell_type": "code",
   "execution_count": 78,
   "id": "b9b1f713-cc4a-426c-8a0a-cc302388f057",
   "metadata": {},
   "outputs": [
    {
     "data": {
      "text/plain": [
       "array([1, 0, 4, 6, 5, 2, 3, 7], dtype=int64)"
      ]
     },
     "execution_count": 78,
     "metadata": {},
     "output_type": "execute_result"
    }
   ],
   "source": [
    "deliveries['total_runs'].unique()"
   ]
  },
  {
   "cell_type": "markdown",
   "id": "803d4402-e96e-4dd3-9bad-27ce05ad766b",
   "metadata": {},
   "source": [
    "- there is no anamolous behaviour in this column"
   ]
  },
  {
   "cell_type": "markdown",
   "id": "a84e5106-0131-426b-9242-3ff4c20b2c66",
   "metadata": {},
   "source": [
    "#### extras_type"
   ]
  },
  {
   "cell_type": "code",
   "execution_count": 81,
   "id": "22689910-d1c9-4ce4-ad57-658668a898c5",
   "metadata": {},
   "outputs": [
    {
     "data": {
      "text/plain": [
       "246795"
      ]
     },
     "execution_count": 81,
     "metadata": {},
     "output_type": "execute_result"
    }
   ],
   "source": [
    "deliveries['extras_type'].isnull().sum()"
   ]
  },
  {
   "cell_type": "code",
   "execution_count": 82,
   "id": "0e75a9fd-b130-424f-bc0c-596bff82e673",
   "metadata": {},
   "outputs": [
    {
     "data": {
      "text/plain": [
       "array(['legbyes', nan, 'wides', 'byes', 'noballs', 'penalty'],\n",
       "      dtype=object)"
      ]
     },
     "execution_count": 82,
     "metadata": {},
     "output_type": "execute_result"
    }
   ],
   "source": [
    "deliveries['extras_type'].unique()"
   ]
  },
  {
   "cell_type": "markdown",
   "id": "4d6553d0-ae4e-4c5d-8d85-d83239ae4c4e",
   "metadata": {},
   "source": [
    "- here we have 246795 null values which is valid as their isnt any extra runs for these ball.\n",
    "- there is no need to fill these null values \n",
    "- we can futher drop this column as it is of no use."
   ]
  },
  {
   "cell_type": "markdown",
   "id": "8e68a402-60e9-466a-bec6-9d460dbc0c5b",
   "metadata": {},
   "source": [
    "#### is_wicket"
   ]
  },
  {
   "cell_type": "code",
   "execution_count": 85,
   "id": "adeb1a10-cd42-48c5-b13e-67856ac95856",
   "metadata": {},
   "outputs": [
    {
     "data": {
      "text/plain": [
       "0"
      ]
     },
     "execution_count": 85,
     "metadata": {},
     "output_type": "execute_result"
    }
   ],
   "source": [
    "deliveries['is_wicket'].isnull().sum()"
   ]
  },
  {
   "cell_type": "code",
   "execution_count": 86,
   "id": "965b25bf-a273-4238-aa47-bbea68f6a5d0",
   "metadata": {},
   "outputs": [
    {
     "data": {
      "text/plain": [
       "array([0, 1], dtype=int64)"
      ]
     },
     "execution_count": 86,
     "metadata": {},
     "output_type": "execute_result"
    }
   ],
   "source": [
    "deliveries['is_wicket'].unique()"
   ]
  },
  {
   "cell_type": "markdown",
   "id": "51ac27ea-d737-440d-a8c6-851fe3d6f25a",
   "metadata": {},
   "source": [
    "- in this column 0 means no wicket and 1 mean they caught a wicket.\n"
   ]
  },
  {
   "cell_type": "markdown",
   "id": "d977ba40-c289-408c-9651-9977858481b5",
   "metadata": {},
   "source": [
    "#### player_dismissed"
   ]
  },
  {
   "cell_type": "code",
   "execution_count": 89,
   "id": "43494e72-b7cc-4bdd-a807-26016e426e02",
   "metadata": {},
   "outputs": [
    {
     "data": {
      "text/plain": [
       "247970"
      ]
     },
     "execution_count": 89,
     "metadata": {},
     "output_type": "execute_result"
    }
   ],
   "source": [
    "deliveries['player_dismissed'].isnull().sum()"
   ]
  },
  {
   "cell_type": "code",
   "execution_count": 90,
   "id": "11f80f76-3301-4ff3-866c-e6db88f7b4bb",
   "metadata": {},
   "outputs": [
    {
     "data": {
      "text/plain": [
       "array([nan, 'SC Ganguly', 'RT Ponting', 'DJ Hussey', 'R Dravid',\n",
       "       'V Kohli', 'JH Kallis', 'W Jaffer', 'MV Boucher', 'B Akhil',\n",
       "       'CL White', 'AA Noffke', 'Z Khan', 'SB Joshi', 'PA Patel',\n",
       "       'ML Hayden', 'MS Dhoni', 'SK Raina', 'JDP Oram', 'K Goel',\n",
       "       'JR Hopes', 'Yuvraj Singh', 'KC Sangakkara', 'T Kohli',\n",
       "       'YK Pathan', 'SR Watson', 'DS Lehmann', 'M Kaif', 'M Rawat',\n",
       "       'RA Jadeja', 'SK Warne', 'V Sehwag', 'L Ronchi', 'DJ Thornely',\n",
       "       'ST Jayasuriya', 'PR Shah', 'RV Uthappa', 'AM Nayar', 'SM Pollock',\n",
       "       'S Chanderpaul', 'LRPL Taylor', 'Y Venugopal Rao', 'VVS Laxman',\n",
       "       'AC Gilchrist', 'RG Sharma', 'SB Styris', 'AS Yadav', 'A Symonds',\n",
       "       'WPUJC Vaas', 'SB Bangar', 'PP Ojha', 'BB McCullum', 'WP Saha',\n",
       "       'Mohammad Hafeez', 'DPMD Jayawardene', 'IK Pathan', 'B Lee',\n",
       "       'S Sohal', 'Kamran Akmal', 'Shahid Afridi', 'G Gambhir',\n",
       "       'MEK Hussey', 'DJ Bravo', 'MA Khote', 'Harbhajan Singh',\n",
       "       'GC Smith', 'D Salunkhe', 'RR Sarwan', 'PP Chawla', 'S Sreesanth',\n",
       "       'VRV Singh', 'SS Tiwary', 'P Kumar', 'AB Agarkar', 'M Kartik',\n",
       "       'LR Shukla', 'AM Rahane', 'S Dhawan', 'Shoaib Malik', 'KD Karthik',\n",
       "       'R Bhatia', 'MK Tiwary', 'MF Maharoof', 'SM Katich',\n",
       "       'TM Srivastava', 'B Chipli', 'DW Steyn', 'DB Das', 'MK Pandey',\n",
       "       'HH Gibbs', 'DNT Zoysa', 'D Kalyankrishna', 'SA Asnodkar',\n",
       "       'Salman Butt', 'BJ Hodge', 'Umar Gul', 'AB Dinda', 'SP Fleming',\n",
       "       'S Vidyut', 'JA Morkel', 'LPC Silva', 'DB Ravi Teja', 'RP Singh',\n",
       "       'Misbah-ul-Haq', 'SE Marsh', 'YV Takawale', 'AB de Villiers',\n",
       "       'PJ Sangwan', 'Mohammad Asif', 'GD McGrath', 'S Badrinath',\n",
       "       'Joginder Sharma', 'M Muralitharan', 'M Ntini', 'DT Patil',\n",
       "       'A Kumble', 'S Anirudha', 'Sohail Tanvir', 'SK Trivedi',\n",
       "       'CK Kapugedera', 'A Chopra', 'T Taibu', 'J Arunkumar',\n",
       "       'SP Goswami', 'R Vinay Kumar', 'A Mishra', 'AD Mascarenhas',\n",
       "       'TM Dilshan', 'VY Mahesh', 'SR Tendulkar', 'Younis Khan',\n",
       "       'NK Patel', 'I Sharma', 'Shoaib Akhtar', 'H Das', 'DR Smith',\n",
       "       'SD Chitnis', 'A Nehra', 'VS Yeligati', 'MS Gony', 'L Balaji',\n",
       "       'LA Pomersbach', 'A Nel', 'A Mukund', 'WA Mota', 'JP Duminy',\n",
       "       'A Flintoff', 'JD Ryder', 'KP Pietersen', 'T Henderson',\n",
       "       'MM Patel', 'Kamran Khan', 'RS Bopara', 'CH Gayle', 'MC Henriques',\n",
       "       'R Bishnoi', 'KV Sharma', 'PC Valthaty', 'RJ Quiney',\n",
       "       'Yashpal Singh', 'Pankaj Singh', 'FH Edwards', 'AS Raut',\n",
       "       'AN Ghosh', 'BAW Mendis', 'DL Vettori', 'RE van der Merwe',\n",
       "       'RR Powar', 'AA Bilakhia', 'TL Suman', 'Shoaib Ahmed', 'GR Napier',\n",
       "       'MN van Wyk', 'NV Ojha', 'LA Carseldine', 'M Vijay', 'SB Jakati',\n",
       "       'DA Warner', 'M Manhas', 'RJ Harris', 'D du Preez', 'RR Raje',\n",
       "       'DS Kulkarni', 'M Morkel', 'AD Mathews', 'S Tyagi', 'C Nanda',\n",
       "       'SL Malinga', 'J Botha', 'A Singh', 'GJ Bailey', 'AB McDonald',\n",
       "       'Y Nagar', 'SS Shaikh', 'R Ashwin', 'T Thushara',\n",
       "       'Mohammad Ashraful', 'CA Pujara', 'Anirudh Singh', 'AP Tare',\n",
       "       'AT Rayudu', 'R Sathish', 'AA Jhunjhunwala', 'P Dogra', 'A Uniyal',\n",
       "       'MS Bisla', 'EJG Morgan', 'JM Kemp', 'OA Shah', 'RS Gavaskar',\n",
       "       'SE Bond', 'KA Pollard', 'DP Nannes', 'MJ Lumb', 'DR Martyn',\n",
       "       'S Narwal', 'AB Barath', 'FY Fazal', 'MD Mishra', 'S Ladda',\n",
       "       'J Theron', 'SJ Srivastava', 'R Sharma', 'Mandeep Singh',\n",
       "       'AC Voges', 'Jaskaran Singh', 'KAJ Roach', 'PD Collingwood',\n",
       "       'CK Langeveldt', 'VS Malik', 'KM Jadhav', 'SW Tait', 'A Mithun',\n",
       "       'AP Dole', 'Harmeet Singh', 'R McLaren', 'S Sriram', 'KP Appanna',\n",
       "       'C Madan', 'AG Paunikar', 'MR Marsh', 'AJ Finch', 'STR Binny',\n",
       "       'B Sumanth', 'IR Jaggi', 'DT Christian', 'RV Gomez', 'MA Agarwal',\n",
       "       'UBT Chand', 'UT Yadav', 'DJ Jacobs', 'Sunny Singh', 'AL Menaria',\n",
       "       'AUK Pathan', 'WD Parnell', 'JJ van der Wath', 'R Ninan',\n",
       "       'MS Wade', 'TD Paine', 'SB Wagh', 'JEC Franklin',\n",
       "       'Shakib Al Hasan', 'S Randiv', 'BJ Haddin', 'NLTC Perera',\n",
       "       'JE Taylor', 'NL McCullum', 'RN ten Doeschate', 'TR Birt',\n",
       "       'M Klinger', 'Harpreet Singh', 'Bipul Sharma', 'AC Blizzard',\n",
       "       'CA Ingram', 'S Nadeem', 'DH Yagnik', 'KB Arun Karthik',\n",
       "       'AA Chavan', 'ND Doshi', 'CJ Ferguson', 'Y Gnaneswara Rao',\n",
       "       'S Rana', 'BA Bhatt', 'F du Plessis', 'DE Bollinger', 'RE Levi',\n",
       "       'MN Samuels', 'B Kumar', 'SPD Smith', 'SA Yadav', 'HV Patel',\n",
       "       'GJ Maxwell', 'DJ Harris', 'Ankit Sharma', 'SP Narine',\n",
       "       'JP Faulkner', 'KK Cooper', 'GB Hogg', 'RR Bhatkal', 'CJ McKay',\n",
       "       'N Saini', 'DA Miller', 'P Negi', 'Azhar Mahmood', 'AC Thomas',\n",
       "       'RJ Peterson', 'A Ashish Reddy', 'V Pratap Singh', 'MJ Clarke',\n",
       "       'Gurkeerat Singh', 'VR Aaron', 'AP Majumdar', 'PA Reddy',\n",
       "       'AD Russell', 'CA Lynn', 'Sunny Gupta', 'MC Juneja', 'KK Nair',\n",
       "       'GH Vihari', 'MDKJ Perera', 'B Laughlin', 'Mohammed Shami',\n",
       "       'BMAJ Mendis', 'M Vohra', 'R Rampaul', 'P Awana',\n",
       "       'SMSM Senanayake', 'BJ Rohrer', 'KL Rahul', 'J Syed Mohammad',\n",
       "       'Q de Kock', 'BB Samantray', 'R Dhawan', 'MG Johnson', 'LJ Wright',\n",
       "       'AG Murtaza', 'IC Pandey', 'X Thalaivan Sargunam', 'DJG Sammy',\n",
       "       'SV Samson', 'KW Richardson', 'CH Morris', 'MM Sharma',\n",
       "       'CM Gautam', 'UA Birla', 'Parvez Rasool', 'Sachin Baby',\n",
       "       'NM Coulter-Nile', 'CJ Anderson', 'NJ Maddinson', 'AR Patel',\n",
       "       'JDS Neesham', 'TG Southee', 'PV Tambe', 'MA Starc', 'BR Dunk',\n",
       "       'RR Rossouw', 'Shivam Sharma', 'LMP Simmons', 'VH Zol',\n",
       "       'BCJ Cutting', 'Imran Tahir', 'R Shukla', 'BE Hendricks',\n",
       "       'M de Lange', 'S Gopal', 'R Tewatia', 'JO Holder', 'JD Unadkat',\n",
       "       'SS Iyer', 'DJ Hooda', 'SA Abbott', 'AN Ahmed', 'KS Williamson',\n",
       "       'Iqbal Abdulla', 'SN Khan', 'D Wiese', 'HH Pandya',\n",
       "       'MJ McClenaghan', 'Anureet Singh', 'DJ Muthuswami', 'PJ Cummins',\n",
       "       'Karanveer Singh', 'Sandeep Sharma', 'J Suchith', 'JC Buttler',\n",
       "       'CR Brathwaite', 'MP Stoinis', 'Ishan Kishan', 'C Munro',\n",
       "       'AD Nath', 'MJ Guptill', 'P Sahu', 'TM Head', 'M Ashwin',\n",
       "       'KH Pandya', 'NS Naik', 'RR Pant', 'SW Billings', 'KC Cariappa',\n",
       "       'PSP Handscomb', 'Swapnil Singh', 'J Yadav', 'UT Khawaja',\n",
       "       'HM Amla', 'JJ Bumrah', 'A Zampa', 'N Rana', 'S Kaushik',\n",
       "       'F Behardien', 'KJ Abbott', 'ER Dwivedi', 'CJ Jordan', 'S Aravind',\n",
       "       'TS Mills', 'YS Chahal', 'BA Stokes', 'JJ Roy', 'Vishnu Vinod',\n",
       "       'CR Woakes', 'RA Tripathi', 'DL Chahar', 'V Shankar',\n",
       "       'Rashid Khan', 'SN Thakur', 'C de Grandhomme', 'S Badree',\n",
       "       'AF Milne', 'Mohammad Nabi', 'K Rabada', 'AJ Tye', 'Kuldeep Yadav',\n",
       "       'SP Jackson', 'Ankit Soni', 'A Choudhary', 'AS Rajpoot',\n",
       "       'Washington Sundar', 'E Lewis', 'MA Wood', 'RK Singh', 'DJM Short',\n",
       "       'K Gowtham', 'S Kaul', 'Mujeeb Ur Rahman', 'Shubman Gill',\n",
       "       'Shivam Mavi', 'TK Curran', 'TA Boult', 'H Klaasen', 'RK Bhui',\n",
       "       'JC Archer', 'PP Shaw', 'LE Plunkett', 'Basil Thampi',\n",
       "       'M Markande', 'Mustafizur Rahman', 'BB Sran', 'AD Hales',\n",
       "       'MK Lomror', 'Mohammed Siraj', 'DR Shorey', 'MM Ali', 'P Chopra',\n",
       "       'IS Sodhi', 'Abhishek Sharma', 'JPR Scantlebury-Searles',\n",
       "       'SO Hetmyer', 'S Dube', 'Navdeep Saini', 'JM Bairstow', 'KMA Paul',\n",
       "       'N Pooran', 'P Ray Barman', 'SM Curran', 'GC Viljoen',\n",
       "       'S Lamichhane', 'RD Chahar', 'M Prasidh Krishna', 'SD Lad',\n",
       "       'R Parag', 'JL Denly', 'LS Livingstone', 'KK Ahmed', 'AJ Turner',\n",
       "       'SE Rutherford', 'MJ Santner', 'P Simran Singh', 'JL Pattinson',\n",
       "       'T Banton', 'D Padikkal', 'YBK Jaiswal', 'RD Gaikwad',\n",
       "       'TU Deshpande', 'Abdul Samad', 'PK Garg', 'JR Philippe',\n",
       "       'KL Nagarkoti', 'CV Varun', 'I Udana', 'Ravi Bishnoi', 'AT Carey',\n",
       "       'N Jagadeesan', 'A Nortje', 'Kartik Tyagi', 'SS Cottrell',\n",
       "       'Arshdeep Singh', 'DR Sams', 'M Jansen', 'RM Patidar',\n",
       "       'Shahbaz Ahmed', 'KA Jamieson', 'JA Richardson', 'Lalit Yadav',\n",
       "       'M Shahrukh Khan', 'Virat Singh', 'FA Allen', 'C Sakariya',\n",
       "       'DJ Malan', 'KS Bharat', 'PWH de Silva', 'GHS Garton',\n",
       "       'AK Markram', 'Avesh Khan', 'VR Iyer', 'GD Phillips', 'TL Seifert',\n",
       "       'Anmolpreet Singh', 'Anuj Rawat', 'NT Ellis', 'RV Patel',\n",
       "       'TH David', 'DP Conway', 'Tilak Varma', 'R Powell',\n",
       "       'PBB Rajapaksa', 'RA Bawa', 'A Badoni', 'R Shepherd', 'DJ Willey',\n",
       "       'D Pretorius', 'Harpreet Brar', 'A Manohar', 'JM Sharma',\n",
       "       'OF Smith', 'D Brevis', 'VG Arora', 'B Sai Sudharsan',\n",
       "       'Ramandeep Singh', 'Rasikh Salam', 'HE van der Dussen',\n",
       "       'PVD Chameera', 'SS Prabhudessai', 'Akash Deep', 'Aman Hakim Khan',\n",
       "       'AS Joseph', 'HR Shokeen', 'LH Ferguson', 'Yash Dayal',\n",
       "       'DJ Mitchell', 'B Indrajith', 'Shashank Singh', 'AS Roy',\n",
       "       'Harshit Rana', 'Umran Malik', 'K Kartikeya', 'KS Sharma',\n",
       "       'Mohsin Khan', 'Simarjeet Singh', 'M Theekshana',\n",
       "       'Mukesh Choudhary', 'T Stubbs', 'R Sanjay Yadav', 'A Tomar',\n",
       "       'OC McCoy', 'Sikandar Raza', 'Rahmanullah Gurbaz', 'KR Mayers',\n",
       "       'HC Brook', 'AU Rashid', 'C Green', 'N Wadhera', 'Abishek Porel',\n",
       "       'MG Bracewell', 'Arshad Khan', 'MW Short', 'YV Dhull',\n",
       "       'Dhruv Jurel', 'Yudhvir Singh', 'Atharva Taide', 'Liton Das',\n",
       "       'PD Salt', 'Vijaykumar Vyshak', 'Arjun Tendulkar', 'Naveen-ul-Haq',\n",
       "       'Noor Ahmad', 'P Dubey', 'JE Root', 'KM Asif', 'Sanvir Singh',\n",
       "       'PN Mankad', 'Vivrant Sharma', 'MD Shanaka', 'DG Nalkande',\n",
       "       'R Ravindra', 'SD Hope', 'Sumit Kumar', 'Azmatullah Omarzai',\n",
       "       'Naman Dhir', 'G Coetzee', 'Sameer Rizvi', 'Mayank Dagar',\n",
       "       'A Raghuvanshi', 'Ashutosh Sharma', 'Saurav Chauhan',\n",
       "       'Kumar Kushagra', 'BR Sharath', 'Nithish Kumar Reddy', 'WG Jacks',\n",
       "       'J Fraser-McGurk', 'Tanush Kotian', 'KA Maharaj',\n",
       "       'Arshad Khan (2)', 'R Sai Kishore', 'AA Kulkarni', 'MJ Suthar',\n",
       "       'Gulbadin Naib', 'SB Dubey', 'D Ferreira', 'Mukesh Kumar',\n",
       "       'T Kohler-Cadmore'], dtype=object)"
      ]
     },
     "execution_count": 90,
     "metadata": {},
     "output_type": "execute_result"
    }
   ],
   "source": [
    "deliveries['player_dismissed'].unique()"
   ]
  },
  {
   "cell_type": "markdown",
   "id": "45f8b63e-728a-4c0a-b940-c5915c88bf7d",
   "metadata": {},
   "source": [
    "- in this column we have the player of whose the wicket is caught\n",
    "- the data is of every ball so their are many null value which is valid. \n",
    "- the column does not gives any specific value so we might delete it later."
   ]
  },
  {
   "cell_type": "markdown",
   "id": "3077fcbc-d38f-4952-991e-46dd728bda45",
   "metadata": {},
   "source": [
    "#### dismissal_kind"
   ]
  },
  {
   "cell_type": "code",
   "execution_count": 93,
   "id": "8595654c-02da-4eb4-b496-6f9606b3a5eb",
   "metadata": {},
   "outputs": [
    {
     "data": {
      "text/plain": [
       "247970"
      ]
     },
     "execution_count": 93,
     "metadata": {},
     "output_type": "execute_result"
    }
   ],
   "source": [
    "deliveries['dismissal_kind'].isnull().sum()"
   ]
  },
  {
   "cell_type": "code",
   "execution_count": 94,
   "id": "7c7ca35d-41bb-44f1-acc3-577d4af1653c",
   "metadata": {},
   "outputs": [
    {
     "data": {
      "text/plain": [
       "array([nan, 'caught', 'bowled', 'run out', 'lbw', 'retired hurt',\n",
       "       'stumped', 'caught and bowled', 'hit wicket',\n",
       "       'obstructing the field', 'retired out'], dtype=object)"
      ]
     },
     "execution_count": 94,
     "metadata": {},
     "output_type": "execute_result"
    }
   ],
   "source": [
    "deliveries['dismissal_kind'].unique()"
   ]
  },
  {
   "cell_type": "markdown",
   "id": "c3120259-c954-4875-b0a0-e28f1f87fc91",
   "metadata": {},
   "source": [
    "- here also null values are valid due to same reason"
   ]
  },
  {
   "cell_type": "markdown",
   "id": "8ee9d639-2e6c-42c8-96fa-d077ace2b5e4",
   "metadata": {},
   "source": [
    "#### fielder"
   ]
  },
  {
   "cell_type": "code",
   "execution_count": 97,
   "id": "5be29e85-a713-4cf1-8a12-9a04c1713de0",
   "metadata": {},
   "outputs": [
    {
     "data": {
      "text/plain": [
       "251566"
      ]
     },
     "execution_count": 97,
     "metadata": {},
     "output_type": "execute_result"
    }
   ],
   "source": [
    "deliveries['fielder'].isnull().sum()"
   ]
  },
  {
   "cell_type": "code",
   "execution_count": 98,
   "id": "73eda7d9-0af7-4270-9899-384eed651fb8",
   "metadata": {},
   "outputs": [
    {
     "data": {
      "text/plain": [
       "array([nan, 'JH Kallis', 'P Kumar', 'CL White', 'M Kartik', 'RT Ponting',\n",
       "       'WP Saha', 'AB Agarkar', 'BB McCullum', 'KC Sangakkara',\n",
       "       'IK Pathan', 'PA Patel', 'Joginder Sharma', 'P Amarnath',\n",
       "       'M Manhas', 'B Geeves', 'V Kohli', 'Z Khan', 'MV Boucher',\n",
       "       'AM Nayar', 'L Ronchi', 'LR Shukla', 'Mohammad Hafeez', 'AB Dinda',\n",
       "       'DJ Hussey', 'SC Ganguly', 'RG Sharma', 'SB Styris', 'A Symonds',\n",
       "       'Kamran Akmal', 'RA Jadeja', 'PP Chawla', 'S Dhawan', 'KD Karthik',\n",
       "       'MK Tiwary', 'GD McGrath', 'G Gambhir', 'AC Gilchrist', 'DJ Bravo',\n",
       "       'Harbhajan Singh', 'S Badrinath', 'JDP Oram', 'SK Raina',\n",
       "       'D Salunkhe', 'SB Bangar', 'D Kalyankrishna', 'VVS Laxman',\n",
       "       'DS Kulkarni', 'AM Rahane', 'A Nehra', 'B Lee', 'RR Sarwan',\n",
       "       'Yuvraj Singh', 'MM Patel', 'GC Smith', 'M Rawat', 'Sohail Tanvir',\n",
       "       'A Kumble', 'M Muralitharan', 'MS Dhoni', 'I Sharma', 'PP Ojha',\n",
       "       'DPMD Jayawardene', 'V Sehwag', 'W Jaffer', 'R Vinay Kumar',\n",
       "       'R Dravid', 'MEK Hussey', 'ST Jayasuriya', 'RV Uthappa', 'PR Shah',\n",
       "       'LRPL Taylor', 'VY Mahesh', 'K Goel', 'S Sreesanth', 'SE Marsh',\n",
       "       'Umar Gul', 'SK Trivedi', 'M Kaif', 'SR Watson', 'T Kohli',\n",
       "       'Shoaib Malik', 'PJ Sangwan', 'SP Goswami', 'B Akhil', 'DW Steyn',\n",
       "       'B Chipli', 'AS Yadav', 'LPC Silva', 'DB Ravi Teja', 'BJ Hodge',\n",
       "       'DB Das', 'JR Hopes', 'AB de Villiers', 'SM Pollock', 'SS Tiwary',\n",
       "       'DJ Thornely', 'SK Warne', 'M Ntini', 'U Kaul', 'DT Patil',\n",
       "       'RP Singh', 'Shahid Afridi', 'HH Gibbs', 'YV Takawale',\n",
       "       'YK Pathan', 'SA Asnodkar', 'CK Kapugedera', 'SR Tendulkar',\n",
       "       'CRD Fernando', 'JA Morkel', 'SP Fleming', 'S Vidyut',\n",
       "       'Salman Butt', 'A Chopra', 'NK Patel', 'MF Maharoof', 'TM Dilshan',\n",
       "       'T Taibu', 'RR Raje', 'Younis Khan', 'WA Mota', 'LA Pomersbach',\n",
       "       'RR Powar', 'Misbah-ul-Haq', 'MS Gony', 'R Bhatia', 'DR Smith',\n",
       "       'TM Srivastava', 'VRV Singh', 'SD Chitnis', 'A Mukund',\n",
       "       'Pankaj Singh', 'MK Pandey', 'L Balaji', 'ML Hayden', 'T Thushara',\n",
       "       'R Ashwin', 'JD Ryder', 'DL Vettori', 'DP Nannes', 'Harmeet Singh',\n",
       "       'MC Henriques', 'R Bishnoi', 'A Flintoff', 'CH Gayle',\n",
       "       'Yashpal Singh', 'KP Pietersen', 'KV Sharma', 'Y Venugopal Rao',\n",
       "       'DA Warner', 'Kamran Khan', 'AS Raut', 'RJ Quiney', 'RS Bopara',\n",
       "       'A Mishra', 'Shoaib Ahmed', 'BAW Mendis', 'AN Ghosh', 'JP Duminy',\n",
       "       'MN van Wyk', 'AD Mascarenhas', 'SL Malinga', 'SM Katich',\n",
       "       'RE van der Merwe', 'VS Malik', 'SB Jakati', 'M Vijay',\n",
       "       'SM Harwood', 'NV Ojha', 'RJ Harris', 'LA Carseldine', 'M Morkel',\n",
       "       'TL Suman', 'AD Mathews', 'S Tyagi', 'S Sohal', 'Mashrafe Mortaza',\n",
       "       'AM Salvi', 'SS Shaikh', 'J Botha', 'Mohammad Ashraful',\n",
       "       'Anirudh Singh', 'P Dogra', 'R Sathish', 'MS Bisla', 'EJG Morgan',\n",
       "       'FY Fazal', 'Y Nagar', 'AT Rayudu', 'AP Tare', 'JM Kemp',\n",
       "       'Bipul Sharma', 'CA Pujara', 'AC Voges', 'KA Pollard',\n",
       "       'WPUJC Vaas', 'GJ Bailey', 'J Theron', 'KP Appanna',\n",
       "       'SJ Srivastava', 'MJ Lumb', 'AA Jhunjhunwala', 'SW Tait',\n",
       "       'UT Yadav', 'R McLaren', 'S Ladda', 'KAJ Roach', 'S Narwal',\n",
       "       'S Anirudha', 'DE Bollinger', 'PD Collingwood', 'AA Bilakhia',\n",
       "       'AP Dole', 'Iqbal Abdulla', 'B Sumanth', 'MD Mishra', 'RS Sodhi',\n",
       "       'AG Murtaza', 'JD Unadkat', 'MR Marsh', 'AG Paunikar',\n",
       "       'AL Menaria', 'DJ Jacobs', 'JEC Franklin', 'R Sharma', 'IR Jaggi',\n",
       "       'RN ten Doeschate', 'PC Valthaty', 'S Randiv', 'WD Parnell',\n",
       "       'RV Gomez', 'DT Christian', 'MA Agarwal', 'R Ninan', 'Sunny Singh',\n",
       "       'AJ Finch', 'SB Wagh', 'Shakib Al Hasan', 'NLTC Perera',\n",
       "       'AC Thomas', 'KM Jadhav', 'DH Yagnik', 'STR Binny', 'NL McCullum',\n",
       "       'A Mithun', 'Harpreet Singh', 'J Syed Mohammad', 'F du Plessis',\n",
       "       'AC Blizzard', 'AUK Pathan', 'KB Arun Karthik', 'B Kumar',\n",
       "       'CJ Ferguson', 'Mandeep Singh', 'OA Shah', 'Y Gnaneswara Rao',\n",
       "       'AA Chavan', 'Anand Rajan', 'KH Devdhar', 'AN Ahmed', 'S Aravind',\n",
       "       'JP Faulkner', 'KK Cooper', 'A Singh', 'DAJ Bracewell', 'HV Patel',\n",
       "       'DJ Harris', 'SPD Smith', 'RE Levi', 'RR Bhatkal', 'P Awana',\n",
       "       'S Nadeem', 'T Mishra', 'KMDN Kulasekara', 'N Saini', 'DA Miller',\n",
       "       'LJ Wright', 'Azhar Mahmood', 'GB Hogg', 'RJ Peterson',\n",
       "       'Gurkeerat Singh', 'MJ Clarke', 'A Ashish Reddy', 'P Negi',\n",
       "       'VR Aaron', 'CA Lynn', 'A Chandila', 'UBT Chand', 'SP Narine',\n",
       "       'MG Johnson', 'MN Samuels', 'Ankit Sharma', 'Mohammed Shami',\n",
       "       'R Shukla', 'BMAJ Mendis', 'R Dhawan', 'CH Morris', 'KL Rahul',\n",
       "       'PA Reddy', 'GH Vihari', 'SV Samson', 'BB Samantray', 'Q de Kock',\n",
       "       'MM Sharma', 'SMSM Senanayake', 'R Rampaul', 'AD Russell',\n",
       "       'M Vohra', 'S Kaul', 'BJ Rohrer', 'DJG Sammy', 'P Suyal',\n",
       "       'UA Birla', 'Sachin Baby', 'JO Holder', 'K Upadhyay', 'GJ Maxwell',\n",
       "       'NM Coulter-Nile', 'AR Patel', 'CJ Anderson', 'KW Richardson',\n",
       "       'YS Chahal', 'NJ Maddinson', 'S Rana', 'BW Hilfenhaus', 'MA Starc',\n",
       "       'CM Gautam', 'TG Southee', 'AV Wankhade', 'IC Pandey', 'SA Yadav',\n",
       "       'KK Nair', 'BR Dunk', 'LMP Simmons', 'RR Rossouw', 'Shivam Sharma',\n",
       "       'BCJ Cutting', 'K Santokie', 'BE Hendricks', 'Parvez Rasool',\n",
       "       'Sandeep Sharma', 'Karanveer Singh', 'SS Iyer', 'TA Boult',\n",
       "       'J Suchith', 'KS Williamson', 'PJ Cummins', 'RG More',\n",
       "       'Anureet Singh', 'Imran Tahir', 'R Tewatia', 'J Yadav', 'D Wiese',\n",
       "       'HH Pandya', 'DJ Hooda', 'B Aparajith', 'MJ McClenaghan',\n",
       "       'SN Khan', 'AF Milne', 'C Munro', 'CR Brathwaite', 'KH Pandya',\n",
       "       'Mustafizur Rahman', 'NS Naik', 'JC Buttler', 'PV Tambe',\n",
       "       'BB Sran', 'Ishan Kishan', 'KC Cariappa', 'RR Pant', 'SW Billings',\n",
       "       'V Shankar', 'JJ Bumrah', 'UT Khawaja', 'CJ Jordan', 'ER Dwivedi',\n",
       "       'AS Rajpoot', 'DL Chahar', 'F Behardien', 'Kuldeep Yadav',\n",
       "       'N Rana', 'MP Stoinis', 'BA Stokes', 'B Stanlake', 'Rashid Khan',\n",
       "       'CR Woakes', 'RD Chahar', 'C de Grandhomme', 'JJ Roy',\n",
       "       'RA Tripathi', 'K Rabada', 'Basil Thampi', 'S Badree', 'TS Mills',\n",
       "       'Washington Sundar', 'SN Thakur', 'SP Jackson', 'LH Ferguson',\n",
       "       'TM Head', 'Ankit Soni', 'Mohammed Siraj', 'R Powell',\n",
       "       'MJ Guptill', 'Vishnu Vinod', 'MA Wood', 'E Lewis', 'AJ Tye',\n",
       "       'RK Singh', 'B Laughlin', 'Shivam Mavi', 'K Gowtham',\n",
       "       'Mujeeb Ur Rahman', 'DJM Short', 'TK Curran', 'H Klaasen',\n",
       "       'Avesh Khan', 'LE Plunkett', 'PP Shaw', 'M Markande', 'AD Hales',\n",
       "       'Shubman Gill', 'DJ Willey', 'AD Nath', 'JPR Scantlebury-Searles',\n",
       "       'M Prasidh Krishna', 'Abhishek Sharma', 'MM Ali', 'JC Archer',\n",
       "       'DR Shorey', 'S Dube', 'Rasikh Salam', 'SO Hetmyer',\n",
       "       'Navdeep Saini', 'P Chopra', 'M Ashwin', 'JM Bairstow',\n",
       "       'Mohammad Nabi', 'SM Curran', 'S Lamichhane', 'CA Ingram',\n",
       "       'S Midhun', 'S Gopal', 'KMA Paul', 'Milind Kumar', 'N Pooran',\n",
       "       'SE Rutherford', 'R Parag', 'MJ Santner', 'P Simran Singh',\n",
       "       'LS Livingstone', 'MK Lomror', 'O Thomas', 'S Sandeep Warrier',\n",
       "       'Anmolpreet Singh', 'JL Pattinson', 'D Padikkal', 'PK Garg',\n",
       "       'TU Deshpande', 'KL Nagarkoti', 'KK Ahmed', 'YBK Jaiswal',\n",
       "       'I Udana', 'JDS Neesham', 'CV Varun', 'RD Gaikwad', 'A Nortje',\n",
       "       'AT Carey', 'Ravi Bishnoi', 'AS Roy', 'Abdul Samad',\n",
       "       'Shahbaz Ahmed', 'CJ Green', 'T Natarajan', 'Arshdeep Singh',\n",
       "       'Kartik Tyagi', 'Lalit Yadav', 'DR Sams', 'A Zampa', 'P Dubey',\n",
       "       'C Sakariya', 'M Jansen', 'M Shahrukh Khan', 'Virat Singh',\n",
       "       'RV Patel', 'JA Richardson', 'L Ngidi', 'FA Allen', 'KA Jamieson',\n",
       "       'RM Patidar', 'Harpreet Brar', 'Anuj Rawat', 'DJ Malan',\n",
       "       'GD Phillips', 'JR Hazlewood', 'VR Iyer', 'GHS Garton',\n",
       "       'KS Bharat', 'AK Markram', 'TL Seifert', 'Tilak Varma', 'TH David',\n",
       "       'MS Wade', 'Akash Deep', 'OF Smith', 'A Manohar', 'D Pretorius',\n",
       "       'JM Sharma', 'A Badoni', 'D Brevis', 'Umran Malik',\n",
       "       'Ramandeep Singh', 'B Sai Sudharsan', 'SS Prabhudessai',\n",
       "       'VG Arora', 'HE van der Dussen', 'Shashank Singh', 'PVD Chameera',\n",
       "       'PWH de Silva', 'NT Ellis', 'Mukesh Choudhary', 'RP Meredith',\n",
       "       'HR Shokeen', 'KR Sen', 'AS Joseph', 'B Indrajith', 'DJ Mitchell',\n",
       "       'Simarjeet Singh', 'DP Conway', 'PBB Rajapaksa', 'R Sai Kishore',\n",
       "       'Yash Dayal', 'M Pathirana', 'PN Mankad', 'Mohsin Khan',\n",
       "       'OC McCoy', 'Rahmanullah Gurbaz', 'Sikandar Raza', 'KR Mayers',\n",
       "       'Fazalhaq Farooqi', 'KM Asif', 'Yash Thakur', 'J Little',\n",
       "       'Abishek Porel', 'MW Short', 'N Jagadeesan', 'C Green',\n",
       "       'JP Behrendorff', 'N Wadhera', 'Arshad Khan', 'Mukesh Kumar',\n",
       "       'SSB Magala', 'Aman Hakim Khan', 'YV Dhull', 'D Jansen',\n",
       "       'M Theekshana', 'Atharva Taide', 'Akash Singh', 'Naveen-ul-Haq',\n",
       "       'HC Brook', 'PD Salt', 'Vijaykumar Vyshak', 'Harshit Rana',\n",
       "       'SK Rasheed', 'Sonu Yadav', 'R Goyal', 'Noor Ahmad', 'JE Root',\n",
       "       'Dhruv Jurel', 'MG Bracewell', 'MD Shanaka', 'D Ferreira',\n",
       "       'K Kartikeya', 'Nithish Kumar Reddy', 'Subhransu Senapati',\n",
       "       'R Ravindra', 'Tanay Thyagarajan', 'Suyash Sharma', 'N Burger',\n",
       "       'Naman Dhir', 'Sameer Rizvi', 'T Stubbs', 'DG Nalkande',\n",
       "       'Mayank Dagar', 'J Fraser-McGurk', 'BR Sharath', 'Akash Madhwal',\n",
       "       'RJW Topley', 'Tanush Kotian', 'KA Maharaj', 'A Raghuvanshi',\n",
       "       'Sumit Kumar', 'SH Johnson', 'Ashutosh Sharma', 'SD Hope',\n",
       "       'LB Williams', 'MP Yadav', 'N Thushara', 'G Coetzee',\n",
       "       'Swapnil Singh', 'A Kamboj', 'Sanvir Singh', 'WG Jacks',\n",
       "       'Kumar Kushagra', 'Gulbadin Naib', 'Shivam Singh', 'V Viyaskanth',\n",
       "       'T Kohler-Cadmore'], dtype=object)"
      ]
     },
     "execution_count": 98,
     "metadata": {},
     "output_type": "execute_result"
    }
   ],
   "source": [
    "deliveries['fielder'].unique()"
   ]
  },
  {
   "cell_type": "markdown",
   "id": "6d3428c8-f6c4-4896-b792-b5b72b2f54aa",
   "metadata": {},
   "source": [
    "- fielders who caused the dismissal of the player\n",
    "- therefore null values are valid."
   ]
  },
  {
   "cell_type": "markdown",
   "id": "e3009e97-9a48-48b9-9a6a-ca11845312d9",
   "metadata": {},
   "source": [
    "#### checking duplicate rows"
   ]
  },
  {
   "cell_type": "code",
   "execution_count": 156,
   "id": "5e07b169-f087-4379-b25b-924a7d281eae",
   "metadata": {},
   "outputs": [
    {
     "data": {
      "text/html": [
       "<div>\n",
       "<style scoped>\n",
       "    .dataframe tbody tr th:only-of-type {\n",
       "        vertical-align: middle;\n",
       "    }\n",
       "\n",
       "    .dataframe tbody tr th {\n",
       "        vertical-align: top;\n",
       "    }\n",
       "\n",
       "    .dataframe thead th {\n",
       "        text-align: right;\n",
       "    }\n",
       "</style>\n",
       "<table border=\"1\" class=\"dataframe\">\n",
       "  <thead>\n",
       "    <tr style=\"text-align: right;\">\n",
       "      <th></th>\n",
       "      <th>match_id</th>\n",
       "      <th>inning</th>\n",
       "      <th>batting_team</th>\n",
       "      <th>bowling_team</th>\n",
       "      <th>over</th>\n",
       "      <th>ball</th>\n",
       "      <th>batter</th>\n",
       "      <th>bowler</th>\n",
       "      <th>non_striker</th>\n",
       "      <th>batsman_runs</th>\n",
       "      <th>extra_runs</th>\n",
       "      <th>total_runs</th>\n",
       "      <th>extras_type</th>\n",
       "      <th>is_wicket</th>\n",
       "      <th>player_dismissed</th>\n",
       "      <th>dismissal_kind</th>\n",
       "      <th>fielder</th>\n",
       "    </tr>\n",
       "  </thead>\n",
       "  <tbody>\n",
       "  </tbody>\n",
       "</table>\n",
       "</div>"
      ],
      "text/plain": [
       "Empty DataFrame\n",
       "Columns: [match_id, inning, batting_team, bowling_team, over, ball, batter, bowler, non_striker, batsman_runs, extra_runs, total_runs, extras_type, is_wicket, player_dismissed, dismissal_kind, fielder]\n",
       "Index: []"
      ]
     },
     "execution_count": 156,
     "metadata": {},
     "output_type": "execute_result"
    }
   ],
   "source": [
    "deliveries[deliveries.duplicated()]"
   ]
  },
  {
   "cell_type": "code",
   "execution_count": null,
   "id": "3a13adfb-f738-4a3f-b835-68e53a67d4d1",
   "metadata": {},
   "outputs": [],
   "source": [
    "- their isn't any d"
   ]
  }
 ],
 "metadata": {
  "kernelspec": {
   "display_name": "Python 3 (ipykernel)",
   "language": "python",
   "name": "python3"
  },
  "language_info": {
   "codemirror_mode": {
    "name": "ipython",
    "version": 3
   },
   "file_extension": ".py",
   "mimetype": "text/x-python",
   "name": "python",
   "nbconvert_exporter": "python",
   "pygments_lexer": "ipython3",
   "version": "3.12.4"
  }
 },
 "nbformat": 4,
 "nbformat_minor": 5
}
